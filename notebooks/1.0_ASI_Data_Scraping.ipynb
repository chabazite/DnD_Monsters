{
 "cells": [
  {
   "cell_type": "markdown",
   "metadata": {},
   "source": [
    "# DnD Monsters: Dice and Data\n",
    "As a Dungeon Master, it is very important to understand the strength of the monsters you pit against your players. Too weak, they are bored, too strong, they die or worse..they don't have fun. The current method known as Challenge Rating, CR, is a numerical system used to determine how difficult an enemey is based on a party of 4 players. Challenge Ratings range from 0 to 30. Unfortunately, this method is very basic and often times does not actually hold true to every encounter. \n",
    "\n",
    "One thing that isn't accounted for is action economy. This is the biggest detroyer of players, the strongest weapon in your arsenal. If your players are facing 100 monsters, that's 100 turns. Even if you manage to kill a good chunk of them, the majority will make it through and some of them...with critical hits. Thus is a much more difficult encounter than an equally XP worthwhile monster, with say 2 attacks. \n",
    "\n",
    "Wizards of the Coast not only provide a guideline for how much XP you should have per level per day, but they also show you how much a party of 4 at X level can stomach during one encounter. They also provide an XP multiplier that takes multiple monsters into consideration. For example, 10 monsters get a x2.5 XP multiplier, causing their total XP rating to jump up for the encounter, potentially making them deadly. Action Economy rules all. \n",
    "\n",
    "CR is unfortunately not a great method for measuring a monster's strength. It uses AC, HP, attack bonus, damage per round and Save DC as a general guideline. It doesn't take into account legendary action, at will spells, special abilities that cause status ailments, or any other boosting abilities.\n",
    "\n",
    "There are two CRs: Defensive and Offensive, used to calulate the total CR of a monster. Using the chart provided you find the average of the CR indicated by the HP and AC. Offensive does the same thing but uses DPR and Attack Bonus. Then by averaging the two CRs we get our final monster Challenge Rating. As you can see this doesn't take into account any of the strong abilities a monster may have. Similarly, you may have a weak physical monster that uses spells that is vastly lower in CR than it should be. \n",
    "\n",
    "WoTC has augmented this system by applying multipliers or increases based on other features, trains, or abilities the monster may have. \n",
    "\n",
    "www.dndbeyond.com/monsters has many pages of monster listings. Each listing has a dropdown that has a monster table associated with it. This contains stats, abilities, and other important details. \n",
    "\n",
    "Unfortunately, dndbeyond has shut down its ability to scrape through automation detection software. I don't intend to break to ToS, so I will use the SRD from the dandwiki.com page instead. \n",
    "\n",
    "The goal of this investigation is to learn more about Monster's abilities in relation to the CR system. To understand if there are corellations in any of the stats, abilities, environments, size, etc. To see if we can classify monsters based on any of these traits. To create a dashboard that pits monsters against each other to compare. Finally, to see if there is a way to better address the CR system and use abilities, traits, features, and spells in a more cohesive manner \n"
   ]
  },
  {
   "cell_type": "markdown",
   "metadata": {},
   "source": [
    "## Libraries for Parsing\n",
    "First we need to gain access to our monster data sheet. as stated above, dndbeyond.com has a great repository of monster data. This will need to be scrapped from there site. Unfortuntately, each of the monster pages is hidden behind an accordion dropdown and will need to be extracted. This is something I have not yet done, so I am excited to try. We will start out using Requests and BeautifulSoup since I am most comfortable with these."
   ]
  },
  {
   "cell_type": "code",
   "execution_count": 1,
   "metadata": {},
   "outputs": [],
   "source": [
    "#Import Libraries for scrapping\n",
    "from bs4 import BeautifulSoup as bs\n",
    "import requests as rq\n",
    "import pandas as pd"
   ]
  },
  {
   "cell_type": "markdown",
   "metadata": {},
   "source": [
    "## Get Request for Monster Names"
   ]
  },
  {
   "cell_type": "code",
   "execution_count": 2,
   "metadata": {},
   "outputs": [],
   "source": [
    "#Fetching HTML\n",
    "url = \"https://www.dandwiki.com/wiki/5e_SRD:Monsters\"\n",
    "Request = rq.get(url).text\n",
    "\n",
    "soup = bs(Request, 'html.parser')"
   ]
  },
  {
   "cell_type": "markdown",
   "metadata": {},
   "source": [
    "# Collect Names of All Monsters in a List \n",
    "Unfortunately, dndwiki is not well crafted, which meant I needed to get creative. There weren't distinguishing classes or names or ids. styles between tables were a bit different, so i used that to gather the information needed."
   ]
  },
  {
   "cell_type": "code",
   "execution_count": 3,
   "metadata": {},
   "outputs": [],
   "source": [
    "#Find the main content div and and extract it for processing\n",
    "#This involves finding the list items that are only housed within the parent table that has a width of 100%.\n",
    "tables = soup.findAll('table',{'style':\"width: 100%;\"})\n",
    "monster_names=[]\n",
    "\n",
    "for table in tables:\n",
    "    li_table = table.findAll('li')\n",
    "    for name in li_table:\n",
    "          monster_names.append(name.text)"
   ]
  },
  {
   "cell_type": "markdown",
   "metadata": {},
   "source": [
    "# Clean up data\n",
    "We need to remove duplicates and non-monsters from the list "
   ]
  },
  {
   "cell_type": "code",
   "execution_count": 4,
   "metadata": {},
   "outputs": [],
   "source": [
    "#Remove the non-monster data\n",
    "\n",
    "#Remove Duplicate monsters if there are any\n",
    "monster_names = list(set(monster_names))\n",
    "monster_list=[]\n",
    "#filter through and replace spaces with dashes to format for urls\n",
    "for name in monster_names:\n",
    "    if not(name.strip().isdigit()):\n",
    "        new_name = name.replace(' ','-')\n",
    "        monster_list.append(new_name)\n",
    "    else:\n",
    "        monster_list.append(name)\n",
    "\n"
   ]
  },
  {
   "cell_type": "markdown",
   "metadata": {},
   "source": [
    "# Dictionary of URLs to parse\n",
    "We will iterate through the monster name, knowing that dandwiki has a uniform site for all monsters pages www.dandwiki.com/wiki/5e_SRD:'MonsterName'."
   ]
  },
  {
   "cell_type": "code",
   "execution_count": 6,
   "metadata": {},
   "outputs": [],
   "source": [
    "monster_url=[]\n",
    "for name in monster_list:\n",
    "    monster_url.append('https://www.dndbeyond.com/monsters/'+name)\n"
   ]
  },
  {
   "cell_type": "markdown",
   "metadata": {},
   "source": [
    "## Iterate through the websites to parse all the data\n",
    "There are still some things on here that are not monsters (they summon monsters). For example the Deck of Many Things. This will break and analysis or modeling we try to do, so we need to remove them. We can look at all things monsters have in common that these other objects do not. Unfortunately, the DoMT and the figures of power also contain niche \"monster\" stats for their monsters. We will include these in our table, however Zombies and Dinosaurs do not, since they are just a category of many monsters, all of which are included in the list already. "
   ]
  },
  {
   "cell_type": "code",
   "execution_count": 8,
   "metadata": {},
   "outputs": [],
   "source": [
    "from collections import defaultdict\n",
    "\n",
    "#function to make sure each get request is functioning properly and to parse the url\n",
    "def Run_Soup_If_Status_Ok(url):\n",
    "    request =rq.get(url)\n",
    "    soup = bs(request.text, 'html.parser')\n",
    "    return soup\n",
    "\n",
    "\n",
    "monster_dict=defaultdict(list)\n",
    "\n",
    "#append dictionary with monster name and the soupy information\n",
    "for name,url in zip(monster_names,monster_url):\n",
    "    monster_dict[name].append(Run_Soup_If_Status_Ok(url))\n"
   ]
  },
  {
   "cell_type": "markdown",
   "metadata": {},
   "source": [
    "# Helper functions for the full Parse"
   ]
  },
  {
   "cell_type": "markdown",
   "metadata": {},
   "source": [
    "# Create a data frame by parsing the Monster HTML tables\n",
    "I am going to create an empty dictionary with keys from the extracted column names above. this dictionary will be converted into a pandas dataframe."
   ]
  },
  {
   "cell_type": "markdown",
   "metadata": {},
   "source": [
    "# Fill in the monster_dict with records extracted from our HTML\n"
   ]
  },
  {
   "cell_type": "code",
   "execution_count": null,
   "metadata": {},
   "outputs": [],
   "source": []
  },
  {
   "cell_type": "markdown",
   "metadata": {},
   "source": [
    "# Create DataFrame from filled monster_dict"
   ]
  },
  {
   "cell_type": "code",
   "execution_count": null,
   "metadata": {},
   "outputs": [],
   "source": [
    "#ensure listlengths are the same\n",
    "list_length = []\n",
    "\n",
    "for col in monster_dict:\n",
    "    list_length.append(len(monster_dict[col]))\n",
    "print(list_length)\n",
    "\n",
    "monster_df = pd.DataFrame(monster_dict)\n",
    "\n",
    "monster_df"
   ]
  },
  {
   "cell_type": "code",
   "execution_count": 4,
   "metadata": {},
   "outputs": [
    {
     "name": "stderr",
     "output_type": "stream",
     "text": [
      "C:\\Users\\ingal\\AppData\\Local\\Temp\\ipykernel_23144\\15236720.py:7: DeprecationWarning: executable_path has been deprecated, please pass in a Service object\n",
      "  driver = webdriver.Chrome(executable_path='../env/chromedriver.exe')\n"
     ]
    }
   ],
   "source": [
    "from selenium import webdriver\n",
    "from bs4 import BeautifulSoup\n",
    "\n",
    "url = 'https://www.dndbeyond.com/monsters/mummy-lord'\n",
    "\n",
    "\n",
    "driver = webdriver.Chrome(executable_path='../env/chromedriver.exe')\n",
    "\n",
    "driver.get(url)\n",
    "\n",
    "driver.implicitly_wait(5)\n",
    "\n",
    "soup = BeautifulSoup(driver.page_source, 'lxml')\n",
    "\n",
    "stat_block = soup.find('div',{'class':'mon-stat-block'})\n",
    "Environment = soup.find('footer')\n",
    "\n",
    "\n"
   ]
  },
  {
   "cell_type": "code",
   "execution_count": 52,
   "metadata": {},
   "outputs": [],
   "source": [
    "\n",
    "column_names = ['Monster Name','Size','Type', 'Alignment','Traits', 'Damage Resistances', 'Monster Tags', 'Mythic Actions', 'Reactions','Source']\n",
    "#First set of column names from 'label span'\n",
    "for headers in stat_block.findAll('span',{'class': lambda e: e.endswith('label') if e else False}):    \n",
    "    column_names.append(headers.text)\n",
    "    \n",
    "for headers in stat_block.findAll('div',{'class': lambda e: e.endswith('heading') if e else False}):    \n",
    "    column_names.append(headers.text)\n",
    "\n",
    "for headers in Environment.findAll('p',{'class': lambda e: e.startswith('environment-tags') if e else False}):    \n",
    "    column_names.append(headers.contents[0].strip())\n"
   ]
  },
  {
   "cell_type": "markdown",
   "metadata": {},
   "source": [
    "# Create Empty Dictionary with Keys from the Extracted Column Names"
   ]
  },
  {
   "cell_type": "code",
   "execution_count": 166,
   "metadata": {},
   "outputs": [
    {
     "data": {
      "text/plain": [
       "{'Monster Name': [],\n",
       " 'Size': [],\n",
       " 'Type': [],\n",
       " 'Alignment': [],\n",
       " 'Traits': [],\n",
       " 'Damage Resistances': [],\n",
       " 'Monster Tags': [],\n",
       " 'Mythic Actions': [],\n",
       " 'Reactions': [],\n",
       " 'Source': [],\n",
       " 'Armor Class': [],\n",
       " 'Hit Points': [],\n",
       " 'Speed': [],\n",
       " 'Saving Throws': [],\n",
       " 'Skills': [],\n",
       " 'Damage Vulnerabilities': [],\n",
       " 'Damage Immunities': [],\n",
       " 'Condition Immunities': [],\n",
       " 'Senses': [],\n",
       " 'Languages': [],\n",
       " 'Challenge': [],\n",
       " 'Proficiency Bonus': [],\n",
       " 'STR': [],\n",
       " 'DEX': [],\n",
       " 'CON': [],\n",
       " 'INT': [],\n",
       " 'WIS': [],\n",
       " 'CHA': [],\n",
       " 'Actions': [],\n",
       " 'Legendary Actions': [],\n",
       " 'Environment:': []}"
      ]
     },
     "execution_count": 166,
     "metadata": {},
     "output_type": "execute_result"
    }
   ],
   "source": [
    "monster_dict = dict.fromkeys(column_names)\n",
    "\n",
    "#Initialize the monster_dic with each value for all keys to be an empty list\n",
    "for column in column_names:\n",
    "    monster_dict[column] = []\n",
    "\n",
    "monster_dict"
   ]
  },
  {
   "cell_type": "markdown",
   "metadata": {},
   "source": [
    "## Add Values of Mummy Data into our Dictionary"
   ]
  },
  {
   "cell_type": "code",
   "execution_count": 167,
   "metadata": {},
   "outputs": [],
   "source": [
    "# Monster Name\n",
    "monster_name = stat_block.find('div', {'class':'mon-stat-block__name'}).text\n",
    "monster_dict['Monster Name'].append(' '.join(str(monster_name).split())) \n",
    "\n",
    "\n",
    "#This next set (Size,Alignment, and Type) will split the single meta text using split() and replace() functions\n",
    "monster_subinfo = stat_block.find('div', {'class':'mon-stat-block__meta'})\n",
    "monster_subinfo=monster_subinfo.text\n",
    "\n",
    "# Size (first word)\n",
    "monster_size = monster_subinfo.split()[0]\n",
    "monster_dict['Size'].append(monster_size) \n",
    "# Alignment (after comma)\n",
    "monster_alignment = monster_subinfo.split(', ')[-1]\n",
    "monster_dict['Alignment'].append(monster_alignment) \n",
    "# Type (remaining words). The sublist will remove the above two variables from the text, as well as the loose comma.\n",
    "#It will also create a list for the type, as sometimes there are sub-types associated with monsters (e.g Titan)\n",
    "sub_list=(monster_size,monster_alignment, ', ')\n",
    "monster_type = monster_subinfo\n",
    "for substring in sub_list:\n",
    "    monster_type = monster_type.replace(substring,'')\n",
    "monster_type=monster_type.split()\n",
    "monster_dict['Type'].append(monster_type) \n",
    "\n",
    "#find all attribute metrics\n",
    "attribute_data = stat_block.findAll('span',{'class':'mon-stat-block__attribute-data-value'})\n",
    "\n",
    "# Armor Class\n",
    "monster_ac = ' '.join(str(attribute_data[0].text).split())\n",
    "monster_dict['Armor Class'].append(monster_ac)\n",
    "# Hit Points\n",
    "monster_hp = ' '.join(str(attribute_data[1].text).split())\n",
    "monster_dict['Hit Points'].append(monster_hp)\n",
    "# Speed\n",
    "monster_speed = ' '.join(str(attribute_data[2].text).split())\n",
    "monster_dict['Speed'].append(monster_speed)\n",
    "\n",
    "\n",
    "#find all tidbit  metrics\n",
    "tidbit_label = stat_block.findAll('span', {'class':'mon-stat-block__tidbit-label'})\n",
    "\n",
    "for label in tidbit_label:    \n",
    "    '''\n",
    "    Because the tidbits column shifts based on the monster, we can't index the rows, as they\n",
    "    are added or deleted based on the monster. So instead, we will write a for loop that loops through \n",
    "    the monsters tidbit headings (e.g. Skills, Saving Throws, etc.) and if they exits, it will take\n",
    "    the sibling data (i.e. it will take the actual data corresponding to each heading) and deposit it into the dictionary.\n",
    "    Any columns not in the monster data will be left blank for now. Each if statement is labeled with the corresponding tidbit.\n",
    "    '''\n",
    "    if label.text == \"Saving Throws\":\n",
    "        monster_saving_throw = ' '.join(str(label.find_next_sibling('span').text).split())\n",
    "        monster_dict['Saving Throws'].append(monster_saving_throw)\n",
    "    elif label.text == \"Skills\":\n",
    "        monster_skills = ' '.join(str(label.find_next_sibling('span').text).split())\n",
    "        monster_dict['Skills'].append(monster_skills)\n",
    "    elif label.text == \"Damage Vulnerabilities\":    \n",
    "        monster_damage_vulnerability = ' '.join(str(label.find_next_sibling('span').text).split())\n",
    "        monster_dict['Damage Vulnerabilities'].append(monster_damage_vulnerability)\n",
    "    elif label.text == \"Damage Immunities\":\n",
    "        monster_damage_immunity = ' '.join(str(label.find_next_sibling('span').text).split())\n",
    "        monster_dict['Damage Immunities'].append(monster_damage_immunity)\n",
    "    elif label.text == 'Condition Immunities':\n",
    "        monster_condition_immunity = ' '.join(str(label.find_next_sibling('span').text).split())\n",
    "        monster_dict['Condition Immunities'].append(monster_condition_immunity)\n",
    "    elif label.text == 'Senses':\n",
    "        monster_senses = ' '.join(str(label.find_next_sibling('span').text).split())\n",
    "        monster_dict['Senses'].append(monster_senses)\n",
    "    elif label.text == 'Languages':\n",
    "        monster_languages = ' '.join(str(label.find_next_sibling('span').text).split())\n",
    "        monster_dict['Languages'].append(monster_languages)\n",
    "    elif label.text == 'Challenge':\n",
    "        monster_challenge= ' '.join(str(label.find_next_sibling('span').text).split())\n",
    "        monster_dict['Challenge'].append(monster_challenge)\n",
    "    elif label.text == 'Proficiency Bonus':\n",
    "        monster_proficiency = ' '.join(str(label.find_next_sibling('span').text).split())\n",
    "        monster_dict['Proficiency Bonus'].append(monster_proficiency)\n",
    "    elif label.text == 'Damage Resistences':\n",
    "        monster_damage_resistence = ' '.join(str(label.find_next_sibling('span').text).split())\n",
    "        monster_dict['Damage Resistences'].append(monster_damage_resistence)\n",
    "\n",
    "\n",
    "#find all ability score metrics\n",
    "ability_scores = stat_block.findAll('span',{'class':'ability-block__score'})\n",
    "    # STR Score\n",
    "monster_str = ability_scores[0].text\n",
    "monster_dict['STR'].append(monster_str)\n",
    "    # DEX Score\n",
    "monster_dex = ability_scores[1].text\n",
    "monster_dict['DEX'].append(monster_dex)\n",
    "    # CON Score\n",
    "monster_con = ability_scores[2].text\n",
    "monster_dict['CON'].append(monster_con)\n",
    "    # INT Score\n",
    "monster_int = ability_scores[3].text\n",
    "monster_dict['INT'].append(monster_int)\n",
    "    # WIS Score\n",
    "monster_wis = ability_scores[4].text\n",
    "monster_dict['WIS'].append(monster_wis)\n",
    "    # CHA Score\n",
    "monster_cha = ability_scores[5].text\n",
    "monster_dict['CHA'].append(monster_cha)    \n",
    "    \n",
    "# Traits: because traits doesn't contain any defining HTML or any headings such as Actions or Legendary Actions\n",
    "# I searched through all the description blocks of the text. If they don't contain the div 'heading' then we print\n",
    "# This allows us to only print the traits and to place them in a list if need be for later wrangling and analysis. \n",
    "             \n",
    "trait_list = []\n",
    "description_block = stat_block.findAll('div', {'class':'mon-stat-block__description-block'})\n",
    "for block in description_block:\n",
    "     if not block.findAll('div',{'class':'mon-stat-block__description-block-heading'}):\n",
    "        for p in block.findAll('p'):\n",
    "            trait_list.append(p.text)\n",
    "\n",
    "#Remaining descriptions that had headings\n",
    "description_heading = stat_block.findAll('div', {'class':'mon-stat-block__description-block-heading'})\n",
    "action_list=[]\n",
    "for heading in description_heading:    \n",
    "    '''\n",
    "    Because the description column shifts based on the monster, we can't index the rows, as they\n",
    "    are added or deleted based on the monster. So instead, we will write a for loop that loops through \n",
    "    the monsters description headings (e.g. Actions, Legendary Actions, etc.) and if they exits, it will take\n",
    "    the sibling data (i.e. it will take the actual data corresponding to each heading) and deposit it into the dictionary.\n",
    "    Any columns not in the monster data will be left blank for now. Each if statement is labeled with the corresponding tidbit.\n",
    "    '''\n",
    "    action_list=[]\n",
    "    if heading.text == \"Actions\":\n",
    "        monster_actions = heading.find_next_sibling('div')\n",
    "        for p in monster_actions.findAll('p'):\n",
    "           action_list.append(p.text.strip())\n",
    "        monster_dict['Actions'].append(action_list)\n",
    "    elif heading.text == \"Legendary Actions\":\n",
    "        monster_legendary_actions = heading.find_next_sibling('div')\n",
    "        for p in monster_legendary_actions.findAll('p'):\n",
    "           action_list.append(p.text.strip())\n",
    "        monster_dict['Legendary Actions'].append(action_list)\n",
    "    elif heading.text == \"Mythic Actions\":\n",
    "        monster_mythic_actions = heading.find_next_sibling('div')\n",
    "        for p in monster_mythic_actions.findAll('p'):\n",
    "           action_list.append(p.text.strip())\n",
    "        monster_dict['Mythic Actions'].append(action_list)\n",
    "    elif heading.text == \"Reactions\":\n",
    "        monster_reactions = heading.find_next_sibling('div')\n",
    "        for p in monster_reactions.findAll('p'):\n",
    "           action_list.append(p.text.strip())\n",
    "        monster_dict['Reactions'].append(action_list)\n",
    "         \n",
    "#These final traits are either referring to the environment it lives in (can be multiple), the sub type its classified as,\n",
    "# or the source book it came from. all of these or none of these may be represented in the monster sheet.\n",
    "monster_tags = Environment.findAll('span') \n",
    "\n",
    "for tag in Environment.find_all(\"p\"):\n",
    "       \n",
    "    if (tag.contents[0].strip()) == \"Environment:\":\n",
    "       monster_dict['Environment:'].append(monster_tags[0].text)\n",
    "    elif (tag.contents[0].strip()) == \"Monster Tags:\":\n",
    "        monster_dict['Monster Tags'].append(monster_tags[1].text)\n",
    "    else:\n",
    "        monster_dict['Source'].append(tag.contents[0].strip())\n"
   ]
  },
  {
   "cell_type": "code",
   "execution_count": 169,
   "metadata": {},
   "outputs": [
    {
     "data": {
      "text/plain": [
       "[\"The mummy lord can take 3 legendary actions, choosing from the options below. Only one legendary action option can be used at a time and only at the end of another creature's turn. The mummy lord regains spent legendary actions at the start of its turn.\",\n",
       " 'Attack. The mummy lord makes one attack with its rotting fist or uses its Dreadful Glare.',\n",
       " \"Blinding Dust. Blinding dust and sand swirls magically around the mummy lord. Each creature within 5 feet of the mummy lord must succeed on a DC 16 Constitution saving throw or be blinded until the end of the creature's next turn.\",\n",
       " \"Blasphemous Word (Costs 2 Actions). The mummy lord utters a blasphemous word. Each non-undead creature within 10 feet of the mummy lord that can hear the magical utterance must succeed on a DC 16 Constitution saving throw or be stunned until the end of the mummy lord's next turn.\",\n",
       " \"Channel Negative Energy (Costs 2 Actions). The mummy lord magically unleashes negative energy. Creatures within 60 feet of the mummy lord, including ones behind barriers and around corners, can't regain hit points until the end of the mummy lord's next turn.\",\n",
       " \"Whirlwind of Sand (Costs 2 Actions). The mummy lord magically transforms into a whirlwind of sand, moves up to 60 feet, and reverts to its normal form. While in whirlwind form, the mummy lord is immune to all damage, and it can't be grappled, petrified, knocked prone, restrained, or stunned. Equipment worn or carried by the mummy lord remain in its possession.\"]"
      ]
     },
     "execution_count": 169,
     "metadata": {},
     "output_type": "execute_result"
    }
   ],
   "source": [
    "description_heading = stat_block.findAll('div', {'class':'mon-stat-block__description-block-heading'})\n",
    "action_list=[]\n",
    "for heading in description_heading:    \n",
    "    '''\n",
    "    Because the description column shifts based on the monster, we can't index the rows, as they\n",
    "    are added or deleted based on the monster. So instead, we will write a for loop that loops through \n",
    "    the monsters description headings (e.g. Actions, Legendary Actions, etc.) and if they exits, it will take\n",
    "    the sibling data (i.e. it will take the actual data corresponding to each heading) and deposit it into the dictionary.\n",
    "    Any columns not in the monster data will be left blank for now. Each if statement is labeled with the corresponding tidbit.\n",
    "    '''\n",
    "    action_list=[]\n",
    "    if heading.text == \"Legendary Actions\":\n",
    "        monster_legendary_actions = heading.find_next_sibling('div')\n",
    "        for p in monster_legendary_actions.findAll('p'):\n",
    "           action_list.append(p.text.strip())\n",
    "action_list"
   ]
  },
  {
   "cell_type": "code",
   "execution_count": 164,
   "metadata": {},
   "outputs": [
    {
     "ename": "ValueError",
     "evalue": "invalid literal for int() with base 10: 'Mummy Lord'",
     "output_type": "error",
     "traceback": [
      "\u001b[1;31m---------------------------------------------------------------------------\u001b[0m",
      "\u001b[1;31mValueError\u001b[0m                                Traceback (most recent call last)",
      "Input \u001b[1;32mIn [164]\u001b[0m, in \u001b[0;36m<module>\u001b[1;34m\u001b[0m\n\u001b[0;32m      1\u001b[0m \u001b[38;5;66;03m#ensure listlengths are the same\u001b[39;00m\n\u001b[0;32m      2\u001b[0m \u001b[38;5;28;01mimport\u001b[39;00m \u001b[38;5;21;01mpandas\u001b[39;00m \u001b[38;5;28;01mas\u001b[39;00m \u001b[38;5;21;01mpd\u001b[39;00m\n\u001b[1;32m----> 5\u001b[0m monster_dict \u001b[38;5;241m=\u001b[39m \u001b[38;5;28mdict\u001b[39m([ (k,pd\u001b[38;5;241m.\u001b[39mSeries(v, dtype\u001b[38;5;241m=\u001b[39m\u001b[38;5;28mint\u001b[39m)) \u001b[38;5;28;01mfor\u001b[39;00m k,v \u001b[38;5;129;01min\u001b[39;00m monster_dict\u001b[38;5;241m.\u001b[39mitems()])\n\u001b[0;32m      6\u001b[0m monster_dict\n\u001b[0;32m      7\u001b[0m \u001b[38;5;66;03m#list_length = []\u001b[39;00m\n\u001b[0;32m      8\u001b[0m \n\u001b[0;32m      9\u001b[0m \u001b[38;5;66;03m#for col in monster_dict:\u001b[39;00m\n\u001b[0;32m     10\u001b[0m \u001b[38;5;66;03m#    list_length.append(len(monster_dict[col]))\u001b[39;00m\n\u001b[0;32m     11\u001b[0m \u001b[38;5;66;03m#print(list_length)\u001b[39;00m\n\u001b[0;32m     12\u001b[0m \u001b[38;5;66;03m#\u001b[39;00m\n",
      "Input \u001b[1;32mIn [164]\u001b[0m, in \u001b[0;36m<listcomp>\u001b[1;34m(.0)\u001b[0m\n\u001b[0;32m      1\u001b[0m \u001b[38;5;66;03m#ensure listlengths are the same\u001b[39;00m\n\u001b[0;32m      2\u001b[0m \u001b[38;5;28;01mimport\u001b[39;00m \u001b[38;5;21;01mpandas\u001b[39;00m \u001b[38;5;28;01mas\u001b[39;00m \u001b[38;5;21;01mpd\u001b[39;00m\n\u001b[1;32m----> 5\u001b[0m monster_dict \u001b[38;5;241m=\u001b[39m \u001b[38;5;28mdict\u001b[39m([ (k,\u001b[43mpd\u001b[49m\u001b[38;5;241;43m.\u001b[39;49m\u001b[43mSeries\u001b[49m\u001b[43m(\u001b[49m\u001b[43mv\u001b[49m\u001b[43m,\u001b[49m\u001b[43m \u001b[49m\u001b[43mdtype\u001b[49m\u001b[38;5;241;43m=\u001b[39;49m\u001b[38;5;28;43mint\u001b[39;49m\u001b[43m)\u001b[49m) \u001b[38;5;28;01mfor\u001b[39;00m k,v \u001b[38;5;129;01min\u001b[39;00m monster_dict\u001b[38;5;241m.\u001b[39mitems()])\n\u001b[0;32m      6\u001b[0m monster_dict\n\u001b[0;32m      7\u001b[0m \u001b[38;5;66;03m#list_length = []\u001b[39;00m\n\u001b[0;32m      8\u001b[0m \n\u001b[0;32m      9\u001b[0m \u001b[38;5;66;03m#for col in monster_dict:\u001b[39;00m\n\u001b[0;32m     10\u001b[0m \u001b[38;5;66;03m#    list_length.append(len(monster_dict[col]))\u001b[39;00m\n\u001b[0;32m     11\u001b[0m \u001b[38;5;66;03m#print(list_length)\u001b[39;00m\n\u001b[0;32m     12\u001b[0m \u001b[38;5;66;03m#\u001b[39;00m\n",
      "File \u001b[1;32mc:\\Users\\ingal\\Documents\\Data Science Work\\DnD_Monsters\\env\\lib\\site-packages\\pandas\\core\\series.py:439\u001b[0m, in \u001b[0;36mSeries.__init__\u001b[1;34m(self, data, index, dtype, name, copy, fastpath)\u001b[0m\n\u001b[0;32m    437\u001b[0m         data \u001b[38;5;241m=\u001b[39m data\u001b[38;5;241m.\u001b[39mcopy()\n\u001b[0;32m    438\u001b[0m \u001b[38;5;28;01melse\u001b[39;00m:\n\u001b[1;32m--> 439\u001b[0m     data \u001b[38;5;241m=\u001b[39m \u001b[43msanitize_array\u001b[49m\u001b[43m(\u001b[49m\u001b[43mdata\u001b[49m\u001b[43m,\u001b[49m\u001b[43m \u001b[49m\u001b[43mindex\u001b[49m\u001b[43m,\u001b[49m\u001b[43m \u001b[49m\u001b[43mdtype\u001b[49m\u001b[43m,\u001b[49m\u001b[43m \u001b[49m\u001b[43mcopy\u001b[49m\u001b[43m)\u001b[49m\n\u001b[0;32m    441\u001b[0m     manager \u001b[38;5;241m=\u001b[39m get_option(\u001b[38;5;124m\"\u001b[39m\u001b[38;5;124mmode.data_manager\u001b[39m\u001b[38;5;124m\"\u001b[39m)\n\u001b[0;32m    442\u001b[0m     \u001b[38;5;28;01mif\u001b[39;00m manager \u001b[38;5;241m==\u001b[39m \u001b[38;5;124m\"\u001b[39m\u001b[38;5;124mblock\u001b[39m\u001b[38;5;124m\"\u001b[39m:\n",
      "File \u001b[1;32mc:\\Users\\ingal\\Documents\\Data Science Work\\DnD_Monsters\\env\\lib\\site-packages\\pandas\\core\\construction.py:569\u001b[0m, in \u001b[0;36msanitize_array\u001b[1;34m(data, index, dtype, copy, raise_cast_failure, allow_2d)\u001b[0m\n\u001b[0;32m    566\u001b[0m     data \u001b[38;5;241m=\u001b[39m \u001b[38;5;28mlist\u001b[39m(data)\n\u001b[0;32m    568\u001b[0m \u001b[38;5;28;01mif\u001b[39;00m dtype \u001b[38;5;129;01mis\u001b[39;00m \u001b[38;5;129;01mnot\u001b[39;00m \u001b[38;5;28;01mNone\u001b[39;00m \u001b[38;5;129;01mor\u001b[39;00m \u001b[38;5;28mlen\u001b[39m(data) \u001b[38;5;241m==\u001b[39m \u001b[38;5;241m0\u001b[39m:\n\u001b[1;32m--> 569\u001b[0m     subarr \u001b[38;5;241m=\u001b[39m \u001b[43m_try_cast\u001b[49m\u001b[43m(\u001b[49m\u001b[43mdata\u001b[49m\u001b[43m,\u001b[49m\u001b[43m \u001b[49m\u001b[43mdtype\u001b[49m\u001b[43m,\u001b[49m\u001b[43m \u001b[49m\u001b[43mcopy\u001b[49m\u001b[43m,\u001b[49m\u001b[43m \u001b[49m\u001b[43mraise_cast_failure\u001b[49m\u001b[43m)\u001b[49m\n\u001b[0;32m    570\u001b[0m \u001b[38;5;28;01melse\u001b[39;00m:\n\u001b[0;32m    571\u001b[0m     subarr \u001b[38;5;241m=\u001b[39m maybe_convert_platform(data)\n",
      "File \u001b[1;32mc:\\Users\\ingal\\Documents\\Data Science Work\\DnD_Monsters\\env\\lib\\site-packages\\pandas\\core\\construction.py:754\u001b[0m, in \u001b[0;36m_try_cast\u001b[1;34m(arr, dtype, copy, raise_cast_failure)\u001b[0m\n\u001b[0;32m    748\u001b[0m \u001b[38;5;28;01mtry\u001b[39;00m:\n\u001b[0;32m    749\u001b[0m     \u001b[38;5;66;03m# GH#15832: Check if we are requesting a numeric dtype and\u001b[39;00m\n\u001b[0;32m    750\u001b[0m     \u001b[38;5;66;03m# that we can convert the data to the requested dtype.\u001b[39;00m\n\u001b[0;32m    751\u001b[0m     \u001b[38;5;28;01mif\u001b[39;00m is_integer_dtype(dtype):\n\u001b[0;32m    752\u001b[0m         \u001b[38;5;66;03m# this will raise if we have e.g. floats\u001b[39;00m\n\u001b[1;32m--> 754\u001b[0m         subarr \u001b[38;5;241m=\u001b[39m \u001b[43mmaybe_cast_to_integer_array\u001b[49m\u001b[43m(\u001b[49m\u001b[43marr\u001b[49m\u001b[43m,\u001b[49m\u001b[43m \u001b[49m\u001b[43mdtype\u001b[49m\u001b[43m)\u001b[49m\n\u001b[0;32m    755\u001b[0m     \u001b[38;5;28;01melse\u001b[39;00m:\n\u001b[0;32m    756\u001b[0m         \u001b[38;5;66;03m# 4 tests fail if we move this to a try/except/else; see\u001b[39;00m\n\u001b[0;32m    757\u001b[0m         \u001b[38;5;66;03m#  test_constructor_compound_dtypes, test_constructor_cast_failure\u001b[39;00m\n\u001b[0;32m    758\u001b[0m         \u001b[38;5;66;03m#  test_constructor_dict_cast2, test_loc_setitem_dtype\u001b[39;00m\n\u001b[0;32m    759\u001b[0m         subarr \u001b[38;5;241m=\u001b[39m np\u001b[38;5;241m.\u001b[39marray(arr, dtype\u001b[38;5;241m=\u001b[39mdtype, copy\u001b[38;5;241m=\u001b[39mcopy)\n",
      "File \u001b[1;32mc:\\Users\\ingal\\Documents\\Data Science Work\\DnD_Monsters\\env\\lib\\site-packages\\pandas\\core\\dtypes\\cast.py:2040\u001b[0m, in \u001b[0;36mmaybe_cast_to_integer_array\u001b[1;34m(arr, dtype, copy)\u001b[0m\n\u001b[0;32m   2038\u001b[0m \u001b[38;5;28;01mtry\u001b[39;00m:\n\u001b[0;32m   2039\u001b[0m     \u001b[38;5;28;01mif\u001b[39;00m \u001b[38;5;129;01mnot\u001b[39;00m \u001b[38;5;28misinstance\u001b[39m(arr, np\u001b[38;5;241m.\u001b[39mndarray):\n\u001b[1;32m-> 2040\u001b[0m         casted \u001b[38;5;241m=\u001b[39m \u001b[43mnp\u001b[49m\u001b[38;5;241;43m.\u001b[39;49m\u001b[43marray\u001b[49m\u001b[43m(\u001b[49m\u001b[43marr\u001b[49m\u001b[43m,\u001b[49m\u001b[43m \u001b[49m\u001b[43mdtype\u001b[49m\u001b[38;5;241;43m=\u001b[39;49m\u001b[43mdtype\u001b[49m\u001b[43m,\u001b[49m\u001b[43m \u001b[49m\u001b[43mcopy\u001b[49m\u001b[38;5;241;43m=\u001b[39;49m\u001b[43mcopy\u001b[49m\u001b[43m)\u001b[49m\n\u001b[0;32m   2041\u001b[0m     \u001b[38;5;28;01melse\u001b[39;00m:\n\u001b[0;32m   2042\u001b[0m         casted \u001b[38;5;241m=\u001b[39m arr\u001b[38;5;241m.\u001b[39mastype(dtype, copy\u001b[38;5;241m=\u001b[39mcopy)\n",
      "\u001b[1;31mValueError\u001b[0m: invalid literal for int() with base 10: 'Mummy Lord'"
     ]
    }
   ],
   "source": [
    "#ensure listlengths are the same\n",
    "import pandas as pd\n",
    "\n",
    "\n",
    "monster_dict = dict([ (k,pd.Series(v, dtype=int)) for k,v in monster_dict.items()])\n",
    "monster_dict\n",
    "#list_length = []\n",
    "\n",
    "#for col in monster_dict:\n",
    "#    list_length.append(len(monster_dict[col]))\n",
    "#print(list_length)\n",
    "#\n",
    "monster_df = pd.DataFrame(monster_dict)\n",
    "#\n",
    "monster_df"
   ]
  },
  {
   "cell_type": "code",
   "execution_count": 150,
   "metadata": {},
   "outputs": [],
   "source": [
    "monster_df.to_csv('../data/raw/MummyTest.csv')"
   ]
  }
 ],
 "metadata": {
  "interpreter": {
   "hash": "11158ff4dfc0495d90dc4f70a524a558f72f950c55e1eff98a0bc63a2c3afe62"
  },
  "kernelspec": {
   "display_name": "Python 3.10.1 64-bit ('env': venv)",
   "language": "python",
   "name": "python3"
  },
  "language_info": {
   "codemirror_mode": {
    "name": "ipython",
    "version": 3
   },
   "file_extension": ".py",
   "mimetype": "text/x-python",
   "name": "python",
   "nbconvert_exporter": "python",
   "pygments_lexer": "ipython3",
   "version": "3.10.1"
  },
  "orig_nbformat": 4
 },
 "nbformat": 4,
 "nbformat_minor": 2
}
