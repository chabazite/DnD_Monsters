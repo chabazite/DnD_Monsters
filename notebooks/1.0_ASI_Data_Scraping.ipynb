{
 "cells": [
  {
   "cell_type": "markdown",
   "metadata": {},
   "source": [
    "# DnD Monsters: Dice and Data\n",
    "As a Dungeon Master, it is very important to understand the strength of the monsters you pit against your players. Too weak, they are bored, too strong, they die... or worse..they don't have fun. The current method known as Challenge Rating, CR, is a numerical system used to determine how difficult an enemey is based on a party of 4 players. Challenge Ratings range from 0 to 30.\n",
    "\n",
    "CR uses AC, HP, attack bonus, damage per round and Save DC as a general guideline. Unfortunately, it doesn't fully take into account legendary actions, at will spells, special abilities that cause status ailments, or any other boosting abilities. It's pretty tuned into attack and defensive type behaviors. That makes sense too, because they are the most translatable into an equation, which WotC has done for us (I showed this in the previous notebook).\n",
    "\n",
    "The goal of this investigation is to learn more about Monster's abilities in relation to the CR system. To understand if there are correlations in any of the stats, abilities, environments, size, etc. To see if we can classify monsters based on any of these traits. Finally, to create a basic app that can predict a monster stat and trait block based on inputs such as party level, difficulty, monster type, environment, and alignment. \n",
    "\n",
    "In order to stay within WotC terms of service, we will only work on monsters that are part of the SRD. "
   ]
  },
  {
   "cell_type": "markdown",
   "metadata": {},
   "source": [
    "## DnDWiki: html instead of DnDBeyond's javascript\n",
    "Although, DnDBeyond has a really well structured website, it requires javascript parsing, which is more advanced than the knowledge than the scope of my original project. I was hoping to stick with requests. \n",
    "\n",
    "Intead, I will try to work with DnDWiki since it utilizes all html."
   ]
  },
  {
   "cell_type": "code",
   "execution_count": 18,
   "metadata": {},
   "outputs": [],
   "source": [
    "# Import Libraries for scraping\n",
    "import requests as rq\n",
    "import pandas as pd\n",
    "import numpy as np\n",
    "from time import sleep\n",
    "from collections import defaultdict\n",
    "\n",
    "#Scraping libraries\n",
    "from bs4 import BeautifulSoup as bs\n",
    "from selenium import webdriver\n",
    "from selenium.common.exceptions import TimeoutException, WebDriverException\n",
    "from selenium.webdriver.chrome.options import Options\n",
    "from selenium.webdriver.common.by import By\n",
    "from selenium.webdriver.support.ui import WebDriverWait\n",
    "from selenium.webdriver.support import expected_conditions as EC\n",
    "from selenium.webdriver.chrome.service import Service\n",
    "\n",
    "from random_user_agent.user_agent import UserAgent\n",
    "from random_user_agent.params import SoftwareName, OperatingSystem\n",
    "\n",
    "\n",
    "#Helper functions\n",
    "from src.data.build_data import monster_stat_gathering\n",
    "from src.data.selenium_scrape import Request"
   ]
  },
  {
   "cell_type": "markdown",
   "metadata": {},
   "source": [
    "### Get Request for Monster Names\n",
    "This will give us a list of monster names to use for stat block parsing"
   ]
  },
  {
   "cell_type": "code",
   "execution_count": 11,
   "metadata": {},
   "outputs": [],
   "source": [
    "# Fetching HTML\n",
    "url = \"https://www.dandwiki.com/wiki/5e_SRD:Monsters\"\n",
    "Request = rq.get(url).text\n",
    "\n",
    "soup = bs(Request, 'html.parser')"
   ]
  },
  {
   "cell_type": "markdown",
   "metadata": {},
   "source": [
    "### Collect Names of All Monsters in a List \n",
    "Unfortunately, dndwiki is not well crafted, which meant I needed to get creative. There weren't distinguishing classes or names or ids, which is usually what I would use to parse. However, the styles between tables were a bit different, so i used that to gather the information needed."
   ]
  },
  {
   "cell_type": "code",
   "execution_count": 12,
   "metadata": {},
   "outputs": [],
   "source": [
    "# Find the main content div and and extract it for processing\n",
    "# This involves finding the list items that are only housed within the parent table that has a width of 100%.\n",
    "tables = soup.findAll('table', {'style':\"width: 100%;\"})\n",
    "monster_names_dndwiki = []\n",
    "\n",
    "for table in tables:\n",
    "    li_table = table.findAll('li')\n",
    "    for name in li_table:\n",
    "          monster_names_dndwiki.append(name.text)"
   ]
  },
  {
   "cell_type": "markdown",
   "metadata": {},
   "source": [
    "### Clean up data\n",
    "Because DnDWiki doesn't have a great structure, even our creative method had some issues.\n",
    "We need to remove duplicates and non-monsters from the list."
   ]
  },
  {
   "cell_type": "code",
   "execution_count": 13,
   "metadata": {},
   "outputs": [],
   "source": [
    "# Remove duplicate monsters\n",
    "monster_names = list(set(monster_names_dndwiki))\n",
    "\n",
    "# Filter through and replace spaces with dashes to format names for url intergration\n",
    "monster_list = []\n",
    "for name in monster_names:\n",
    "    if not(name.strip().isdigit()):\n",
    "        new_name = name.replace(' ','-')\n",
    "        monster_list.append(new_name)\n",
    "    else:\n",
    "        monster_list.append(name)\n",
    "\n"
   ]
  },
  {
   "cell_type": "markdown",
   "metadata": {},
   "source": [
    "### Dictionary of URLs to parse\n",
    "I will iterate through the monster name, knowing that dandwiki has a uniform site for all monsters pages www.dandwiki.com/wiki/5e_SRD:'MonsterName'."
   ]
  },
  {
   "cell_type": "code",
   "execution_count": null,
   "metadata": {},
   "outputs": [],
   "source": [
    "monster_url=[]\n",
    "for name in monster_list:\n",
    "    monster_url.append('https://www.dndbeyond.com/monsters/'+name)\n"
   ]
  },
  {
   "cell_type": "markdown",
   "metadata": {},
   "source": [
    "### Website Structure is disgusing\n",
    "There are still some things on here that are not monsters (they summon monsters). For example the Deck of Many Things. This will break any analysis or modeling I try to do, so I need to remove them. \n",
    "\n",
    "We can look at all things monsters have in common that these other objects do not. Unfortunately, the 'DoMT' and the 'figures of power' also contain niche \"monster\" stats for their monsters. \n",
    "\n",
    "We will include these in our table, however Zombies and Dinosaurs do not, since they are just a category of many monsters, all of which are included in the list already. \n",
    "\n"
   ]
  },
  {
   "cell_type": "markdown",
   "metadata": {},
   "source": [
    "## DNDBeyond: Testing selenium webdriver on DnDBeyond with a single Monster\n",
    "DnDWiki is frankly just very unhelpful in terms of web structure. \n",
    "\n",
    "There are no defining classes, ids , names, or elements on any of the information, which makes parsing a nightmare. I will move into DnDBeyond using Selenium.\n",
    "\n",
    "Since I've never used Selenium before, and its quite a bit more involved, I will take a lot of my information from this documentation: https://selenium-python.readthedocs.io/\n",
    "\n",
    "Additionally, I will develop the process incrementally, first by pulling information from a single monster.\n",
    "\n",
    "First, I will grab all the information from the Mummy Lord in the 'mon-stat-block' class and the footer information which contains all our tags like source book, environment, and monster tags."
   ]
  },
  {
   "cell_type": "markdown",
   "metadata": {},
   "source": [
    "### Libraries for Parsing\n",
    "\n",
    "First I need to gain access to our monster data sheet. As stated above, dndbeyond.com has a great repository of monster data. This will need to be scraped from there site. Unfortuntately, each of the monster pages is hidden behind an accordion dropdown and will need to be extracted. This is something I have not yet done, so I am excited to try. "
   ]
  },
  {
   "cell_type": "code",
   "execution_count": 10,
   "metadata": {},
   "outputs": [
    {
     "name": "stderr",
     "output_type": "stream",
     "text": [
      "C:\\Users\\ingal\\AppData\\Local\\Temp\\ipykernel_17792\\2782296100.py:4: DeprecationWarning: executable_path has been deprecated, please pass in a Service object\n",
      "  driver = webdriver.Chrome(executable_path='../env/chromedriver.exe')\n"
     ]
    }
   ],
   "source": [
    "url = 'https://www.dndbeyond.com/monsters/mummy-lord'\n",
    "\n",
    "# selenium webdriver: has to be updated occasionally \n",
    "driver = webdriver.Chrome(executable_path='../env/chromedriver.exe')\n",
    "\n",
    "driver.get(url)\n",
    "\n",
    "driver.implicitly_wait(5)\n",
    "\n",
    "# javascript parser\n",
    "soup = bs(driver.page_source, 'lxml')\n",
    "\n",
    "# search for div with stats and footer than contains tags such as environment\n",
    "stat_block = soup.find('div',{'class':'mon-stat-block'})\n",
    "Environment = soup.find('footer')"
   ]
  },
  {
   "cell_type": "markdown",
   "metadata": {},
   "source": [
    "### Column Names: Parsing for headings, labels, and tags\n",
    "Unfortunately, I don't know any one monster that contains every single type of column we are looking for. The Mummy Lord is a strong enemy that includes a lot of traits and features.\n",
    "I added any column names to the start of the list if they weren't included in the Mummy Lord's stat blocks.\n",
    "\n",
    "Then we create for loops looking for classes that end with 'label' or 'heading'. This should give us all the column names we need. \n",
    "\n",
    "I will start with just enviromnnt-tags (later I will decide to expand this to all tags)"
   ]
  },
  {
   "cell_type": "code",
   "execution_count": 11,
   "metadata": {},
   "outputs": [],
   "source": [
    "# Column names that weren't added from the Mummy Records, but exist in DnDBeyond\n",
    "column_names = ['Monster Name','Size','Type', 'Alignment','Traits', 'Damage Resistances', 'Monster Tags:', 'Mythic Actions', 'Reactions','Source']\n",
    "\n",
    "# Search for new headers and append to the column_name list\n",
    "for headers in stat_block.findAll('span',{'class': lambda e: e.endswith('label') if e else False}):    \n",
    "    column_names.append(headers.text)\n",
    "    \n",
    "for headers in stat_block.findAll('div',{'class': lambda e: e.endswith('heading') if e else False}):    \n",
    "    column_names.append(headers.text)\n",
    "\n",
    "# Formating for the environment-tags is a bit different and requires striping contents\n",
    "for headers in Environment.findAll('p',{'class': lambda e: e.startswith('environment-tags') if e else False}):    \n",
    "    column_names.append(headers.contents[0].strip())\n",
    "\n"
   ]
  },
  {
   "cell_type": "markdown",
   "metadata": {},
   "source": [
    "### Create Dictionary to Store Monster Data\n",
    "While we only have one monster now, this will become more important later on"
   ]
  },
  {
   "cell_type": "code",
   "execution_count": 12,
   "metadata": {},
   "outputs": [
    {
     "data": {
      "text/plain": [
       "{'Monster Name': [],\n",
       " 'Size': [],\n",
       " 'Type': [],\n",
       " 'Alignment': [],\n",
       " 'Traits': [],\n",
       " 'Damage Resistances': [],\n",
       " 'Monster Tags:': [],\n",
       " 'Mythic Actions': [],\n",
       " 'Reactions': [],\n",
       " 'Source': [],\n",
       " 'Armor Class': [],\n",
       " 'Hit Points': [],\n",
       " 'Speed': [],\n",
       " 'Saving Throws': [],\n",
       " 'Skills': [],\n",
       " 'Damage Vulnerabilities': [],\n",
       " 'Damage Immunities': [],\n",
       " 'Condition Immunities': [],\n",
       " 'Senses': [],\n",
       " 'Languages': [],\n",
       " 'Challenge': [],\n",
       " 'Proficiency Bonus': [],\n",
       " 'STR': [],\n",
       " 'DEX': [],\n",
       " 'CON': [],\n",
       " 'INT': [],\n",
       " 'WIS': [],\n",
       " 'CHA': [],\n",
       " 'Actions': [],\n",
       " 'Legendary Actions': [],\n",
       " 'Environment:': []}"
      ]
     },
     "execution_count": 12,
     "metadata": {},
     "output_type": "execute_result"
    }
   ],
   "source": [
    "# Create empty dictionary with column names as keys\n",
    "monster_dict = dict.fromkeys(column_names)\n",
    "\n",
    "# Initialize the monster_dic with each value for all keys to be an empty list\n",
    "for column in column_names:\n",
    "    monster_dict[column] = []\n",
    "\n",
    "monster_dict"
   ]
  },
  {
   "cell_type": "markdown",
   "metadata": {},
   "source": [
    "### Add Values of Mummy Data into our Dictionary\n",
    "Here is our big show stopper. This will be turned into a function to be used in the main scrape"
   ]
  },
  {
   "cell_type": "code",
   "execution_count": null,
   "metadata": {},
   "outputs": [],
   "source": [
    "# Monster Name\n",
    "monster_name = stat_block.find('div', {'class':'mon-stat-block__name'}).text\n",
    "monster_dict['Monster Name'].append(' '.join(str(monster_name).split())) \n",
    "\n",
    "# The subtitle contains: (Size, Alignment, and Type), will split the single meta text using split() and replace() functions\n",
    "monster_subtitle_info = stat_block.find('div', {'class':'mon-stat-block__meta'})\n",
    "monster_subtitle_info=monster_subtitle_info.text\n",
    "\n",
    "# Size (first word)\n",
    "monster_size = monster_subtitle_info.split()[0]\n",
    "monster_dict['Size'].append(monster_size) \n",
    "\n",
    "# Alignment (after comma)\n",
    "monster_alignment = monster_subtitle_info.split(', ')[-1]\n",
    "monster_dict['Alignment'].append(monster_alignment)\n",
    "\n",
    "# Type (remaining words). \n",
    "'''The sublist will remove the above two variables from the text, as well as the loose comma. It will also create a list for the type, as sometimes there are sub-types associated with monsters (e.g Titan)'''\n",
    "sub_list = (monster_size, monster_alignment, ', ')\n",
    "monster_type = monster_subtitle_info\n",
    "for substring in sub_list:\n",
    "    monster_type = monster_type.replace(substring,'')\n",
    "monster_type = monster_type.split()\n",
    "monster_dict['Type'].append(monster_type) \n",
    "\n",
    "# Find all attribute metrics\n",
    "attribute_data = stat_block.findAll('span',{'class':'mon-stat-block__attribute-data-value'})\n",
    "\n",
    "# Armor Class\n",
    "monster_ac = ' '.join(str(attribute_data[0].text).split())\n",
    "monster_dict['Armor Class'].append(monster_ac)\n",
    "\n",
    "# Hit Points\n",
    "monster_hp = ' '.join(str(attribute_data[1].text).split())\n",
    "monster_dict['Hit Points'].append(monster_hp)\n",
    "\n",
    "# Speed\n",
    "monster_speed = ' '.join(str(attribute_data[2].text).split())\n",
    "monster_dict['Speed'].append(monster_speed)\n",
    "\n",
    "# Find all tidbit metrics\n",
    "tidbit_label = stat_block.findAll('span', {'class':'mon-stat-block__tidbit-label'})\n",
    "\n",
    "for label in tidbit_label:    \n",
    "    '''\n",
    "    Because the tidbits column shifts based on the monster, we can't index the rows, as they are added or deleted based on the monster. So instead, we will write a for loop that loops through the monsters tidbit headings (e.g. Skills, Saving Throws, etc.) and if they exits, it will take\n",
    "    the sibling data (i.e. it will take the actual data corresponding to each heading) and deposit it into the dictionary.\n",
    "    Any columns not in the monster data will be left blank for now. Each if statement is labeled with the corresponding tidbit.\n",
    "    '''\n",
    "    if label.text == \"Saving Throws\":\n",
    "        monster_saving_throw = ' '.join(str(label.find_next_sibling('span').text).split())\n",
    "        monster_dict['Saving Throws'].append(monster_saving_throw)\n",
    "    elif label.text == \"Skills\":\n",
    "        monster_skills = ' '.join(str(label.find_next_sibling('span').text).split())\n",
    "        monster_dict['Skills'].append(monster_skills)\n",
    "    elif label.text == \"Damage Vulnerabilities\":    \n",
    "        monster_damage_vulnerability = ' '.join(str(label.find_next_sibling('span').text).split())\n",
    "        monster_dict['Damage Vulnerabilities'].append(monster_damage_vulnerability)\n",
    "    elif label.text == \"Damage Immunities\":\n",
    "        monster_damage_immunity = ' '.join(str(label.find_next_sibling('span').text).split())\n",
    "        monster_dict['Damage Immunities'].append(monster_damage_immunity)\n",
    "    elif label.text == 'Condition Immunities':\n",
    "        monster_condition_immunity = ' '.join(str(label.find_next_sibling('span').text).split())\n",
    "        monster_dict['Condition Immunities'].append(monster_condition_immunity)\n",
    "    elif label.text == 'Senses':\n",
    "        monster_senses = ' '.join(str(label.find_next_sibling('span').text).split())\n",
    "        monster_dict['Senses'].append(monster_senses)\n",
    "    elif label.text == 'Languages':\n",
    "        monster_languages = ' '.join(str(label.find_next_sibling('span').text).split())\n",
    "        monster_dict['Languages'].append(monster_languages)\n",
    "    elif label.text == 'Challenge':\n",
    "        monster_challenge= ' '.join(str(label.find_next_sibling('span').text).split())\n",
    "        monster_dict['Challenge'].append(monster_challenge)\n",
    "    elif label.text == 'Proficiency Bonus':\n",
    "        monster_proficiency = ' '.join(str(label.find_next_sibling('span').text).split())\n",
    "        monster_dict['Proficiency Bonus'].append(monster_proficiency)\n",
    "    elif label.text == 'Damage Resistances':\n",
    "        monster_damage_resistence = ' '.join(str(label.find_next_sibling('span').text).split())\n",
    "        monster_dict['Damage Resistances'].append(monster_damage_resistence)\n",
    "\n",
    "\n",
    "# Find all ability score metrics\n",
    "ability_scores = stat_block.findAll('span',{'class':'ability-block__score'})\n",
    "    # STR Score\n",
    "monster_str = ability_scores[0].text\n",
    "monster_dict['STR'].append(monster_str)\n",
    "    # DEX Score\n",
    "monster_dex = ability_scores[1].text\n",
    "monster_dict['DEX'].append(monster_dex)\n",
    "    # CON Score\n",
    "monster_con = ability_scores[2].text\n",
    "monster_dict['CON'].append(monster_con)\n",
    "    # INT Score\n",
    "monster_int = ability_scores[3].text\n",
    "monster_dict['INT'].append(monster_int)\n",
    "    # WIS Score\n",
    "monster_wis = ability_scores[4].text\n",
    "monster_dict['WIS'].append(monster_wis)\n",
    "    # CHA Score\n",
    "monster_cha = ability_scores[5].text\n",
    "monster_dict['CHA'].append(monster_cha)    \n",
    "    \n",
    "# Traits: because traits doesn't contain any defining HTML or any headings such as Actions or Legendary Actions I searched through all the description blocks of the text. If they don't contain the div 'heading' then we print the block. This allows us to only print traits and to place them in a list if need be for later wrangling and analysis. \n",
    "             \n",
    "trait_list = []\n",
    "description_block = stat_block.findAll('div', {'class':'mon-stat-block__description-block'})\n",
    "for block in description_block:\n",
    "     if not block.findAll('div',{'class':'mon-stat-block__description-block-heading'}):\n",
    "        for p in block.findAll('p'):\n",
    "            trait_list.append(p.text)\n",
    "\n",
    "# Remaining descriptions that had headings\n",
    "description_heading = stat_block.findAll('div', {'class':'mon-stat-block__description-block-heading'})\n",
    "action_list = []\n",
    "for heading in description_heading:    \n",
    "    '''\n",
    "    Because the description column shifts based on the monster, we can't index the rows, as they are added or deleted based on the monster. So instead, we will write a for loop that loops through the monsters description headings (e.g. Actions, Legendary Actions, etc.) and if they exits, it will take\n",
    "    the sibling data (i.e. it will take the actual data corresponding to each heading) and deposit it into the dictionary. Any columns not in the monster data will be left blank for now. Each if statement is labeled with the corresponding tidbit.\n",
    "    '''\n",
    "    action_list = []\n",
    "    if heading.text == \"Actions\":\n",
    "        monster_actions = heading.find_next_sibling('div')\n",
    "        for p in monster_actions.findAll('p'):\n",
    "           action_list.append(p.text.strip())\n",
    "        monster_dict['Actions'].append(action_list)\n",
    "    elif heading.text == \"Legendary Actions\":\n",
    "        monster_legendary_actions = heading.find_next_sibling('div')\n",
    "        for p in monster_legendary_actions.findAll('p'):\n",
    "           action_list.append(p.text.strip())\n",
    "        monster_dict['Legendary Actions'].append(action_list)\n",
    "    elif heading.text == \"Mythic Actions\":\n",
    "        monster_mythic_actions = heading.find_next_sibling('div')\n",
    "        for p in monster_mythic_actions.findAll('p'):\n",
    "           action_list.append(p.text.strip())\n",
    "        monster_dict['Mythic Actions'].append(action_list)\n",
    "    elif heading.text == \"Reactions\":\n",
    "        monster_reactions = heading.find_next_sibling('div')\n",
    "        for p in monster_reactions.findAll('p'):\n",
    "           action_list.append(p.text.strip())\n",
    "        monster_dict['Reactions'].append(action_list)\n",
    "         \n",
    "# These final tags are either referring to the environment it lives in (can be multiple), the sub type its classified as, or the source book it came from. All of these or none of these may be represented in the monster sheet.\n",
    "monster_tags = Environment.findAll('span') \n",
    "\n",
    "for tag in Environment.find_all(\"p\"):\n",
    "       \n",
    "    if (tag.contents[0].strip()) == \"Environment:\":\n",
    "       monster_dict['Environment:'].append(monster_tags[0].text)\n",
    "    elif (tag.contents[0].strip()) == \"Monster Tags:\":\n",
    "        monster_dict['Monster Tags:'].append(monster_tags[1].text)\n",
    "    else:\n",
    "        monster_dict['Source'].append(tag.contents[0].strip())"
   ]
  },
  {
   "cell_type": "code",
   "execution_count": null,
   "metadata": {},
   "outputs": [],
   "source": [
    "# Create a series for values that will add NaN for any missing values\n",
    "monster_dict = dict([ (k,pd.Series(v)) for k,v in monster_dict.items()])\n",
    "\n",
    "monster_df = pd.DataFrame(monster_dict)\n",
    "monster_df.to_csv('../data/raw/MummyTest.csv')"
   ]
  },
  {
   "cell_type": "markdown",
   "metadata": {},
   "source": [
    "## Scraping DnDBeyond for all SRD monsters\n",
    "1. We will change out naming database since DnDBeyond is now active for us. We will need to first iterate through each of the pages of monster files.\n",
    "2. Then we will need to read each monster on each of the page and place them into our monster_list\n",
    "3. Next we will remove any spaces in the monster names and replace them with '-' this will be necessary for the urls\n",
    "4. We will append to the monster url and add to the monster_url list, which we will then use to iterate over for our above test. "
   ]
  },
  {
   "cell_type": "markdown",
   "metadata": {},
   "source": [
    "### Parsing Request Class and Selenium Function\n",
    "We want our final request clean and clear, so we will create a reusable request class with a get_selenium function.\n",
    "This function will randomize our user profile to help protect against throttling/halting the srape. We will \n",
    "also perform this as headless so as not to tax our computer. The function looks for a certain class, and waits a certain\n",
    "amount of time. If it sees the class, the function will return the page_source information, otherwise it will close the \n",
    "browser.\n",
    "\n",
    "This class and function were adapted from a medium post by Oren Spiegal on scraping Facebook and Tiktok"
   ]
  },
  {
   "cell_type": "code",
   "execution_count": null,
   "metadata": {},
   "outputs": [],
   "source": [
    "# Testing function and class on adult green dragon\n",
    "\n",
    "page_html = Request('https://www.dndbeyond.com/monsters/adult-green-dragon').get_selenium(\"mon-stat-block__name\")\n",
    "bs(page_html,'lxml')"
   ]
  },
  {
   "cell_type": "markdown",
   "metadata": {},
   "source": [
    "### DnD Monster Page Iteration\n",
    "The website has the same formula 'https://www.dndbeyond.com/monsters?page=' so we just need to iterate from 1 to 106 (last page)"
   ]
  },
  {
   "cell_type": "code",
   "execution_count": null,
   "metadata": {},
   "outputs": [],
   "source": [
    "url = 'https://www.dndbeyond.com/monsters?page='\n",
    "\n",
    "monster__name= []\n",
    "\n",
    "# Iterate through monster pages and grab each monster class name to place in mosnter_name list\n",
    "for i in range(1,3):\n",
    "    \n",
    "    page_html = Request(url+str(i)).get_selenium('name')\n",
    "    soup = bs(page_html, 'lxml')\n",
    "    page_find_names = soup.find_all('span',{'class':'name'})\n",
    "\n",
    "    for span in page_find_names:\n",
    "        monster__name.append(span.text.strip())\n",
    "        \n",
    "    sleep(60)"
   ]
  },
  {
   "cell_type": "code",
   "execution_count": null,
   "metadata": {},
   "outputs": [],
   "source": [
    "monster_nospaces = []\n",
    "\n",
    "# Filter through and replace spaces with dashes to format for urls\n",
    "\n",
    "for name in monster__name:\n",
    "    if not(name.strip().isdigit()):\n",
    "        new_name = name.replace(' ','-')\n",
    "        monster_nospaces.append(new_name)\n",
    "    else:\n",
    "        monster_nospaces.append(name)\n",
    "        \n",
    "monster_name_url_ending = []\n",
    "\n",
    "# Some monsters contain '()'. Filter and replace '()' with nothing\n",
    "for name in monster_nospaces:\n",
    "    if not(name.strip().isdigit()):\n",
    "        new_name = name.replace('(','')\n",
    "        final_name = new_name.replace(')','')\n",
    "        monster_name_url_ending.append(final_name)\n",
    "    else:\n",
    "        monster_name_url_ending.append(name)\n"
   ]
  },
  {
   "cell_type": "code",
   "execution_count": 2,
   "metadata": {},
   "outputs": [],
   "source": [
    "# Save our names and urls in case IDE crashes (add -r to recover)\n",
    "%store -r monster_dict\n",
    "%store -r monster__name\n",
    "%store -r monster_name_url_ending"
   ]
  },
  {
   "cell_type": "markdown",
   "metadata": {},
   "source": [
    "## Use Monster Names & Custom Function to scrap SRD Monster Data\n",
    "Using our test function from the Mummy, we will iterate over all the monsters in monster_name_url_ending\n",
    "to parse each monster page for their data and slam it into the dictionary!\n",
    "\n",
    "we saved our previous variable using store magic, so we don't need to rerun the monster names or column names each time.\n",
    "\n",
    "The function is stored as a helper function in the src folder"
   ]
  },
  {
   "cell_type": "markdown",
   "metadata": {},
   "source": [
    "### Iterate over monster pages\n",
    "Don't grab any info that we don't have access to"
   ]
  },
  {
   "cell_type": "code",
   "execution_count": null,
   "metadata": {},
   "outputs": [],
   "source": [
    "url = 'https://www.dndbeyond.com/monsters/'\n",
    "j=0\n",
    "\n",
    "# Iterate through monster names and add to url variable\n",
    "for i in monster_name_url_ending[2:107]:\n",
    "  page_html = None\n",
    "# Request the html using selenium function\n",
    "  page_html = Request(url+i).get_selenium('mon-stat-block__name')\n",
    "  j+=1\n",
    "\n",
    "#If the request is successful (doesn't hit a blocked monster page), parse and run the function.      \n",
    "  if page_html is not None:\n",
    "      soup = bs(page_html, 'lxml')\n",
    "      monster_stat_gathering(soup,monster_dict)\n",
    "  sleep(60)\n",
    "  print(j)\n",
    "  print(monster_dict)\n",
    "  \n",
    "  # Store dictionary in case crash\n",
    "  %store monster_dict"
   ]
  },
  {
   "cell_type": "code",
   "execution_count": 4,
   "metadata": {},
   "outputs": [
    {
     "name": "stdout",
     "output_type": "stream",
     "text": [
      "[2, 2, 2, 2, 2, 2, 2, 2, 2, 2, 2, 2, 2, 2, 2, 2, 2, 2, 2, 2, 2, 2, 2, 2, 2, 2, 2, 2, 2, 2, 2]\n"
     ]
    },
    {
     "data": {
      "text/html": [
       "<div>\n",
       "<style scoped>\n",
       "    .dataframe tbody tr th:only-of-type {\n",
       "        vertical-align: middle;\n",
       "    }\n",
       "\n",
       "    .dataframe tbody tr th {\n",
       "        vertical-align: top;\n",
       "    }\n",
       "\n",
       "    .dataframe thead th {\n",
       "        text-align: right;\n",
       "    }\n",
       "</style>\n",
       "<table border=\"1\" class=\"dataframe\">\n",
       "  <thead>\n",
       "    <tr style=\"text-align: right;\">\n",
       "      <th></th>\n",
       "      <th>Monster Name</th>\n",
       "      <th>Size</th>\n",
       "      <th>Type</th>\n",
       "      <th>Alignment</th>\n",
       "      <th>Traits</th>\n",
       "      <th>Damage Resistances</th>\n",
       "      <th>Monster Tags:</th>\n",
       "      <th>Mythic Actions</th>\n",
       "      <th>Reactions</th>\n",
       "      <th>Source</th>\n",
       "      <th>...</th>\n",
       "      <th>Proficiency Bonus</th>\n",
       "      <th>STR</th>\n",
       "      <th>DEX</th>\n",
       "      <th>CON</th>\n",
       "      <th>INT</th>\n",
       "      <th>WIS</th>\n",
       "      <th>CHA</th>\n",
       "      <th>Actions</th>\n",
       "      <th>Legendary Actions</th>\n",
       "      <th>Environment:</th>\n",
       "    </tr>\n",
       "  </thead>\n",
       "  <tbody>\n",
       "    <tr>\n",
       "      <th>0</th>\n",
       "      <td>Adult Gold Dragon</td>\n",
       "      <td>Huge</td>\n",
       "      <td>[Dragon]</td>\n",
       "      <td>Lawful Good</td>\n",
       "      <td>[Amphibious. The dragon can breathe air and wa...</td>\n",
       "      <td>NaN</td>\n",
       "      <td>NaN</td>\n",
       "      <td>NaN</td>\n",
       "      <td>NaN</td>\n",
       "      <td>Basic Rules</td>\n",
       "      <td>...</td>\n",
       "      <td>+6</td>\n",
       "      <td>27</td>\n",
       "      <td>14</td>\n",
       "      <td>25</td>\n",
       "      <td>16</td>\n",
       "      <td>15</td>\n",
       "      <td>24</td>\n",
       "      <td>[Multiattack. The dragon can use its Frightful...</td>\n",
       "      <td>[The dragon can take 3 legendary actions, choo...</td>\n",
       "      <td>[Forest, Grassland]</td>\n",
       "    </tr>\n",
       "    <tr>\n",
       "      <th>1</th>\n",
       "      <td>Adult Green Dragon</td>\n",
       "      <td>Huge</td>\n",
       "      <td>[Dragon]</td>\n",
       "      <td>Lawful Evil</td>\n",
       "      <td>[Amphibious. The dragon can breathe air and wa...</td>\n",
       "      <td>NaN</td>\n",
       "      <td>NaN</td>\n",
       "      <td>NaN</td>\n",
       "      <td>NaN</td>\n",
       "      <td>Basic Rules</td>\n",
       "      <td>...</td>\n",
       "      <td>+5</td>\n",
       "      <td>23</td>\n",
       "      <td>12</td>\n",
       "      <td>21</td>\n",
       "      <td>18</td>\n",
       "      <td>15</td>\n",
       "      <td>17</td>\n",
       "      <td>[Multiattack. The dragon can use its Frightful...</td>\n",
       "      <td>[The dragon can take 3 legendary actions, choo...</td>\n",
       "      <td>[Forest]</td>\n",
       "    </tr>\n",
       "  </tbody>\n",
       "</table>\n",
       "<p>2 rows × 31 columns</p>\n",
       "</div>"
      ],
      "text/plain": [
       "         Monster Name  Size      Type    Alignment  \\\n",
       "0   Adult Gold Dragon  Huge  [Dragon]  Lawful Good   \n",
       "1  Adult Green Dragon  Huge  [Dragon]  Lawful Evil   \n",
       "\n",
       "                                              Traits  Damage Resistances  \\\n",
       "0  [Amphibious. The dragon can breathe air and wa...                 NaN   \n",
       "1  [Amphibious. The dragon can breathe air and wa...                 NaN   \n",
       "\n",
       "   Monster Tags:  Mythic Actions  Reactions       Source  ...  \\\n",
       "0            NaN             NaN        NaN  Basic Rules  ...   \n",
       "1            NaN             NaN        NaN  Basic Rules  ...   \n",
       "\n",
       "  Proficiency Bonus STR DEX CON INT  WIS CHA  \\\n",
       "0                +6  27  14  25  16   15  24   \n",
       "1                +5  23  12  21  18   15  17   \n",
       "\n",
       "                                             Actions  \\\n",
       "0  [Multiattack. The dragon can use its Frightful...   \n",
       "1  [Multiattack. The dragon can use its Frightful...   \n",
       "\n",
       "                                   Legendary Actions         Environment:  \n",
       "0  [The dragon can take 3 legendary actions, choo...  [Forest, Grassland]  \n",
       "1  [The dragon can take 3 legendary actions, choo...             [Forest]  \n",
       "\n",
       "[2 rows x 31 columns]"
      ]
     },
     "execution_count": 4,
     "metadata": {},
     "output_type": "execute_result"
    }
   ],
   "source": [
    "# Ensure list lengths are the same in order to print to DF\n",
    "list_length = []\n",
    "\n",
    "for col in monster_dict:\n",
    "    list_length.append(len(monster_dict[col]))\n",
    "print(list_length)\n",
    "\n",
    "monster_df = pd.DataFrame(monster_dict)\n",
    "monster_df.to_csv('../data/raw/Partial_Monster_Data8.csv')\n"
   ]
  },
  {
   "cell_type": "markdown",
   "metadata": {},
   "source": [
    "### Round 2: Reparse\n",
    "Apparently, we only got about 1/2 the monsters possible from that run. It's possible that our time to wait is too short, or we have some internet blips. \n",
    "\n",
    "I will consolidate all the tests we have done and create a list of names from that list. Then we can remove the names we already have from our master list so we don't rerun them on the next parse. "
   ]
  },
  {
   "cell_type": "code",
   "execution_count": null,
   "metadata": {},
   "outputs": [],
   "source": [
    "%store -r monster_dict"
   ]
  },
  {
   "cell_type": "code",
   "execution_count": 5,
   "metadata": {},
   "outputs": [
    {
     "data": {
      "text/plain": [
       "['Adult Gold Dragon', 'Adult Green Dragon']"
      ]
     },
     "execution_count": 5,
     "metadata": {},
     "output_type": "execute_result"
    }
   ],
   "source": [
    "# Create a list of monster names that we have already parsed for comparison.\n",
    "monster_name_parsed = list(monster_dict[\"Monster Name\"])\n",
    "monster_name_parsed"
   ]
  },
  {
   "cell_type": "code",
   "execution_count": 15,
   "metadata": {},
   "outputs": [
    {
     "name": "stdout",
     "output_type": "stream",
     "text": [
      "0 not in DnDWiki\n",
      "229 on the DnDWiki list we haven't parsed\n"
     ]
    }
   ],
   "source": [
    "# Using our original list from DnDWiki, lets see what monsters we are missing from the basic rules\n",
    "\n",
    "# DnDWiki Difference\n",
    "monster_names_not_in_dndwiki = list(name for name in monster_name_parsed  if name not in monster_names_dndwiki)\n",
    "\n",
    "print(len(monster_names_not_in_dndwiki), \"monsters not found on DnDWiki from DnDBeyond\")\n",
    "\n",
    "\n",
    "# DnDBeyond difference\n",
    "monster_names_not_parsed_from_DnDBeyond = list(name for name in monster_names_dndwiki if name not in monster_name_parsed)\n",
    "\n",
    "print(len(monster_names_not_parsed_from_DnDBeyond), \"on the DnDWiki list we haven't parsed in DnDBeyond\")"
   ]
  },
  {
   "cell_type": "markdown",
   "metadata": {},
   "source": [
    "### Interesting Results\n",
    "The dndwiki list has 173 monsters that were not parsed, 231 monsters total. We have parsed 101 monsters, which means the dndbeyond site has available monsters not on the dndwiki page. \n",
    "43 monsters according to the difference in the list\n",
    "\n",
    "This means we shouldn't use the dndwiki list since it will clearly miss cool mosnters"
   ]
  },
  {
   "cell_type": "markdown",
   "metadata": {},
   "source": [
    "### Can we make a DnDBeyond friendly list?\n",
    "I don't want to parse 1300 or even 1200 websites again. Is there a way to parse only the basic rules info?\n",
    "\n",
    "Or, what if I iterated through the dropdown on the monster page with Selienium clicks? That is how I got the monster names, I would still only parse what I have access to"
   ]
  },
  {
   "cell_type": "code",
   "execution_count": 16,
   "metadata": {},
   "outputs": [
    {
     "data": {
      "text/plain": [
       "1378"
      ]
     },
     "execution_count": 16,
     "metadata": {},
     "output_type": "execute_result"
    }
   ],
   "source": [
    "# Turn the monster name parsed list into a \"url-ending\" list\n",
    "\n",
    "monster_nospace=[]\n",
    "\n",
    "# Filter through and replace spaces with dashes to format for urls\n",
    "\n",
    "for name in monster_name_parsed:\n",
    "    if not(name.strip().isdigit()):\n",
    "        new_name = name.replace(' ','-')\n",
    "        monster_nospace.append(new_name)\n",
    "    else:\n",
    "        monster_nospace.append(name)\n",
    "\n",
    "monster_name_url_ending_parsed = []\n",
    "# Filter and replace '()' with nothing\n",
    "for name in monster_nospace:\n",
    "    if not(name.strip().isdigit()):\n",
    "        new_name = name.replace('(','')\n",
    "        final_name = new_name.replace(')','')\n",
    "        monster_name_url_ending_parsed.append(final_name)\n",
    "    else:\n",
    "        monster_name_url_ending_parsed.append(name)\n",
    "\n",
    "\n",
    "\n",
    "# Remove the allready parsed monsters from the full url-ending list\n",
    "monster_name_url_ending_second_round = list(name for name in monster_name_url_ending if name not in monster_name_url_ending_parsed)\n",
    "len(monster_name_url_ending_second_round) "
   ]
  },
  {
   "cell_type": "markdown",
   "metadata": {},
   "source": [
    "### Rerun\n",
    "We have removed the monsters we have already parsed (101) and will rerun with 1279 monsters. I will increase the wait time to 20 seconds hopefully, this will improve capture.\n",
    "\n",
    "### Rerun 2\n",
    "We have removed monsters after the second run (additional 58) and will rerun with 1221 monsters. I will increase the wait time to 30 seconds.\n",
    "\n",
    "### Rerun 3\n",
    "We have removed monsters after the third run (additional 28) and will rerun with 1193 monsters. I brought the wait time down to 15 seconds again to see if there is any impact. \n",
    "\n",
    "### Rerun 4\n",
    "We have removed monsters after the third run (additional 17) and will rerun with 1176 monsters.\n",
    "\n",
    "### Rerun 5\n",
    "We have removed monsters after the 5th run (additional 10) and will rerun. Will spend time thinking about how to remove the known unavailable monsters before proceeding to reduce run time. "
   ]
  },
  {
   "cell_type": "code",
   "execution_count": null,
   "metadata": {},
   "outputs": [],
   "source": [
    "url = 'https://www.dndbeyond.com/monsters/'\n",
    "j=0\n",
    "\n",
    "# Iterate through monster names as urls and perform scrape and stat function\n",
    "for i in monster_name_url_ending_second_round[0:1381]:\n",
    "  page_html = None\n",
    "  page_html = Request(url+i).get_selenium('mon-stat-block__name')\n",
    "  j+=1\n",
    "       \n",
    "  if page_html is not None:\n",
    "      soup = bs(page_html, 'lxml')\n",
    "      monster_stat_gathering(soup, monster_dict)\n",
    "  sleep(60)\n",
    "  print(j)\n",
    "%store monster_dict"
   ]
  },
  {
   "cell_type": "markdown",
   "metadata": {},
   "source": [
    "### Recreate List\n",
    "Before rerunning, we will recreate the list of names from the monster site, while filtering for monsters only in the free source lists. This should limit the number of monsters we need to parse."
   ]
  },
  {
   "cell_type": "code",
   "execution_count": null,
   "metadata": {},
   "outputs": [],
   "source": [
    "#find the uniqe source books we can parse through\n",
    "\n",
    "source_list=np.array(monster_df['Source'])\n",
    "print(np.unique(source_list))\n",
    "\n",
    "#Iterating through all the monster pages in dndbeyond\n",
    "ser = Service('../env/chromedriver.exe')\n",
    "\n",
    "url = 'https://www.dndbeyond.com/monsters?page='\n",
    "\n",
    "monster_name_source_material= []\n",
    "\n",
    "for i in range(1,107):\n",
    "    browser = webdriver.Chrome(service=ser)\n",
    "    browser.get(url+str(i))\n",
    "    page_html = browser.page_source\n",
    "\n",
    "    soup = bs(page_html, 'lxml')\n",
    "    monster_names = soup.find_all('div',{'class':\"row monster-name\"})\n",
    "\n",
    "#At each page, we will iterate through all the monsters, if the monsters contain one of the 3 sources from our list, we will grab that monster name\n",
    "\n",
    "    for monster in monster_names:\n",
    "        page_name = monster.find('span',{'class':'name'})\n",
    "        source_name = monster.find('span',{'class':'source'})\n",
    "        if source_name.text.strip() in source_list:\n",
    "            monster_name_source_material.append(page_name.text.strip())\n",
    "    browser.quit()        \n",
    "    sleep(6)\n",
    "%store monster_name_source_material"
   ]
  },
  {
   "cell_type": "code",
   "execution_count": null,
   "metadata": {},
   "outputs": [],
   "source": [
    "%store -r monster_name_source_material\n",
    "len(monster_name_source_material)"
   ]
  },
  {
   "cell_type": "markdown",
   "metadata": {},
   "source": [
    "### Running Source Only\n",
    "After creating a list of public source only material, I have come up with 549 monster. We will remove any monster we have already parsed. This leaves us with 335 monsters left. A MUCH shorter list to parse."
   ]
  },
  {
   "cell_type": "code",
   "execution_count": null,
   "metadata": {},
   "outputs": [],
   "source": [
    "monster_name_parsed = list(monster_dict[\"Monster Name\"])\n",
    "\n",
    "monster_name_url_ending_source_material = list(name for name in monster_name_source_material if name not in monster_name_parsed)\n",
    "\n",
    "len(monster_name_url_ending_source_material)"
   ]
  },
  {
   "cell_type": "code",
   "execution_count": null,
   "metadata": {},
   "outputs": [],
   "source": [
    "monster_nospace = []\n",
    "\n",
    "# Filter through and replace spaces with dashes to format for urls\n",
    "\n",
    "for name in monster_name_url_ending_source_material:\n",
    "    if not(name.strip().isdigit()):\n",
    "        new_name = name.replace(' ','-')\n",
    "        monster_nospace.append(new_name)\n",
    "    else:\n",
    "        monster_nospace.append(name)\n",
    "        \n",
    "monster_name_url_ending = []\n",
    "#filter and replace '()' with nothing\n",
    "for name in monster_nospace:\n",
    "    if not(name.strip().isdigit()):\n",
    "        new_name = name.replace('(','')\n",
    "        final_name = new_name.replace(')','')\n",
    "        monster_name_url_ending.append(final_name)\n",
    "    else:\n",
    "        monster_name_url_ending.append(name)"
   ]
  },
  {
   "cell_type": "code",
   "execution_count": null,
   "metadata": {},
   "outputs": [],
   "source": [
    "url = 'https://www.dndbeyond.com/monsters/'\n",
    "j=0\n",
    "\n",
    "# Iterate through monster names and add to url \n",
    "for i in monster_name_url_ending[0:215]:\n",
    "  page_html = None\n",
    "# Request the html using selenium function\n",
    "  page_html = Request(url+i).get_selenium('mon-stat-block__name')\n",
    "  j+=1\n",
    "      \n",
    "  if page_html is not None:\n",
    "      soup = bs(page_html, 'lxml')\n",
    "      monster_stat_gathering(soup, monster_dict)\n",
    "  sleep(60)\n",
    "  print(j)\n",
    "%store monster_dict"
   ]
  },
  {
   "cell_type": "code",
   "execution_count": null,
   "metadata": {},
   "outputs": [],
   "source": [
    "# Count and save monster dictionary\n",
    "len(monster_dict['Monster Name'])\n",
    "monster_df.to_csv('../data/raw/Monster_Data_RAW.csv')"
   ]
  }
 ],
 "metadata": {
  "interpreter": {
   "hash": "2db776f1d3cba7926000b31ed89fa7adb52a08316c2db55bfe9500ec477078b3"
  },
  "kernelspec": {
   "display_name": "Python 3.10.1 ('env': venv)",
   "language": "python",
   "name": "python3"
  },
  "language_info": {
   "codemirror_mode": {
    "name": "ipython",
    "version": 3
   },
   "file_extension": ".py",
   "mimetype": "text/x-python",
   "name": "python",
   "nbconvert_exporter": "python",
   "pygments_lexer": "ipython3",
   "version": "3.10.1"
  },
  "orig_nbformat": 4
 },
 "nbformat": 4,
 "nbformat_minor": 2
}
