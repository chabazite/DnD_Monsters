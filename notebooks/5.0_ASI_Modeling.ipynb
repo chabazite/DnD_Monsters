{
 "cells": [
  {
   "cell_type": "code",
   "execution_count": 57,
   "metadata": {},
   "outputs": [
    {
     "data": {
      "text/html": [
       "<div>\n",
       "<style scoped>\n",
       "    .dataframe tbody tr th:only-of-type {\n",
       "        vertical-align: middle;\n",
       "    }\n",
       "\n",
       "    .dataframe tbody tr th {\n",
       "        vertical-align: top;\n",
       "    }\n",
       "\n",
       "    .dataframe thead th {\n",
       "        text-align: right;\n",
       "    }\n",
       "</style>\n",
       "<table border=\"1\" class=\"dataframe\">\n",
       "  <thead>\n",
       "    <tr style=\"text-align: right;\">\n",
       "      <th></th>\n",
       "      <th>Traits</th>\n",
       "      <th>Reactions</th>\n",
       "      <th>Armor Class</th>\n",
       "      <th>Hit Points</th>\n",
       "      <th>Challenge</th>\n",
       "      <th>Proficiency Bonus</th>\n",
       "      <th>STR</th>\n",
       "      <th>DEX</th>\n",
       "      <th>CON</th>\n",
       "      <th>INT</th>\n",
       "      <th>...</th>\n",
       "      <th>chaotic good</th>\n",
       "      <th>chaotic neutral</th>\n",
       "      <th>lawful evil</th>\n",
       "      <th>lawful good</th>\n",
       "      <th>lawful neutral</th>\n",
       "      <th>neutral</th>\n",
       "      <th>neutral evil</th>\n",
       "      <th>neutral good</th>\n",
       "      <th>unaligned</th>\n",
       "      <th>total_stats</th>\n",
       "    </tr>\n",
       "  </thead>\n",
       "  <tbody>\n",
       "    <tr>\n",
       "      <th>0</th>\n",
       "      <td>1</td>\n",
       "      <td>0</td>\n",
       "      <td>19</td>\n",
       "      <td>207</td>\n",
       "      <td>15.0</td>\n",
       "      <td>5</td>\n",
       "      <td>23</td>\n",
       "      <td>12</td>\n",
       "      <td>21</td>\n",
       "      <td>18</td>\n",
       "      <td>...</td>\n",
       "      <td>0.0</td>\n",
       "      <td>0.0</td>\n",
       "      <td>1.0</td>\n",
       "      <td>0.0</td>\n",
       "      <td>0.0</td>\n",
       "      <td>0.0</td>\n",
       "      <td>0.0</td>\n",
       "      <td>0.0</td>\n",
       "      <td>0.0</td>\n",
       "      <td>106</td>\n",
       "    </tr>\n",
       "    <tr>\n",
       "      <th>1</th>\n",
       "      <td>1</td>\n",
       "      <td>0</td>\n",
       "      <td>19</td>\n",
       "      <td>243</td>\n",
       "      <td>16.0</td>\n",
       "      <td>5</td>\n",
       "      <td>27</td>\n",
       "      <td>10</td>\n",
       "      <td>25</td>\n",
       "      <td>16</td>\n",
       "      <td>...</td>\n",
       "      <td>0.0</td>\n",
       "      <td>0.0</td>\n",
       "      <td>0.0</td>\n",
       "      <td>1.0</td>\n",
       "      <td>0.0</td>\n",
       "      <td>0.0</td>\n",
       "      <td>0.0</td>\n",
       "      <td>0.0</td>\n",
       "      <td>0.0</td>\n",
       "      <td>112</td>\n",
       "    </tr>\n",
       "    <tr>\n",
       "      <th>2</th>\n",
       "      <td>1</td>\n",
       "      <td>0</td>\n",
       "      <td>18</td>\n",
       "      <td>200</td>\n",
       "      <td>13.0</td>\n",
       "      <td>5</td>\n",
       "      <td>22</td>\n",
       "      <td>10</td>\n",
       "      <td>22</td>\n",
       "      <td>8</td>\n",
       "      <td>...</td>\n",
       "      <td>0.0</td>\n",
       "      <td>0.0</td>\n",
       "      <td>0.0</td>\n",
       "      <td>0.0</td>\n",
       "      <td>0.0</td>\n",
       "      <td>0.0</td>\n",
       "      <td>0.0</td>\n",
       "      <td>0.0</td>\n",
       "      <td>0.0</td>\n",
       "      <td>86</td>\n",
       "    </tr>\n",
       "    <tr>\n",
       "      <th>3</th>\n",
       "      <td>1</td>\n",
       "      <td>0</td>\n",
       "      <td>15</td>\n",
       "      <td>90</td>\n",
       "      <td>5.0</td>\n",
       "      <td>3</td>\n",
       "      <td>14</td>\n",
       "      <td>20</td>\n",
       "      <td>14</td>\n",
       "      <td>6</td>\n",
       "      <td>...</td>\n",
       "      <td>0.0</td>\n",
       "      <td>0.0</td>\n",
       "      <td>0.0</td>\n",
       "      <td>0.0</td>\n",
       "      <td>0.0</td>\n",
       "      <td>1.0</td>\n",
       "      <td>0.0</td>\n",
       "      <td>0.0</td>\n",
       "      <td>0.0</td>\n",
       "      <td>70</td>\n",
       "    </tr>\n",
       "    <tr>\n",
       "      <th>4</th>\n",
       "      <td>0</td>\n",
       "      <td>0</td>\n",
       "      <td>12</td>\n",
       "      <td>19</td>\n",
       "      <td>0.5</td>\n",
       "      <td>2</td>\n",
       "      <td>16</td>\n",
       "      <td>14</td>\n",
       "      <td>14</td>\n",
       "      <td>6</td>\n",
       "      <td>...</td>\n",
       "      <td>0.0</td>\n",
       "      <td>0.0</td>\n",
       "      <td>0.0</td>\n",
       "      <td>0.0</td>\n",
       "      <td>0.0</td>\n",
       "      <td>0.0</td>\n",
       "      <td>0.0</td>\n",
       "      <td>0.0</td>\n",
       "      <td>1.0</td>\n",
       "      <td>69</td>\n",
       "    </tr>\n",
       "  </tbody>\n",
       "</table>\n",
       "<p>5 rows × 80 columns</p>\n",
       "</div>"
      ],
      "text/plain": [
       "   Traits  Reactions  Armor Class  Hit Points  Challenge  Proficiency Bonus  \\\n",
       "0       1          0           19         207       15.0                  5   \n",
       "1       1          0           19         243       16.0                  5   \n",
       "2       1          0           18         200       13.0                  5   \n",
       "3       1          0           15          90        5.0                  3   \n",
       "4       0          0           12          19        0.5                  2   \n",
       "\n",
       "   STR  DEX  CON  INT  ...  chaotic good  chaotic neutral  lawful evil  \\\n",
       "0   23   12   21   18  ...           0.0              0.0          1.0   \n",
       "1   27   10   25   16  ...           0.0              0.0          0.0   \n",
       "2   22   10   22    8  ...           0.0              0.0          0.0   \n",
       "3   14   20   14    6  ...           0.0              0.0          0.0   \n",
       "4   16   14   14    6  ...           0.0              0.0          0.0   \n",
       "\n",
       "   lawful good  lawful neutral  neutral  neutral evil  neutral good  \\\n",
       "0          0.0             0.0      0.0           0.0           0.0   \n",
       "1          1.0             0.0      0.0           0.0           0.0   \n",
       "2          0.0             0.0      0.0           0.0           0.0   \n",
       "3          0.0             0.0      1.0           0.0           0.0   \n",
       "4          0.0             0.0      0.0           0.0           0.0   \n",
       "\n",
       "   unaligned  total_stats  \n",
       "0        0.0          106  \n",
       "1        0.0          112  \n",
       "2        0.0           86  \n",
       "3        0.0           70  \n",
       "4        1.0           69  \n",
       "\n",
       "[5 rows x 80 columns]"
      ]
     },
     "execution_count": 57,
     "metadata": {},
     "output_type": "execute_result"
    }
   ],
   "source": [
    "import pandas as pd\n",
    "import numpy as np\n",
    "from numpy import mean\n",
    "from numpy import std\n",
    "import matplotlib.pyplot as plt\n",
    "import seaborn as sns\n",
    "import time\n",
    "\n",
    "#Scikit Learn\n",
    "from sklearn.linear_model import LinearRegression\n",
    "from sklearn.neighbors import KNeighborsRegressor\n",
    "from sklearn.ensemble import RandomForestRegressor\n",
    "from sklearn.multioutput import  MultiOutputRegressor\n",
    "from sklearn.ensemble import GradientBoostingRegressor\n",
    "from sklearn.model_selection import KFold\n",
    "from sklearn.model_selection import cross_val_score\n",
    "from sklearn.model_selection import train_test_split\n",
    "from sklearn.metrics import r2_score, mean_squared_error\n",
    "\n",
    "\n",
    "\n",
    "#TensorFlow\n",
    "import tensorflow as tf\n",
    "from tensorflow import keras\n",
    "from tensorflow.keras import layers\n",
    "from keras.models import Sequential\n",
    "from keras.layers import Dense\n",
    "from tensorflow.keras.layers import Normalization\n",
    "import keras_tuner as kt\n",
    "\n",
    "\n",
    "%matplotlib inline\n",
    "\n",
    "monster_df = pd.read_csv('../data/processed/Monster_modeling_df.csv')\n",
    "\n",
    "monster_df.drop(columns={\"Unnamed: 0\", \"Monster Name\", \"Size\",'Type','Alignment'},axis=1, inplace=True)\n",
    "monster_df.head()\n",
    "\n"
   ]
  },
  {
   "cell_type": "code",
   "execution_count": 2,
   "metadata": {},
   "outputs": [],
   "source": [
    "#Input Variables: Size, Type, Environment, Alignment, CR(disguised as 4x player level)\n",
    "#Output Variables: Stats, Saving Throws, Traits(barebones), Attack Bonus, Damage per Round, Reactions (y/n), Legendary Actions (y/n)"
   ]
  },
  {
   "cell_type": "markdown",
   "metadata": {},
   "source": [
    "LinearRegression (and related)\n",
    "KNeighborsRegressor\n",
    "DecisionTreeRegressor\n",
    "RandomForestRegressor (and related)"
   ]
  },
  {
   "cell_type": "code",
   "execution_count": 3,
   "metadata": {},
   "outputs": [
    {
     "data": {
      "text/plain": [
       "Index(['Traits', 'Reactions', 'Armor Class', 'Hit Points', 'Challenge',\n",
       "       'Proficiency Bonus', 'STR', 'DEX', 'CON', 'INT', 'WIS', 'CHA',\n",
       "       'Legendary Actions', 'Attack_Bonus', 'Spell_Bonus', 'Spell_Save_DC',\n",
       "       'WIS_SV', 'INT_SV', 'CHA_SV', 'STR_SV', 'DEX_SV', 'CON_SV', 'Arctic',\n",
       "       'Coastal', 'Desert', 'Forest', 'Grassland', 'Hill', 'Mountain', 'NA',\n",
       "       'Swamp', 'Underdark', 'Underwater', 'Urban', 'Average_Damage_per_Round',\n",
       "       'Damage Resistances', 'Damage Immunities', 'Condition Immunities',\n",
       "       'Damage Vulnerabilities', 'Spellcaster', 'Magic Resistance',\n",
       "       'Legendary Resistance', 'Regeneration', 'Undead Fortitude',\n",
       "       'Pack Tactics', 'Damage Transfer', 'Angelic Weapons', 'Charge',\n",
       "       'size_ordinal', 'aberration', 'beast', 'celestial', 'construct',\n",
       "       'dragon', 'elemental', 'fey', 'fiend', 'giant', 'humanoid',\n",
       "       'monstrosity', 'ooze', 'plant', 'swarm', 'undead', 'any alignment',\n",
       "       'any chaotic alignment', 'any evil alignment', 'any non-good alignment',\n",
       "       'any non-lawful alignment', 'chaotic evil', 'chaotic good',\n",
       "       'chaotic neutral', 'lawful evil', 'lawful good', 'lawful neutral',\n",
       "       'neutral', 'neutral evil', 'neutral good', 'unaligned', 'total_stats'],\n",
       "      dtype='object')"
      ]
     },
     "execution_count": 3,
     "metadata": {},
     "output_type": "execute_result"
    }
   ],
   "source": [
    "monster_df.columns"
   ]
  },
  {
   "cell_type": "markdown",
   "metadata": {},
   "source": [
    "## MultOutput Machine Learning\n",
    "Classic machine learning fails here since it generally maps multiple inputs to a single output. We could run independent regressions, predict each variable one at a time. This ignores correlations in the outputs however, so it isn't optimal.\n",
    "\n",
    "We will try two methods: Random Forests with multioutput regressor and using Tensorflow Keras API"
   ]
  },
  {
   "cell_type": "code",
   "execution_count": 4,
   "metadata": {},
   "outputs": [],
   "source": [
    "## Train Test Split\n",
    "\n",
    "X_data = monster_df[['Coastal','Arctic','Desert','Forest','Grassland', 'Hill', 'Mountain', 'NA', 'Swamp', 'Underdark','Underwater', 'Urban','size_ordinal', 'aberration', 'beast','celestial', 'construct', 'dragon', 'elemental', 'fey', 'fiend', 'giant', 'humanoid', 'monstrosity', 'ooze', 'plant', 'swarm', 'undead', 'any alignment', 'any chaotic alignment', 'any evil alignment', 'any non-good alignment', 'any non-lawful alignment', 'chaotic evil', 'chaotic good', 'chaotic neutral', 'lawful evil', 'lawful good','lawful neutral', 'neutral', 'neutral evil', 'neutral good', 'unaligned','Challenge']]\n",
    "\n",
    "y_data = monster_df[['Hit Points','Armor Class','Proficiency Bonus','STR','DEX','CON','WIS','INT','CHA', 'STR_SV','DEX_SV','CON_SV','WIS_SV','INT_SV','CHA_SV', 'Attack_Bonus','Average_Damage_per_Round','Legendary Actions', 'Damage Resistances', 'Damage Immunities', 'Condition Immunities', 'Damage Vulnerabilities', 'Legendary Resistance', 'Magic Resistance']]\n",
    "\n",
    "\n",
    "feature_list = X_data.columns\n",
    "target_list = y_data.columns\n",
    "\n",
    "x_train, x_test, y_train, y_test = train_test_split(X_data,y_data,test_size=0.3,random_state=42)\n",
    "\n",
    "\n"
   ]
  },
  {
   "cell_type": "markdown",
   "metadata": {},
   "source": [
    "## Linear Regression for Multioutput Regression"
   ]
  },
  {
   "cell_type": "code",
   "execution_count": 5,
   "metadata": {},
   "outputs": [
    {
     "name": "stdout",
     "output_type": "stream",
     "text": [
      "Training Score:  0.7137115581392551\n",
      "Testing Score:  0.6056351821451139\n",
      "Mean squared error: 50.46\n",
      "Coefficient of determination: 0.61\n",
      "0.5317739480983121\n"
     ]
    }
   ],
   "source": [
    "model = (LinearRegression())\n",
    "model.fit(x_train, y_train)\n",
    "print(\"Training Score: \", model.score(x_train, y_train))\n",
    "print(\"Testing Score: \",model.score(x_test, y_test))\n",
    "yhat_l = model.predict(x_test)\n",
    "\n",
    "print(\"Mean squared error: %.2f\" % mean_squared_error(y_test, yhat_l))\n",
    "# The coefficient of determination: 1 is perfect prediction\n",
    "print(\"Coefficient of determination: %.2f\" % r2_score(y_test, yhat_l))\n",
    "scores = cross_val_score(model,X_data,y_data,cv=5)\n",
    "print(scores.mean())"
   ]
  },
  {
   "cell_type": "markdown",
   "metadata": {},
   "source": [
    "## k-Nearest Neighbors for Multioutput Regression"
   ]
  },
  {
   "cell_type": "code",
   "execution_count": 6,
   "metadata": {},
   "outputs": [
    {
     "name": "stdout",
     "output_type": "stream",
     "text": [
      "Training Score:  0.6909416913834311\n",
      "Testing Score:  0.587280629588338\n",
      "Mean squared error: 31.44\n",
      "Coefficient of determination: 0.59\n",
      "0.49103829885942335\n"
     ]
    }
   ],
   "source": [
    "model_k = MultiOutputRegressor(KNeighborsRegressor())\n",
    "model_k.fit(x_train, y_train)\n",
    "print(\"Training Score: \", model_k.score(x_train, y_train))\n",
    "print(\"Testing Score: \",model_k.score(x_test, y_test))\n",
    "yhat_k = model_k.predict(x_test)\n",
    "\n",
    "print(\"Mean squared error: %.2f\" % mean_squared_error(y_test, yhat_k))\n",
    "# The coefficient of determination: 1 is perfect prediction\n",
    "print(\"Coefficient of determination: %.2f\" % r2_score(y_test, yhat_k))\n",
    "scores = cross_val_score(model_k,X_data,y_data,cv=5)\n",
    "print(scores.mean())\n"
   ]
  },
  {
   "cell_type": "markdown",
   "metadata": {},
   "source": [
    "## Multi Output Gradiant Boosting Regressor"
   ]
  },
  {
   "cell_type": "code",
   "execution_count": 7,
   "metadata": {},
   "outputs": [
    {
     "name": "stdout",
     "output_type": "stream",
     "text": [
      "Training Score:  0.887926294036876\n",
      "Testing Score:  0.6792865316241952\n",
      "Mean squared error: 21.79\n",
      "Coefficient of determination: 0.68\n",
      "0.6284217079524883\n"
     ]
    }
   ],
   "source": [
    "model_g = MultiOutputRegressor(GradientBoostingRegressor(n_estimators=75))\n",
    "model_g.fit(x_train, y_train)\n",
    "print(\"Training Score: \", model_g.score(x_train, y_train))\n",
    "print(\"Testing Score: \",model_g.score(x_test, y_test))\n",
    "yhat_g = model_g.predict(x_test)\n",
    "\n",
    "print(\"Mean squared error: %.2f\" % mean_squared_error(y_test, yhat_g))\n",
    "# The coefficient of determination: 1 is perfect prediction\n",
    "print(\"Coefficient of determination: %.2f\" % r2_score(y_test, yhat_g))\n",
    "scores = cross_val_score(model_g,X_data,y_data,cv=5)\n",
    "print(scores.mean())"
   ]
  },
  {
   "cell_type": "markdown",
   "metadata": {},
   "source": [
    "## Random Forest Regression"
   ]
  },
  {
   "cell_type": "code",
   "execution_count": 8,
   "metadata": {},
   "outputs": [
    {
     "name": "stdout",
     "output_type": "stream",
     "text": [
      "Training Score:  0.9259184314148653\n",
      "Testing Score:  0.6278197300510371\n",
      "Mean squared error: 23.52\n",
      "Coefficient of determination: 0.63\n"
     ]
    }
   ],
   "source": [
    "n_est = 50\n",
    "max_depth = 15\n",
    "model_R = RandomForestRegressor(n_estimators = n_est,max_depth = max_depth, random_state=0)\n",
    "model_R.fit(x_train, y_train)\n",
    "print(\"Training Score: \", model_R.score(x_train, y_train))\n",
    "print(\"Testing Score: \",model_R.score(x_test, y_test))\n",
    "yhat_r = model_R.predict(x_test)\n",
    "\n",
    "baseline_MSE = mean_squared_error(y_test, yhat_r)\n",
    "baseline_r2 = r2_score(y_test, yhat_r)\n",
    "\n",
    "print(\"Mean squared error: %.2f\" % baseline_MSE)\n",
    "# The coefficient of determination: 1 is perfect prediction\n",
    "print(\"Coefficient of determination: %.2f\" % baseline_r2)\n"
   ]
  },
  {
   "cell_type": "markdown",
   "metadata": {},
   "source": [
    "## More info on Random Forest Regressor\n"
   ]
  },
  {
   "cell_type": "code",
   "execution_count": 10,
   "metadata": {},
   "outputs": [
    {
     "name": "stdout",
     "output_type": "stream",
     "text": [
      "Variable: Challenge            Importance: 0.87\n",
      "Variable: size_ordinal         Importance: 0.07\n",
      "Variable: dragon               Importance: 0.01\n",
      "Variable: unaligned            Importance: 0.01\n",
      "Variable: Coastal              Importance: 0.0\n",
      "Variable: Arctic               Importance: 0.0\n",
      "Variable: Desert               Importance: 0.0\n",
      "Variable: Forest               Importance: 0.0\n",
      "Variable: Grassland            Importance: 0.0\n",
      "Variable: Hill                 Importance: 0.0\n",
      "Variable: Mountain             Importance: 0.0\n",
      "Variable: NA                   Importance: 0.0\n",
      "Variable: Swamp                Importance: 0.0\n",
      "Variable: Underdark            Importance: 0.0\n",
      "Variable: Underwater           Importance: 0.0\n",
      "Variable: Urban                Importance: 0.0\n",
      "Variable: aberration           Importance: 0.0\n",
      "Variable: beast                Importance: 0.0\n",
      "Variable: celestial            Importance: 0.0\n",
      "Variable: construct            Importance: 0.0\n",
      "Variable: elemental            Importance: 0.0\n",
      "Variable: fey                  Importance: 0.0\n",
      "Variable: fiend                Importance: 0.0\n",
      "Variable: giant                Importance: 0.0\n",
      "Variable: humanoid             Importance: 0.0\n",
      "Variable: monstrosity          Importance: 0.0\n",
      "Variable: ooze                 Importance: 0.0\n",
      "Variable: plant                Importance: 0.0\n",
      "Variable: swarm                Importance: 0.0\n",
      "Variable: undead               Importance: 0.0\n",
      "Variable: any alignment        Importance: 0.0\n",
      "Variable: any chaotic alignment Importance: 0.0\n",
      "Variable: any evil alignment   Importance: 0.0\n",
      "Variable: any non-good alignment Importance: 0.0\n",
      "Variable: any non-lawful alignment Importance: 0.0\n",
      "Variable: chaotic evil         Importance: 0.0\n",
      "Variable: chaotic good         Importance: 0.0\n",
      "Variable: chaotic neutral      Importance: 0.0\n",
      "Variable: lawful evil          Importance: 0.0\n",
      "Variable: lawful good          Importance: 0.0\n",
      "Variable: lawful neutral       Importance: 0.0\n",
      "Variable: neutral              Importance: 0.0\n",
      "Variable: neutral evil         Importance: 0.0\n",
      "Variable: neutral good         Importance: 0.0\n"
     ]
    },
    {
     "data": {
      "text/plain": [
       "[None,\n",
       " None,\n",
       " None,\n",
       " None,\n",
       " None,\n",
       " None,\n",
       " None,\n",
       " None,\n",
       " None,\n",
       " None,\n",
       " None,\n",
       " None,\n",
       " None,\n",
       " None,\n",
       " None,\n",
       " None,\n",
       " None,\n",
       " None,\n",
       " None,\n",
       " None,\n",
       " None,\n",
       " None,\n",
       " None,\n",
       " None,\n",
       " None,\n",
       " None,\n",
       " None,\n",
       " None,\n",
       " None,\n",
       " None,\n",
       " None,\n",
       " None,\n",
       " None,\n",
       " None,\n",
       " None,\n",
       " None,\n",
       " None,\n",
       " None,\n",
       " None,\n",
       " None,\n",
       " None,\n",
       " None,\n",
       " None,\n",
       " None]"
      ]
     },
     "execution_count": 10,
     "metadata": {},
     "output_type": "execute_result"
    }
   ],
   "source": [
    "## Feature Importance\n",
    "feature_list = X_data.columns\n",
    "# Get numerical feature importances\n",
    "importances = list(model_R.feature_importances_)\n",
    "# List of tuples with variable and importance\n",
    "feature_importances = [(feature, round(importance, 2)) for feature, importance in zip(feature_list, importances)]\n",
    "# Sort the feature importances by most important first\n",
    "feature_importances = sorted(feature_importances, key = lambda x: x[1], reverse = True)\n",
    "# Print out the feature and importances \n",
    "[print('Variable: {:20} Importance: {}'.format(*pair)) for pair in feature_importances]\n"
   ]
  },
  {
   "cell_type": "markdown",
   "metadata": {},
   "source": [
    "## Baseline TensorFlow model Keras\n",
    "Rather than train_test, we will use keras's validation split & validation data in order to split before modeling and then monitor test accuracy during training"
   ]
  },
  {
   "cell_type": "code",
   "execution_count": 11,
   "metadata": {},
   "outputs": [],
   "source": [
    "# Turn data into numpy arrays\n",
    "X = np.array(X_data)\n",
    "Y = np.array(y_data)"
   ]
  },
  {
   "cell_type": "code",
   "execution_count": 12,
   "metadata": {},
   "outputs": [
    {
     "name": "stdout",
     "output_type": "stream",
     "text": [
      "var: 1.0000\n",
      "mean: 0.0000\n"
     ]
    }
   ],
   "source": [
    "#feature normlization will happen as part of keras preprocessing layer : Normalization\n",
    "normalizer =  Normalization(axis=-1)\n",
    "normalizer.adapt(X)\n",
    "\n",
    "normalized_data = normalizer(X)\n",
    "print(\"var: %.4f\" % np.var(normalized_data))\n",
    "print(\"mean: %.4f\" % np.mean(normalized_data))"
   ]
  },
  {
   "cell_type": "code",
   "execution_count": 13,
   "metadata": {},
   "outputs": [
    {
     "name": "stdout",
     "output_type": "stream",
     "text": [
      "Model: \"sequential\"\n",
      "_________________________________________________________________\n",
      " Layer (type)                Output Shape              Param #   \n",
      "=================================================================\n",
      " normalization (Normalizatio  (None, 44)               89        \n",
      " n)                                                              \n",
      "                                                                 \n",
      " dense (Dense)               (None, 24)                1080      \n",
      "                                                                 \n",
      "=================================================================\n",
      "Total params: 1,169\n",
      "Trainable params: 1,080\n",
      "Non-trainable params: 89\n",
      "_________________________________________________________________\n"
     ]
    }
   ],
   "source": [
    "# simple test model\n",
    "x_train = np.array(x_train)\n",
    "model = Sequential([\n",
    "    normalizer,\n",
    "    Dense(units=24)\n",
    "])\n",
    "model.summary()"
   ]
  },
  {
   "cell_type": "code",
   "execution_count": 14,
   "metadata": {},
   "outputs": [
    {
     "data": {
      "text/plain": [
       "array([[-2.4946098 , -0.25490582,  0.6611234 , ..., -0.32255724,\n",
       "        -0.6594318 ,  0.5155428 ],\n",
       "       [ 0.43079168,  1.2653267 , -0.4963568 , ...,  0.94937783,\n",
       "        -0.6530229 ,  0.5135398 ],\n",
       "       [-0.95175666, -0.43467352,  0.42275295, ..., -0.92345107,\n",
       "        -0.68453974, -1.1832728 ],\n",
       "       ...,\n",
       "       [-0.72634846,  1.5143772 ,  0.7302902 , ..., -1.2778054 ,\n",
       "         0.99729943,  1.7610897 ],\n",
       "       [ 1.438926  , -0.22335291, -1.5569938 , ...,  0.44491154,\n",
       "        -1.8388588 , -0.7933414 ],\n",
       "       [ 0.53413016,  0.21913487, -0.11190552, ...,  0.35367528,\n",
       "         0.1792722 ,  0.43187246]], dtype=float32)"
      ]
     },
     "execution_count": 14,
     "metadata": {},
     "output_type": "execute_result"
    }
   ],
   "source": [
    "model.predict(x_test)"
   ]
  },
  {
   "cell_type": "code",
   "execution_count": 15,
   "metadata": {},
   "outputs": [],
   "source": [
    "model.compile(\n",
    "    optimizer=tf.optimizers.Adam(learning_rate=0.1),\n",
    "    loss='mean_absolute_error')"
   ]
  },
  {
   "cell_type": "code",
   "execution_count": 16,
   "metadata": {},
   "outputs": [
    {
     "name": "stdout",
     "output_type": "stream",
     "text": [
      "CPU times: total: 4.72 s\n",
      "Wall time: 3.92 s\n"
     ]
    }
   ],
   "source": [
    "%%time\n",
    "history = model.fit(\n",
    "    x_train,\n",
    "    y_train,\n",
    "    epochs=100,\n",
    "    verbose =0,\n",
    "    validation_split = 0.2\n",
    ")"
   ]
  },
  {
   "cell_type": "code",
   "execution_count": 18,
   "metadata": {},
   "outputs": [
    {
     "data": {
      "image/png": "[encoded data removed]",
      "text/plain": [
       "<Figure size 432x288 with 1 Axes>"
      ]
     },
     "metadata": {
      "needs_background": "light"
     },
     "output_type": "display_data"
    }
   ],
   "source": [
    "def plot_loss(history):\n",
    "  plt.plot(history.history['loss'], label='loss')\n",
    "  plt.plot(history.history['val_loss'], label='val_loss')\n",
    "  plt.ylim([0, 10])\n",
    "  plt.xlabel('Epoch')\n",
    "  plt.ylabel('Error')\n",
    "  plt.legend()\n",
    "  plt.grid(True)\n",
    "\n",
    "plot_loss(history)"
   ]
  },
  {
   "cell_type": "code",
   "execution_count": 19,
   "metadata": {},
   "outputs": [
    {
     "data": {
      "text/plain": [
       "5.114359378814697"
      ]
     },
     "execution_count": 19,
     "metadata": {},
     "output_type": "execute_result"
    }
   ],
   "source": [
    "model.evaluate(x_test,y_test,verbose=0)"
   ]
  },
  {
   "cell_type": "code",
   "execution_count": 33,
   "metadata": {},
   "outputs": [],
   "source": [
    "def compile_model(n_inputs, n_outputs):\n",
    "    model_tf = Sequential([\n",
    "    normalizer])\n",
    "    model_tf.add(Dense(20, input_dim = n_inputs, kernel_initializer = 'he_uniform', activation = 'relu'))\n",
    "    model_tf.add(Dense(10, activation= \"relu\"))\n",
    "    model_tf.add(Dense(5, activation= \"relu\"))\n",
    "    model_tf.add(Dense(n_outputs))\n",
    "    model_tf.compile(loss= \"mean_squared_error\" , optimizer=\"adam\", metrics=['accuracy'])\n",
    "    return model_tf\n",
    "    "
   ]
  },
  {
   "cell_type": "code",
   "execution_count": 34,
   "metadata": {},
   "outputs": [],
   "source": [
    "def cross_validate(X, y, K = 5, **kwargs):\n",
    "    '''\n",
    "    function adapted from yousefnami- towardsdatascience\n",
    "    uses KFold validation to check that model works for different randomised conditions.\n",
    "    '''\n",
    "    scores = []\n",
    "    histories = []\n",
    "    for train, test in KFold(n_splits=K, shuffle=True).split(X,y):\n",
    "        model = compile_model(44,24) # compile model\n",
    "        start = time.time()\n",
    "        histories.append(model.fit(X[train], y[train],\n",
    "                                   validation_data = (X[test],y[test]), # feed in the test data for plotting\n",
    "                                   **kwargs).history)\n",
    "        print(time.time() - start)\n",
    "        scores.append(model.evaluate(X[test], y[test], verbose = 0)) # evaluate the test dataset\n",
    "    print(\"average test loss: \", np.asarray(scores)[:,0].mean())\n",
    "    print(\"average test accuracy: \", np.asarray(scores)[:,1].mean())\n",
    "    print(model.summary())\n",
    "    return scores, histories\n",
    "\n",
    "def plot_histories(histories, metrics = ['loss', 'accuracy', 'val_accuracy','val_loss']):\n",
    "    \"\"\"\n",
    "    function adapted from yousefnami- towardsdatascience\n",
    "    to plot the histories of data\n",
    "    \"\"\"\n",
    "    fig, axes = plt.subplots(nrows = (len(metrics) - 1) // 2 + 1, ncols = 2, figsize = (16,16))\n",
    "    axes = axes.reshape((len(metrics) - 1) // 2 + 1, 2)\n",
    "    for i,metric in enumerate(metrics):\n",
    "        for history in histories:\n",
    "            axes[(i+2)//2 - 1, 1 - (i+1)%2].plot(history[metric])\n",
    "            axes[(i+2)//2 - 1, 1 - (i+1)%2].legend([i for i in range(len(histories))])\n",
    "            axes[(i+2)//2 - 1, 1 - (i+1)%2].set_xticks(\n",
    "                np.arange(max(history[metric]))\n",
    "            )"
   ]
  },
  {
   "cell_type": "code",
   "execution_count": 46,
   "metadata": {},
   "outputs": [
    {
     "name": "stdout",
     "output_type": "stream",
     "text": [
      "9/9 [==============================] - 1s 25ms/step - loss: 838.4747 - accuracy: 0.0000e+00 - val_loss: 503.0925 - val_accuracy: 0.0000e+00\n",
      "0.8490681648254395\n",
      "9/9 [==============================] - 1s 24ms/step - loss: 703.4246 - accuracy: 0.0072 - val_loss: 1040.7506 - val_accuracy: 0.0000e+00\n",
      "0.7650632858276367\n",
      "9/9 [==============================] - 1s 26ms/step - loss: 821.9284 - accuracy: 0.0036 - val_loss: 593.4671 - val_accuracy: 0.0000e+00\n",
      "0.7580645084381104\n",
      "9/9 [==============================] - 1s 23ms/step - loss: 819.7354 - accuracy: 0.0287 - val_loss: 567.1981 - val_accuracy: 0.0145\n",
      "0.7420618534088135\n",
      "9/9 [==============================] - 1s 23ms/step - loss: 676.4110 - accuracy: 0.1577 - val_loss: 1153.2996 - val_accuracy: 0.1594\n",
      "0.7410616874694824\n",
      "average test loss:  771.561572265625\n",
      "average test accuracy:  0.03478261008858681\n",
      "Model: \"sequential_40\"\n",
      "_________________________________________________________________\n",
      " Layer (type)                Output Shape              Param #   \n",
      "=================================================================\n",
      " normalization (Normalizatio  (None, 44)               89        \n",
      " n)                                                              \n",
      "                                                                 \n",
      " dense_157 (Dense)           (None, 20)                900       \n",
      "                                                                 \n",
      " dense_158 (Dense)           (None, 10)                210       \n",
      "                                                                 \n",
      " dense_159 (Dense)           (None, 5)                 55        \n",
      "                                                                 \n",
      " dense_160 (Dense)           (None, 24)                144       \n",
      "                                                                 \n",
      "=================================================================\n",
      "Total params: 1,398\n",
      "Trainable params: 1,309\n",
      "Non-trainable params: 89\n",
      "_________________________________________________________________\n",
      "None\n"
     ]
    }
   ],
   "source": [
    "#baseline model: average test loss:771, average test acc: 3.4%\n",
    "scores, histories = cross_validate(X,Y)"
   ]
  },
  {
   "cell_type": "code",
   "execution_count": 41,
   "metadata": {},
   "outputs": [
    {
     "data": {
      "image/png": "[encoded data removed]",
      "text/plain": [
       "<IPython.core.display.Image object>"
      ]
     },
     "execution_count": 41,
     "metadata": {},
     "output_type": "execute_result"
    }
   ],
   "source": [
    "keras.utils.plot_model(model, \"my_first_model.png\",show_shapes=True)"
   ]
  },
  {
   "cell_type": "code",
   "execution_count": 47,
   "metadata": {},
   "outputs": [
    {
     "data": {
      "image/png": "[encoded data removed]",
      "text/plain": [
       "<Figure size 1152x1152 with 4 Axes>"
      ]
     },
     "metadata": {
      "needs_background": "light"
     },
     "output_type": "display_data"
    }
   ],
   "source": [
    "plot_histories(histories)"
   ]
  },
  {
   "cell_type": "code",
   "execution_count": null,
   "metadata": {},
   "outputs": [],
   "source": [
    "#hyperparameter tuning\n",
    "\n",
    "scores_tune, histories_tune = cross_validate(X,Y,epochs=50,verbose=0, batch_size=32)"
   ]
  },
  {
   "cell_type": "markdown",
   "metadata": {},
   "source": [
    "## Model Tuning\n",
    "Lets look at:\n",
    "activation functio: relu and tanh\n",
    "batch size: 16,32,64\n",
    "epochs: 50, 100, 300\n",
    "learning rate: 0.01, 0.001, and 0.0001\n",
    "\n",
    "\n",
    "Trial #1: Epochs=100; Test Loss = 73.14, Test Acc = 78.7%, ~ 4-5 sec\n",
    "\n",
    "Trial #2: Eppochs=300; Test Loss =68.48, Test Acc = 81.3%, ~12-13 sec\n",
    "\n",
    "Trial #2: Epochs =50; Test Loss = 131.5, Test Acc = 77.6%, ~2-3 sec\n",
    "\n",
    "Trial #4: Epochs = 50, bach_size=16; Test Loss = 91.9,  Test Accc = 77.9, ~3-4 sec\n",
    "\n",
    "Trial # 5: \"\"\"\", batch_size =32\n"
   ]
  },
  {
   "cell_type": "code",
   "execution_count": 56,
   "metadata": {},
   "outputs": [],
   "source": [
    "# Define the parameters to try out\n",
    "params = {'activation': [\"relu\", \"tanh\"],\n",
    "          'batch_size': [16, 32, 64], \n",
    "          'epochs': [50, 100,300],\n",
    "          'learning_rate': [0.01, 0.001, 0.0001]}"
   ]
  },
  {
   "cell_type": "code",
   "execution_count": null,
   "metadata": {},
   "outputs": [],
   "source": [
    "model.save(\"monster_generator.h5\")"
   ]
  }
 ],
 "metadata": {
  "interpreter": {
   "hash": "2db776f1d3cba7926000b31ed89fa7adb52a08316c2db55bfe9500ec477078b3"
  },
  "kernelspec": {
   "display_name": "Python 3.10.1 ('env': venv)",
   "language": "python",
   "name": "python3"
  },
  "language_info": {
   "codemirror_mode": {
    "name": "ipython",
    "version": 3
   },
   "file_extension": ".py",
   "mimetype": "text/x-python",
   "name": "python",
   "nbconvert_exporter": "python",
   "pygments_lexer": "ipython3",
   "version": "3.10.1"
  },
  "orig_nbformat": 4
 },
 "nbformat": 4,
 "nbformat_minor": 2
}
