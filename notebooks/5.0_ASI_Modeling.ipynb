{
 "cells": [
  {
   "cell_type": "code",
   "execution_count": 36,
   "metadata": {},
   "outputs": [
    {
     "data": {
      "text/html": [
       "<div>\n",
       "<style scoped>\n",
       "    .dataframe tbody tr th:only-of-type {\n",
       "        vertical-align: middle;\n",
       "    }\n",
       "\n",
       "    .dataframe tbody tr th {\n",
       "        vertical-align: top;\n",
       "    }\n",
       "\n",
       "    .dataframe thead th {\n",
       "        text-align: right;\n",
       "    }\n",
       "</style>\n",
       "<table border=\"1\" class=\"dataframe\">\n",
       "  <thead>\n",
       "    <tr style=\"text-align: right;\">\n",
       "      <th></th>\n",
       "      <th>Traits</th>\n",
       "      <th>Reactions</th>\n",
       "      <th>Armor Class</th>\n",
       "      <th>Hit Points</th>\n",
       "      <th>Challenge</th>\n",
       "      <th>Proficiency Bonus</th>\n",
       "      <th>STR</th>\n",
       "      <th>DEX</th>\n",
       "      <th>CON</th>\n",
       "      <th>INT</th>\n",
       "      <th>WIS</th>\n",
       "      <th>CHA</th>\n",
       "      <th>Legendary Actions</th>\n",
       "      <th>Attack_Bonus</th>\n",
       "      <th>Spell_Bonus</th>\n",
       "      <th>Spell_Save_DC</th>\n",
       "      <th>WIS_SV</th>\n",
       "      <th>INT_SV</th>\n",
       "      <th>CHA_SV</th>\n",
       "      <th>STR_SV</th>\n",
       "      <th>DEX_SV</th>\n",
       "      <th>CON_SV</th>\n",
       "      <th>Arctic</th>\n",
       "      <th>Coastal</th>\n",
       "      <th>Desert</th>\n",
       "      <th>Forest</th>\n",
       "      <th>Grassland</th>\n",
       "      <th>Hill</th>\n",
       "      <th>Mountain</th>\n",
       "      <th>NA</th>\n",
       "      <th>Swamp</th>\n",
       "      <th>Underdark</th>\n",
       "      <th>Underwater</th>\n",
       "      <th>Urban</th>\n",
       "      <th>Average_Damage_per_Round</th>\n",
       "      <th>Damage Resistances</th>\n",
       "      <th>Damage Immunities</th>\n",
       "      <th>Condition Immunities</th>\n",
       "      <th>Damage Vulnerabilities</th>\n",
       "      <th>Spellcaster</th>\n",
       "      <th>Magic Resistance</th>\n",
       "      <th>Legendary Resistance</th>\n",
       "      <th>Regeneration</th>\n",
       "      <th>Undead Fortitude</th>\n",
       "      <th>Pack Tactics</th>\n",
       "      <th>Damage Transfer</th>\n",
       "      <th>Angelic Weapons</th>\n",
       "      <th>Charge</th>\n",
       "      <th>size_ordinal</th>\n",
       "      <th>aberration</th>\n",
       "      <th>beast</th>\n",
       "      <th>celestial</th>\n",
       "      <th>construct</th>\n",
       "      <th>dragon</th>\n",
       "      <th>elemental</th>\n",
       "      <th>fey</th>\n",
       "      <th>fiend</th>\n",
       "      <th>giant</th>\n",
       "      <th>humanoid</th>\n",
       "      <th>monstrosity</th>\n",
       "      <th>ooze</th>\n",
       "      <th>plant</th>\n",
       "      <th>swarm</th>\n",
       "      <th>undead</th>\n",
       "      <th>any alignment</th>\n",
       "      <th>any chaotic alignment</th>\n",
       "      <th>any evil alignment</th>\n",
       "      <th>any non-good alignment</th>\n",
       "      <th>any non-lawful alignment</th>\n",
       "      <th>chaotic evil</th>\n",
       "      <th>chaotic good</th>\n",
       "      <th>chaotic neutral</th>\n",
       "      <th>lawful evil</th>\n",
       "      <th>lawful good</th>\n",
       "      <th>lawful neutral</th>\n",
       "      <th>neutral</th>\n",
       "      <th>neutral evil</th>\n",
       "      <th>neutral good</th>\n",
       "      <th>unaligned</th>\n",
       "      <th>total_stats</th>\n",
       "    </tr>\n",
       "  </thead>\n",
       "  <tbody>\n",
       "    <tr>\n",
       "      <th>0</th>\n",
       "      <td>1</td>\n",
       "      <td>0</td>\n",
       "      <td>19</td>\n",
       "      <td>207</td>\n",
       "      <td>15.0</td>\n",
       "      <td>5</td>\n",
       "      <td>23</td>\n",
       "      <td>12</td>\n",
       "      <td>21</td>\n",
       "      <td>18</td>\n",
       "      <td>15</td>\n",
       "      <td>17</td>\n",
       "      <td>1</td>\n",
       "      <td>11</td>\n",
       "      <td>0</td>\n",
       "      <td>0</td>\n",
       "      <td>7</td>\n",
       "      <td>4</td>\n",
       "      <td>8</td>\n",
       "      <td>6</td>\n",
       "      <td>6</td>\n",
       "      <td>10</td>\n",
       "      <td>0</td>\n",
       "      <td>0</td>\n",
       "      <td>0</td>\n",
       "      <td>1</td>\n",
       "      <td>0</td>\n",
       "      <td>0</td>\n",
       "      <td>0</td>\n",
       "      <td>0</td>\n",
       "      <td>0</td>\n",
       "      <td>0</td>\n",
       "      <td>0</td>\n",
       "      <td>0</td>\n",
       "      <td>97.000000</td>\n",
       "      <td>0</td>\n",
       "      <td>1</td>\n",
       "      <td>1</td>\n",
       "      <td>0</td>\n",
       "      <td>0.0</td>\n",
       "      <td>0.0</td>\n",
       "      <td>1.0</td>\n",
       "      <td>0.0</td>\n",
       "      <td>0.0</td>\n",
       "      <td>0.0</td>\n",
       "      <td>0.0</td>\n",
       "      <td>0.0</td>\n",
       "      <td>0.0</td>\n",
       "      <td>5</td>\n",
       "      <td>0.0</td>\n",
       "      <td>0.0</td>\n",
       "      <td>0.0</td>\n",
       "      <td>0.0</td>\n",
       "      <td>1.0</td>\n",
       "      <td>0.0</td>\n",
       "      <td>0.0</td>\n",
       "      <td>0.0</td>\n",
       "      <td>0.0</td>\n",
       "      <td>0.0</td>\n",
       "      <td>0.0</td>\n",
       "      <td>0.0</td>\n",
       "      <td>0.0</td>\n",
       "      <td>0.0</td>\n",
       "      <td>0.0</td>\n",
       "      <td>0.0</td>\n",
       "      <td>0.0</td>\n",
       "      <td>0.0</td>\n",
       "      <td>0.0</td>\n",
       "      <td>0.0</td>\n",
       "      <td>0.0</td>\n",
       "      <td>0.0</td>\n",
       "      <td>0.0</td>\n",
       "      <td>1.0</td>\n",
       "      <td>0.0</td>\n",
       "      <td>0.0</td>\n",
       "      <td>0.0</td>\n",
       "      <td>0.0</td>\n",
       "      <td>0.0</td>\n",
       "      <td>0.0</td>\n",
       "      <td>106</td>\n",
       "    </tr>\n",
       "    <tr>\n",
       "      <th>1</th>\n",
       "      <td>1</td>\n",
       "      <td>0</td>\n",
       "      <td>19</td>\n",
       "      <td>243</td>\n",
       "      <td>16.0</td>\n",
       "      <td>5</td>\n",
       "      <td>27</td>\n",
       "      <td>10</td>\n",
       "      <td>25</td>\n",
       "      <td>16</td>\n",
       "      <td>13</td>\n",
       "      <td>21</td>\n",
       "      <td>1</td>\n",
       "      <td>13</td>\n",
       "      <td>0</td>\n",
       "      <td>0</td>\n",
       "      <td>6</td>\n",
       "      <td>3</td>\n",
       "      <td>10</td>\n",
       "      <td>8</td>\n",
       "      <td>5</td>\n",
       "      <td>12</td>\n",
       "      <td>0</td>\n",
       "      <td>0</td>\n",
       "      <td>0</td>\n",
       "      <td>0</td>\n",
       "      <td>0</td>\n",
       "      <td>0</td>\n",
       "      <td>1</td>\n",
       "      <td>0</td>\n",
       "      <td>0</td>\n",
       "      <td>0</td>\n",
       "      <td>0</td>\n",
       "      <td>1</td>\n",
       "      <td>103.000000</td>\n",
       "      <td>0</td>\n",
       "      <td>1</td>\n",
       "      <td>0</td>\n",
       "      <td>0</td>\n",
       "      <td>0.0</td>\n",
       "      <td>0.0</td>\n",
       "      <td>1.0</td>\n",
       "      <td>0.0</td>\n",
       "      <td>0.0</td>\n",
       "      <td>0.0</td>\n",
       "      <td>0.0</td>\n",
       "      <td>0.0</td>\n",
       "      <td>0.0</td>\n",
       "      <td>5</td>\n",
       "      <td>0.0</td>\n",
       "      <td>0.0</td>\n",
       "      <td>0.0</td>\n",
       "      <td>0.0</td>\n",
       "      <td>1.0</td>\n",
       "      <td>0.0</td>\n",
       "      <td>0.0</td>\n",
       "      <td>0.0</td>\n",
       "      <td>0.0</td>\n",
       "      <td>0.0</td>\n",
       "      <td>0.0</td>\n",
       "      <td>0.0</td>\n",
       "      <td>0.0</td>\n",
       "      <td>0.0</td>\n",
       "      <td>0.0</td>\n",
       "      <td>0.0</td>\n",
       "      <td>0.0</td>\n",
       "      <td>0.0</td>\n",
       "      <td>0.0</td>\n",
       "      <td>0.0</td>\n",
       "      <td>0.0</td>\n",
       "      <td>0.0</td>\n",
       "      <td>0.0</td>\n",
       "      <td>0.0</td>\n",
       "      <td>1.0</td>\n",
       "      <td>0.0</td>\n",
       "      <td>0.0</td>\n",
       "      <td>0.0</td>\n",
       "      <td>0.0</td>\n",
       "      <td>0.0</td>\n",
       "      <td>112</td>\n",
       "    </tr>\n",
       "    <tr>\n",
       "      <th>2</th>\n",
       "      <td>1</td>\n",
       "      <td>0</td>\n",
       "      <td>18</td>\n",
       "      <td>200</td>\n",
       "      <td>13.0</td>\n",
       "      <td>5</td>\n",
       "      <td>22</td>\n",
       "      <td>10</td>\n",
       "      <td>22</td>\n",
       "      <td>8</td>\n",
       "      <td>12</td>\n",
       "      <td>12</td>\n",
       "      <td>1</td>\n",
       "      <td>11</td>\n",
       "      <td>0</td>\n",
       "      <td>0</td>\n",
       "      <td>6</td>\n",
       "      <td>-1</td>\n",
       "      <td>6</td>\n",
       "      <td>6</td>\n",
       "      <td>5</td>\n",
       "      <td>11</td>\n",
       "      <td>1</td>\n",
       "      <td>0</td>\n",
       "      <td>0</td>\n",
       "      <td>0</td>\n",
       "      <td>0</td>\n",
       "      <td>0</td>\n",
       "      <td>0</td>\n",
       "      <td>0</td>\n",
       "      <td>0</td>\n",
       "      <td>0</td>\n",
       "      <td>0</td>\n",
       "      <td>0</td>\n",
       "      <td>94.333333</td>\n",
       "      <td>0</td>\n",
       "      <td>1</td>\n",
       "      <td>0</td>\n",
       "      <td>0</td>\n",
       "      <td>0.0</td>\n",
       "      <td>0.0</td>\n",
       "      <td>1.0</td>\n",
       "      <td>0.0</td>\n",
       "      <td>0.0</td>\n",
       "      <td>0.0</td>\n",
       "      <td>0.0</td>\n",
       "      <td>0.0</td>\n",
       "      <td>0.0</td>\n",
       "      <td>5</td>\n",
       "      <td>0.0</td>\n",
       "      <td>0.0</td>\n",
       "      <td>0.0</td>\n",
       "      <td>0.0</td>\n",
       "      <td>1.0</td>\n",
       "      <td>0.0</td>\n",
       "      <td>0.0</td>\n",
       "      <td>0.0</td>\n",
       "      <td>0.0</td>\n",
       "      <td>0.0</td>\n",
       "      <td>0.0</td>\n",
       "      <td>0.0</td>\n",
       "      <td>0.0</td>\n",
       "      <td>0.0</td>\n",
       "      <td>0.0</td>\n",
       "      <td>0.0</td>\n",
       "      <td>0.0</td>\n",
       "      <td>0.0</td>\n",
       "      <td>0.0</td>\n",
       "      <td>0.0</td>\n",
       "      <td>1.0</td>\n",
       "      <td>0.0</td>\n",
       "      <td>0.0</td>\n",
       "      <td>0.0</td>\n",
       "      <td>0.0</td>\n",
       "      <td>0.0</td>\n",
       "      <td>0.0</td>\n",
       "      <td>0.0</td>\n",
       "      <td>0.0</td>\n",
       "      <td>0.0</td>\n",
       "      <td>86</td>\n",
       "    </tr>\n",
       "    <tr>\n",
       "      <th>3</th>\n",
       "      <td>1</td>\n",
       "      <td>0</td>\n",
       "      <td>15</td>\n",
       "      <td>90</td>\n",
       "      <td>5.0</td>\n",
       "      <td>3</td>\n",
       "      <td>14</td>\n",
       "      <td>20</td>\n",
       "      <td>14</td>\n",
       "      <td>6</td>\n",
       "      <td>10</td>\n",
       "      <td>6</td>\n",
       "      <td>0</td>\n",
       "      <td>8</td>\n",
       "      <td>0</td>\n",
       "      <td>0</td>\n",
       "      <td>0</td>\n",
       "      <td>-2</td>\n",
       "      <td>-2</td>\n",
       "      <td>2</td>\n",
       "      <td>5</td>\n",
       "      <td>2</td>\n",
       "      <td>0</td>\n",
       "      <td>0</td>\n",
       "      <td>1</td>\n",
       "      <td>0</td>\n",
       "      <td>0</td>\n",
       "      <td>0</td>\n",
       "      <td>1</td>\n",
       "      <td>0</td>\n",
       "      <td>0</td>\n",
       "      <td>0</td>\n",
       "      <td>0</td>\n",
       "      <td>0</td>\n",
       "      <td>28.000000</td>\n",
       "      <td>3</td>\n",
       "      <td>1</td>\n",
       "      <td>8</td>\n",
       "      <td>0</td>\n",
       "      <td>0.0</td>\n",
       "      <td>0.0</td>\n",
       "      <td>0.0</td>\n",
       "      <td>0.0</td>\n",
       "      <td>0.0</td>\n",
       "      <td>0.0</td>\n",
       "      <td>0.0</td>\n",
       "      <td>0.0</td>\n",
       "      <td>0.0</td>\n",
       "      <td>4</td>\n",
       "      <td>0.0</td>\n",
       "      <td>0.0</td>\n",
       "      <td>0.0</td>\n",
       "      <td>0.0</td>\n",
       "      <td>0.0</td>\n",
       "      <td>1.0</td>\n",
       "      <td>0.0</td>\n",
       "      <td>0.0</td>\n",
       "      <td>0.0</td>\n",
       "      <td>0.0</td>\n",
       "      <td>0.0</td>\n",
       "      <td>0.0</td>\n",
       "      <td>0.0</td>\n",
       "      <td>0.0</td>\n",
       "      <td>0.0</td>\n",
       "      <td>0.0</td>\n",
       "      <td>0.0</td>\n",
       "      <td>0.0</td>\n",
       "      <td>0.0</td>\n",
       "      <td>0.0</td>\n",
       "      <td>0.0</td>\n",
       "      <td>0.0</td>\n",
       "      <td>0.0</td>\n",
       "      <td>0.0</td>\n",
       "      <td>0.0</td>\n",
       "      <td>0.0</td>\n",
       "      <td>1.0</td>\n",
       "      <td>0.0</td>\n",
       "      <td>0.0</td>\n",
       "      <td>0.0</td>\n",
       "      <td>70</td>\n",
       "    </tr>\n",
       "    <tr>\n",
       "      <th>4</th>\n",
       "      <td>0</td>\n",
       "      <td>0</td>\n",
       "      <td>12</td>\n",
       "      <td>19</td>\n",
       "      <td>0.5</td>\n",
       "      <td>2</td>\n",
       "      <td>16</td>\n",
       "      <td>14</td>\n",
       "      <td>14</td>\n",
       "      <td>6</td>\n",
       "      <td>12</td>\n",
       "      <td>7</td>\n",
       "      <td>0</td>\n",
       "      <td>5</td>\n",
       "      <td>0</td>\n",
       "      <td>0</td>\n",
       "      <td>1</td>\n",
       "      <td>-2</td>\n",
       "      <td>-2</td>\n",
       "      <td>3</td>\n",
       "      <td>2</td>\n",
       "      <td>2</td>\n",
       "      <td>0</td>\n",
       "      <td>0</td>\n",
       "      <td>0</td>\n",
       "      <td>1</td>\n",
       "      <td>0</td>\n",
       "      <td>0</td>\n",
       "      <td>0</td>\n",
       "      <td>0</td>\n",
       "      <td>0</td>\n",
       "      <td>0</td>\n",
       "      <td>0</td>\n",
       "      <td>0</td>\n",
       "      <td>12.000000</td>\n",
       "      <td>0</td>\n",
       "      <td>0</td>\n",
       "      <td>0</td>\n",
       "      <td>0</td>\n",
       "      <td>0.0</td>\n",
       "      <td>0.0</td>\n",
       "      <td>0.0</td>\n",
       "      <td>0.0</td>\n",
       "      <td>0.0</td>\n",
       "      <td>0.0</td>\n",
       "      <td>0.0</td>\n",
       "      <td>0.0</td>\n",
       "      <td>0.0</td>\n",
       "      <td>3</td>\n",
       "      <td>0.0</td>\n",
       "      <td>1.0</td>\n",
       "      <td>0.0</td>\n",
       "      <td>0.0</td>\n",
       "      <td>0.0</td>\n",
       "      <td>0.0</td>\n",
       "      <td>0.0</td>\n",
       "      <td>0.0</td>\n",
       "      <td>0.0</td>\n",
       "      <td>0.0</td>\n",
       "      <td>0.0</td>\n",
       "      <td>0.0</td>\n",
       "      <td>0.0</td>\n",
       "      <td>0.0</td>\n",
       "      <td>0.0</td>\n",
       "      <td>0.0</td>\n",
       "      <td>0.0</td>\n",
       "      <td>0.0</td>\n",
       "      <td>0.0</td>\n",
       "      <td>0.0</td>\n",
       "      <td>0.0</td>\n",
       "      <td>0.0</td>\n",
       "      <td>0.0</td>\n",
       "      <td>0.0</td>\n",
       "      <td>0.0</td>\n",
       "      <td>0.0</td>\n",
       "      <td>0.0</td>\n",
       "      <td>0.0</td>\n",
       "      <td>0.0</td>\n",
       "      <td>1.0</td>\n",
       "      <td>69</td>\n",
       "    </tr>\n",
       "  </tbody>\n",
       "</table>\n",
       "</div>"
      ],
      "text/plain": [
       "   Traits  Reactions  Armor Class  ...  neutral good  unaligned  total_stats\n",
       "0       1          0           19  ...           0.0        0.0          106\n",
       "1       1          0           19  ...           0.0        0.0          112\n",
       "2       1          0           18  ...           0.0        0.0           86\n",
       "3       1          0           15  ...           0.0        0.0           70\n",
       "4       0          0           12  ...           0.0        1.0           69\n",
       "\n",
       "[5 rows x 80 columns]"
      ]
     },
     "execution_count": 36,
     "metadata": {},
     "output_type": "execute_result"
    }
   ],
   "source": [
    "import pandas as pd\n",
    "import numpy as np\n",
    "from numpy import mean\n",
    "from numpy import std\n",
    "from sklearn.preprocessing import StandardScaler\n",
    "from sklearn.linear_model import LinearRegression\n",
    "from sklearn.neighbors import KNeighborsRegressor\n",
    "from sklearn.tree import DecisionTreeRegressor\n",
    "from sklearn.ensemble import RandomForestRegressor\n",
    "from sklearn.multioutput import  MultiOutputRegressor\n",
    "from sklearn.ensemble import GradientBoostingRegressor\n",
    "from sklearn.model_selection import KFold\n",
    "from sklearn.model_selection import cross_val_score\n",
    "from sklearn.model_selection import train_test_split\n",
    "from sklearn.metrics import r2_score, mean_squared_error, f1_score,jaccard_score\n",
    "from sklearn.metrics import confusion_matrix\n",
    "from sklearn.metrics import multilabel_confusion_matrix\n",
    "from sklearn import model_selection,metrics\n",
    "import matplotlib.pyplot as plt\n",
    "import tensorflow as tf\n",
    "import seaborn as sns\n",
    "from sklearn.model_selection import RepeatedKFold\n",
    "from tensorflow import keras\n",
    "from keras.models import Sequential\n",
    "from keras.layers import Dense\n",
    "from tensorflow.keras.layers import Normalization\n",
    "\n",
    "%matplotlib inline\n",
    "\n",
    "monster_df = pd.read_csv('../data/processed/Monster_modeling_df.csv')\n",
    "\n",
    "monster_df.drop(columns={\"Unnamed: 0\", \"Monster Name\", \"Size\",'Type','Alignment'},axis=1, inplace=True)\n",
    "monster_df.head()\n",
    "\n"
   ]
  },
  {
   "cell_type": "code",
   "execution_count": null,
   "metadata": {},
   "outputs": [],
   "source": [
    "#Input Variables: Size, Type, Environment, Alignment, CR(disguised as 4x player level)\n",
    "#Output Variables: Stats, Saving Throws, Traits(barebones), Attack Bonus, Damage per Round, Reactions (y/n), Legendary Actions (y/n)"
   ]
  },
  {
   "cell_type": "markdown",
   "metadata": {},
   "source": [
    "LinearRegression (and related)\n",
    "KNeighborsRegressor\n",
    "DecisionTreeRegressor\n",
    "RandomForestRegressor (and related)"
   ]
  },
  {
   "cell_type": "code",
   "execution_count": null,
   "metadata": {},
   "outputs": [
    {
     "data": {
      "text/plain": [
       "Index(['Traits', 'Reactions', 'Armor Class', 'Hit Points', 'Challenge',\n",
       "       'Proficiency Bonus', 'STR', 'DEX', 'CON', 'INT', 'WIS', 'CHA',\n",
       "       'Legendary Actions', 'Attack_Bonus', 'Spell_Bonus', 'Spell_Save_DC',\n",
       "       'WIS_SV', 'INT_SV', 'CHA_SV', 'STR_SV', 'DEX_SV', 'CON_SV', 'Arctic',\n",
       "       'Coastal', 'Desert', 'Forest', 'Grassland', 'Hill', 'Mountain', 'NA',\n",
       "       'Swamp', 'Underdark', 'Underwater', 'Urban', 'Average_Damage_per_Round',\n",
       "       'Damage Resistances', 'Damage Immunities', 'Condition Immunities',\n",
       "       'Damage Vulnerabilities', 'Spellcaster', 'Magic Resistance',\n",
       "       'Legendary Resistance', 'Regeneration', 'Undead Fortitude',\n",
       "       'Pack Tactics', 'Damage Transfer', 'Angelic Weapons', 'Charge',\n",
       "       'size_ordinal', 'aberration', 'beast', 'celestial', 'construct',\n",
       "       'dragon', 'elemental', 'fey', 'fiend', 'giant', 'humanoid',\n",
       "       'monstrosity', 'ooze', 'plant', 'swarm', 'undead', 'any alignment',\n",
       "       'any chaotic alignment', 'any evil alignment', 'any non-good alignment',\n",
       "       'any non-lawful alignment', 'chaotic evil', 'chaotic good',\n",
       "       'chaotic neutral', 'lawful evil', 'lawful good', 'lawful neutral',\n",
       "       'neutral', 'neutral evil', 'neutral good', 'unaligned', 'total_stats'],\n",
       "      dtype='object')"
      ]
     },
     "execution_count": 5,
     "metadata": {},
     "output_type": "execute_result"
    }
   ],
   "source": [
    "monster_df.columns"
   ]
  },
  {
   "cell_type": "markdown",
   "metadata": {},
   "source": [
    "## MultOutput Machine Learning\n",
    "Classic machine learning fails here since it generally maps multiple inputs to a single output. We could run independent regressions, predict each variable one at a time. This ignores correlations in the outputs however, so it isn't optimal.\n",
    "\n",
    "We will try two methods: Random Forests with multioutput regressor and using Tensorflow Keras API"
   ]
  },
  {
   "cell_type": "code",
   "execution_count": 9,
   "metadata": {},
   "outputs": [],
   "source": [
    "## Train Test Split\n",
    "\n",
    "X = monster_df[['Coastal','Arctic','Desert','Forest','Grassland', 'Hill', 'Mountain', 'NA', 'Swamp', 'Underdark','Underwater', 'Urban','size_ordinal', 'aberration', 'beast',\n",
    "       'celestial', 'construct', 'dragon', 'elemental', 'fey', 'fiend',\n",
    "       'giant', 'humanoid', 'monstrosity', 'ooze', 'plant', 'swarm', 'undead',\n",
    "       'any alignment', 'any chaotic alignment', 'any evil alignment',\n",
    "       'any non-good alignment', 'any non-lawful alignment', 'chaotic evil',\n",
    "       'chaotic good', 'chaotic neutral', 'lawful evil', 'lawful good',\n",
    "       'lawful neutral', 'neutral', 'neutral evil', 'neutral good',\n",
    "       'unaligned','Challenge']]\n",
    "\n",
    "Y = monster_df[['Hit Points','Armor Class','Proficiency Bonus','STR','DEX','CON','WIS','INT','CHA', 'STR_SV','DEX_SV','CON_SV','WIS_SV','INT_SV','CHA_SV', 'Attack_Bonus','Average_Damage_per_Round','Legendary Actions', 'Damage Resistances',\n",
    "       'Damage Immunities', 'Condition Immunities', 'Damage Vulnerabilities',\n",
    "       'Legendary Resistance', 'Magic Resistance']]\n",
    "\n",
    "\n",
    "feature_list = X.columns\n",
    "target_list = Y.columns\n",
    "\n",
    "x_train, x_test, y_train, y_test = train_test_split(X,Y,test_size=0.3,random_state=42)\n",
    "\n",
    "\n"
   ]
  },
  {
   "cell_type": "markdown",
   "metadata": {},
   "source": [
    "## Linear Regression for Multioutput Regression"
   ]
  },
  {
   "cell_type": "code",
   "execution_count": null,
   "metadata": {},
   "outputs": [
    {
     "name": "stdout",
     "output_type": "stream",
     "text": [
      "Training Score:  0.7137115581392551\n",
      "Testing Score:  0.6056351821451139\n",
      "Mean squared error: 50.46\n",
      "Coefficient of determination: 0.61\n",
      "0.5317739480983121\n"
     ]
    }
   ],
   "source": [
    "model = (LinearRegression())\n",
    "model.fit(x_train, y_train)\n",
    "print(\"Training Score: \", model.score(x_train, y_train))\n",
    "print(\"Testing Score: \",model.score(x_test, y_test))\n",
    "yhat_l = model.predict(x_test)\n",
    "\n",
    "print(\"Mean squared error: %.2f\" % mean_squared_error(y_test, yhat_l))\n",
    "# The coefficient of determination: 1 is perfect prediction\n",
    "print(\"Coefficient of determination: %.2f\" % r2_score(y_test, yhat_l))\n",
    "scores = cross_val_score(model,X,Y,cv=5)\n",
    "print(scores.mean())"
   ]
  },
  {
   "cell_type": "markdown",
   "metadata": {},
   "source": [
    "## k-Nearest Neighbors for Multioutput Regression"
   ]
  },
  {
   "cell_type": "code",
   "execution_count": null,
   "metadata": {},
   "outputs": [
    {
     "name": "stdout",
     "output_type": "stream",
     "text": [
      "Training Score:  0.6909416913834311\n",
      "Testing Score:  0.587280629588338\n",
      "Mean squared error: 31.44\n",
      "Coefficient of determination: 0.59\n",
      "0.49103829885942335\n"
     ]
    }
   ],
   "source": [
    "model_k = MultiOutputRegressor(KNeighborsRegressor())\n",
    "model_k.fit(x_train, y_train)\n",
    "print(\"Training Score: \", model_k.score(x_train, y_train))\n",
    "print(\"Testing Score: \",model_k.score(x_test, y_test))\n",
    "yhat_k = model_k.predict(x_test)\n",
    "\n",
    "print(\"Mean squared error: %.2f\" % mean_squared_error(y_test, yhat_k))\n",
    "# The coefficient of determination: 1 is perfect prediction\n",
    "print(\"Coefficient of determination: %.2f\" % r2_score(y_test, yhat_k))\n",
    "scores = cross_val_score(model_k,X,Y,cv=5)\n",
    "print(scores.mean())\n"
   ]
  },
  {
   "cell_type": "markdown",
   "metadata": {},
   "source": [
    "## Multi Output Gradiant Boosting Regressor"
   ]
  },
  {
   "cell_type": "code",
   "execution_count": null,
   "metadata": {},
   "outputs": [
    {
     "name": "stdout",
     "output_type": "stream",
     "text": [
      "Training Score:  0.8879351314524625\n",
      "Testing Score:  0.6777330262984057\n",
      "Mean squared error: 22.39\n",
      "Coefficient of determination: 0.68\n",
      "0.628387705619894\n"
     ]
    }
   ],
   "source": [
    "model_g = MultiOutputRegressor(GradientBoostingRegressor(n_estimators=75))\n",
    "model_g.fit(x_train, y_train)\n",
    "print(\"Training Score: \", model_g.score(x_train, y_train))\n",
    "print(\"Testing Score: \",model_g.score(x_test, y_test))\n",
    "yhat_g = model_g.predict(x_test)\n",
    "\n",
    "print(\"Mean squared error: %.2f\" % mean_squared_error(y_test, yhat_g))\n",
    "# The coefficient of determination: 1 is perfect prediction\n",
    "print(\"Coefficient of determination: %.2f\" % r2_score(y_test, yhat_g))\n",
    "scores = cross_val_score(model_g,X,Y,cv=5)\n",
    "print(scores.mean())"
   ]
  },
  {
   "cell_type": "markdown",
   "metadata": {},
   "source": [
    "## Random Forest Regression"
   ]
  },
  {
   "cell_type": "code",
   "execution_count": null,
   "metadata": {},
   "outputs": [
    {
     "name": "stdout",
     "output_type": "stream",
     "text": [
      "Training Score:  0.9289202202575485\n",
      "Testing Score:  0.650152992955183\n",
      "Mean squared error: 23.14\n",
      "Coefficient of determination: 0.65\n"
     ]
    }
   ],
   "source": [
    "n_est = 50\n",
    "max_depth = 15\n",
    "model_R = RandomForestRegressor(n_estimators = n_est,max_depth = max_depth, random_state=0)\n",
    "model_R.fit(x_train, y_train)\n",
    "print(\"Training Score: \", model_R.score(x_train, y_train))\n",
    "print(\"Testing Score: \",model_R.score(x_test, y_test))\n",
    "yhat_r = model_R.predict(x_test)\n",
    "\n",
    "baseline_MSE = mean_squared_error(y_test, yhat_r)\n",
    "baseline_r2 = r2_score(y_test, yhat_r)\n",
    "\n",
    "print(\"Mean squared error: %.2f\" % baseline_MSE)\n",
    "# The coefficient of determination: 1 is perfect prediction\n",
    "print(\"Coefficient of determination: %.2f\" % baseline_r2)\n"
   ]
  },
  {
   "cell_type": "markdown",
   "metadata": {},
   "source": [
    "## More info onRandom Forest Regressor\n"
   ]
  },
  {
   "cell_type": "code",
   "execution_count": null,
   "metadata": {},
   "outputs": [
    {
     "name": "stdout",
     "output_type": "stream",
     "text": [
      "Variable: Challenge            Importance: 0.87\n",
      "Variable: size_ordinal         Importance: 0.07\n",
      "Variable: lawful good          Importance: 0.01\n",
      "Variable: Coastal              Importance: 0.0\n",
      "Variable: Arctic               Importance: 0.0\n",
      "Variable: Desert               Importance: 0.0\n",
      "Variable: Forest               Importance: 0.0\n",
      "Variable: Grassland            Importance: 0.0\n",
      "Variable: Hill                 Importance: 0.0\n",
      "Variable: Mountain             Importance: 0.0\n",
      "Variable: NA                   Importance: 0.0\n",
      "Variable: Swamp                Importance: 0.0\n",
      "Variable: Underdark            Importance: 0.0\n",
      "Variable: Underwater           Importance: 0.0\n",
      "Variable: Urban                Importance: 0.0\n",
      "Variable: aberration           Importance: 0.0\n",
      "Variable: beast                Importance: 0.0\n",
      "Variable: celestial            Importance: 0.0\n",
      "Variable: construct            Importance: 0.0\n",
      "Variable: dragon               Importance: 0.0\n",
      "Variable: elemental            Importance: 0.0\n",
      "Variable: fey                  Importance: 0.0\n",
      "Variable: fiend                Importance: 0.0\n",
      "Variable: giant                Importance: 0.0\n",
      "Variable: humanoid             Importance: 0.0\n",
      "Variable: monstrosity          Importance: 0.0\n",
      "Variable: ooze                 Importance: 0.0\n",
      "Variable: plant                Importance: 0.0\n",
      "Variable: swarm                Importance: 0.0\n",
      "Variable: undead               Importance: 0.0\n",
      "Variable: any alignment        Importance: 0.0\n",
      "Variable: any chaotic alignment Importance: 0.0\n",
      "Variable: any evil alignment   Importance: 0.0\n",
      "Variable: any non-good alignment Importance: 0.0\n",
      "Variable: any non-lawful alignment Importance: 0.0\n",
      "Variable: chaotic evil         Importance: 0.0\n",
      "Variable: chaotic good         Importance: 0.0\n",
      "Variable: chaotic neutral      Importance: 0.0\n",
      "Variable: lawful evil          Importance: 0.0\n",
      "Variable: lawful neutral       Importance: 0.0\n",
      "Variable: neutral              Importance: 0.0\n",
      "Variable: neutral evil         Importance: 0.0\n",
      "Variable: neutral good         Importance: 0.0\n",
      "Variable: unaligned            Importance: 0.0\n"
     ]
    },
    {
     "data": {
      "text/plain": [
       "[None,\n",
       " None,\n",
       " None,\n",
       " None,\n",
       " None,\n",
       " None,\n",
       " None,\n",
       " None,\n",
       " None,\n",
       " None,\n",
       " None,\n",
       " None,\n",
       " None,\n",
       " None,\n",
       " None,\n",
       " None,\n",
       " None,\n",
       " None,\n",
       " None,\n",
       " None,\n",
       " None,\n",
       " None,\n",
       " None,\n",
       " None,\n",
       " None,\n",
       " None,\n",
       " None,\n",
       " None,\n",
       " None,\n",
       " None,\n",
       " None,\n",
       " None,\n",
       " None,\n",
       " None,\n",
       " None,\n",
       " None,\n",
       " None,\n",
       " None,\n",
       " None,\n",
       " None,\n",
       " None,\n",
       " None,\n",
       " None,\n",
       " None]"
      ]
     },
     "execution_count": 108,
     "metadata": {},
     "output_type": "execute_result"
    }
   ],
   "source": [
    "## Feature Importance\n",
    "feature_list = X.columns\n",
    "# Get numerical feature importances\n",
    "importances = list(model_R.feature_importances_)\n",
    "# List of tuples with variable and importance\n",
    "feature_importances = [(feature, round(importance, 2)) for feature, importance in zip(feature_list, importances)]\n",
    "# Sort the feature importances by most important first\n",
    "feature_importances = sorted(feature_importances, key = lambda x: x[1], reverse = True)\n",
    "# Print out the feature and importances \n",
    "[print('Variable: {:20} Importance: {}'.format(*pair)) for pair in feature_importances]\n"
   ]
  },
  {
   "cell_type": "code",
   "execution_count": null,
   "metadata": {},
   "outputs": [
    {
     "data": {
      "image/png": "[encoded data removed]",
      "text/plain": [
       "<Figure size 432x288 with 1 Axes>"
      ]
     },
     "metadata": {
      "needs_background": "light"
     },
     "output_type": "display_data"
    }
   ],
   "source": [
    "# List of features sorted from most to least important\n",
    "sorted_importances = [importance[1] for importance in feature_importances]\n",
    "sorted_features = [importance[0] for importance in feature_importances]\n",
    "# Cumulative importances\n",
    "cumulative_importances = np.cumsum(sorted_importances)\n",
    "# Make a line graph\n",
    "plt.plot(feature_list, cumulative_importances, 'g-')\n",
    "# Draw line at 95% of importance retained\n",
    "plt.hlines(y = 0.95, xmin=0, xmax=len(sorted_importances), color = 'r', linestyles = 'dashed')\n",
    "# Format x ticks and labels\n",
    "plt.xticks(feature_list, sorted_features, rotation = 'vertical')\n",
    "# Axis labels and title\n",
    "plt.xlabel('Variable'); plt.ylabel('Cumulative Importance'); plt.title('Cumulative Importances');"
   ]
  },
  {
   "cell_type": "code",
   "execution_count": 4,
   "metadata": {},
   "outputs": [
    {
     "ename": "NameError",
     "evalue": "name 'model_D' is not defined",
     "output_type": "error",
     "traceback": [
      "\u001b[1;31m---------------------------------------------------------------------------\u001b[0m",
      "\u001b[1;31mNameError\u001b[0m                                 Traceback (most recent call last)",
      "\u001b[1;32mc:\\Users\\ingal\\Documents\\Data Science Work\\DnD_Monsters\\notebooks\\5.0_ASI_Modeling.ipynb Cell 18'\u001b[0m in \u001b[0;36m<module>\u001b[1;34m\u001b[0m\n\u001b[0;32m      <a href='vscode-notebook-cell:/c%3A/Users/ingal/Documents/Data%20Science%20Work/DnD_Monsters/notebooks/5.0_ASI_Modeling.ipynb#ch0000018?line=0'>1</a>\u001b[0m \u001b[39mimport\u001b[39;00m \u001b[39mpydot\u001b[39;00m\n\u001b[0;32m      <a href='vscode-notebook-cell:/c%3A/Users/ingal/Documents/Data%20Science%20Work/DnD_Monsters/notebooks/5.0_ASI_Modeling.ipynb#ch0000018?line=1'>2</a>\u001b[0m \u001b[39m# Pull out one tree from the forest\u001b[39;00m\n\u001b[1;32m----> <a href='vscode-notebook-cell:/c%3A/Users/ingal/Documents/Data%20Science%20Work/DnD_Monsters/notebooks/5.0_ASI_Modeling.ipynb#ch0000018?line=2'>3</a>\u001b[0m Tree \u001b[39m=\u001b[39m model_D\u001b[39m.\u001b[39mestimators_[\u001b[39m5\u001b[39m]\n\u001b[0;32m      <a href='vscode-notebook-cell:/c%3A/Users/ingal/Documents/Data%20Science%20Work/DnD_Monsters/notebooks/5.0_ASI_Modeling.ipynb#ch0000018?line=3'>4</a>\u001b[0m \u001b[39m# Export the image to a dot file\u001b[39;00m\n\u001b[0;32m      <a href='vscode-notebook-cell:/c%3A/Users/ingal/Documents/Data%20Science%20Work/DnD_Monsters/notebooks/5.0_ASI_Modeling.ipynb#ch0000018?line=4'>5</a>\u001b[0m \u001b[39mfrom\u001b[39;00m \u001b[39msklearn\u001b[39;00m \u001b[39mimport\u001b[39;00m tree\n",
      "\u001b[1;31mNameError\u001b[0m: name 'model_D' is not defined"
     ]
    }
   ],
   "source": [
    "import pydot\n",
    "# Pull out one tree from the forest\n",
    "Tree = model_D.estimators_[5]\n",
    "# Export the image to a dot file\n",
    "from sklearn import tree\n",
    "plt.figure(figsize=(25,15))\n",
    "tree.plot_tree(Tree,filled=True, \n",
    "              rounded=True, \n",
    "              fontsize=14);\n"
   ]
  },
  {
   "cell_type": "markdown",
   "metadata": {},
   "source": [
    "## Baseline TensorFlow model Keras\n",
    "evaluate the MLP model using repeated -fold cV with 10 folds and 3 repeats"
   ]
  },
  {
   "cell_type": "code",
   "execution_count": 40,
   "metadata": {},
   "outputs": [],
   "source": [
    "# Turn data into numpy arrays\n",
    "X = np.array(x_train)\n",
    "Y = np.array(y_train)"
   ]
  },
  {
   "cell_type": "code",
   "execution_count": 51,
   "metadata": {},
   "outputs": [
    {
     "data": {
      "text/plain": [
       "24"
      ]
     },
     "execution_count": 51,
     "metadata": {},
     "output_type": "execute_result"
    }
   ],
   "source": []
  },
  {
   "cell_type": "code",
   "execution_count": 41,
   "metadata": {},
   "outputs": [
    {
     "name": "stdout",
     "output_type": "stream",
     "text": [
      "var: 0.9773\n",
      "mean: -0.0000\n"
     ]
    }
   ],
   "source": [
    "#feature normlization will happen as part of keras preprocessing layer : Normalization\n",
    "normalizer =  Normalization(axis=-1)\n",
    "normalizer.adapt(X)\n",
    "\n",
    "normalized_data = normalizer(X)\n",
    "print(\"var: %.4f\" % np.var(normalized_data))\n",
    "print(\"mean: %.4f\" % np.mean(normalized_data))"
   ]
  },
  {
   "cell_type": "code",
   "execution_count": 52,
   "metadata": {},
   "outputs": [
    {
     "name": "stdout",
     "output_type": "stream",
     "text": [
      "Model: \"sequential_34\"\n",
      "_________________________________________________________________\n",
      " Layer (type)                Output Shape              Param #   \n",
      "=================================================================\n",
      " normalization_2 (Normalizat  (None, 44)               89        \n",
      " ion)                                                            \n",
      "                                                                 \n",
      " dense_65 (Dense)            (None, 24)                1080      \n",
      "                                                                 \n",
      "=================================================================\n",
      "Total params: 1,169\n",
      "Trainable params: 1,080\n",
      "Non-trainable params: 89\n",
      "_________________________________________________________________\n"
     ]
    }
   ],
   "source": [
    "# simple test model\n",
    "x_train = np.array(x_train)\n",
    "model = Sequential([\n",
    "    normalizer,\n",
    "    Dense(units=24)\n",
    "])\n",
    "model.summary()"
   ]
  },
  {
   "cell_type": "code",
   "execution_count": 54,
   "metadata": {},
   "outputs": [
    {
     "data": {
      "text/plain": [
       "<tf.Variable 'dense_65/kernel:0' shape=(44, 24) dtype=float32, numpy=\n",
       "array([[-0.01796401, -0.15364617,  0.13675886, ...,  0.19373101,\n",
       "         0.00286853,  0.24375588],\n",
       "       [-0.15547314, -0.01526323,  0.25529855, ..., -0.02707192,\n",
       "        -0.00542828,  0.19515175],\n",
       "       [-0.10128808, -0.12273994,  0.17487082, ..., -0.27842653,\n",
       "         0.00087696,  0.12451407],\n",
       "       ...,\n",
       "       [ 0.28340012,  0.1059593 ,  0.05410779, ..., -0.18465927,\n",
       "        -0.01615742,  0.16496193],\n",
       "       [-0.14496714, -0.15605117,  0.16302258, ...,  0.29406667,\n",
       "        -0.25480047, -0.09689996],\n",
       "       [ 0.24880338,  0.00278425, -0.17847973, ...,  0.1082027 ,\n",
       "         0.03001529,  0.1041477 ]], dtype=float32)>"
      ]
     },
     "execution_count": 54,
     "metadata": {},
     "output_type": "execute_result"
    }
   ],
   "source": [
    "model.layers[1].kernel"
   ]
  },
  {
   "cell_type": "code",
   "execution_count": 53,
   "metadata": {},
   "outputs": [
    {
     "data": {
      "text/plain": [
       "array([[-8.5653782e-01, -1.7881255e+00, -1.5499073e+00, ...,\n",
       "        -4.1714951e-01,  6.2584996e-01,  6.9626951e-01],\n",
       "       [ 1.9655063e+00, -6.0877198e-01, -7.3165798e-01, ...,\n",
       "        -2.6221685e+00, -1.6848881e+00, -2.7493951e+00],\n",
       "       [-6.0272557e-01, -5.2982378e-01,  1.4461610e+00, ...,\n",
       "        -2.0487715e-01, -7.0137793e-01,  7.9091918e-01],\n",
       "       ...,\n",
       "       [-1.4929707e-01, -1.2255045e+00,  1.0540025e+00, ...,\n",
       "        -5.5796444e-01, -2.5207801e+00,  6.6830873e-01],\n",
       "       [ 1.0841999e+00,  5.2389503e-04, -1.7346369e+00, ...,\n",
       "        -4.5074320e-01, -4.7922376e-01, -8.3392221e-01],\n",
       "       [-1.1929382e+00,  4.6918786e-01,  2.5654769e-01, ...,\n",
       "         1.2923336e-01,  7.1961629e-01,  1.0116501e+00]], dtype=float32)"
      ]
     },
     "execution_count": 53,
     "metadata": {},
     "output_type": "execute_result"
    }
   ],
   "source": [
    "model.predict(x_test)"
   ]
  },
  {
   "cell_type": "code",
   "execution_count": 59,
   "metadata": {},
   "outputs": [],
   "source": [
    "model.compile(\n",
    "    optimizer=tf.optimizers.Adam(learning_rate=0.1),\n",
    "    loss='mean_absolute_error')"
   ]
  },
  {
   "cell_type": "code",
   "execution_count": 60,
   "metadata": {},
   "outputs": [
    {
     "name": "stdout",
     "output_type": "stream",
     "text": [
      "CPU times: total: 4.34 s\n",
      "Wall time: 3.86 s\n"
     ]
    }
   ],
   "source": [
    "%%time\n",
    "history = model.fit(\n",
    "    x_train,\n",
    "    y_train,\n",
    "    epochs=100,\n",
    "    verbose =0,\n",
    "    validation_split = 0.2\n",
    ")"
   ]
  },
  {
   "cell_type": "code",
   "execution_count": 63,
   "metadata": {},
   "outputs": [
    {
     "data": {
      "image/png": "[encoded data removed]",
      "text/plain": [
       "<Figure size 432x288 with 1 Axes>"
      ]
     },
     "metadata": {
      "needs_background": "light"
     },
     "output_type": "display_data"
    }
   ],
   "source": [
    "def plot_loss(history):\n",
    "  plt.plot(history.history['loss'], label='loss')\n",
    "  plt.plot(history.history['val_loss'], label='val_loss')\n",
    "  plt.ylim([0, 10])\n",
    "  plt.xlabel('Epoch')\n",
    "  plt.ylabel('Error')\n",
    "  plt.legend()\n",
    "  plt.grid(True)\n",
    "\n",
    "plot_loss(history)"
   ]
  },
  {
   "cell_type": "code",
   "execution_count": 65,
   "metadata": {},
   "outputs": [
    {
     "data": {
      "text/plain": [
       "14397.0849609375"
      ]
     },
     "execution_count": 65,
     "metadata": {},
     "output_type": "execute_result"
    }
   ],
   "source": [
    "model.evaluate(x_test,y_test,verbose=0)"
   ]
  },
  {
   "cell_type": "code",
   "execution_count": 66,
   "metadata": {},
   "outputs": [
    {
     "ename": "SyntaxError",
     "evalue": "positional argument follows keyword argument (3391978276.py, line 6)",
     "output_type": "error",
     "traceback": [
      "\u001b[1;36m  Input \u001b[1;32mIn [66]\u001b[1;36m\u001b[0m\n\u001b[1;33m    model_tf.compile(loss='mae', tf.keras.optimizers.Adam(0.001))\u001b[0m\n\u001b[1;37m                                                                ^\u001b[0m\n\u001b[1;31mSyntaxError\u001b[0m\u001b[1;31m:\u001b[0m positional argument follows keyword argument\n"
     ]
    }
   ],
   "source": [
    "def build_and_compile_model(n_inputs, n_outputs,norm):\n",
    "    model_tf = Sequential()\n",
    "    norm,\n",
    "    model_tf.add(Dense(20, input_dim = n_inputs, kernel_initializer = 'he_uniform', activation = 'relu'))\n",
    "    model_tf.add(Dense(n_outputs))\n",
    "    model_tf.compile(loss='mae', \n",
    "                     optimizer = tf.keras.optimizers.Adam(0.001))\n",
    "    return model_tf"
   ]
  },
  {
   "cell_type": "code",
   "execution_count": null,
   "metadata": {},
   "outputs": [],
   "source": [
    "def evaluate_model(X,y):\n",
    "    results = list()\n",
    "    n_inputs, n_outputs = X.shape[1], y.shape[1]\n",
    "    #define evaluation procedure\n",
    "    cv = RepeatedKFold(n_splits = 10, n_repeats=3, random_state=1)\n",
    "    #enumerate folds\n",
    "    for train_ix, test_ix in cv.split(X):\n",
    "        X_train, X_test = X[train_ix], X[test_ix]\n",
    "        y_train, y_test = y[train_ix], y[test_ix]\n",
    "        #define model\n",
    "        model = get_model(n_inputs, n_outputs)\n",
    "        #fit\n",
    "        model.fit(X_train, y_train, verbose=0, epochs =100)\n",
    "        #evaluate\n",
    "        mae = model.evaluate(X_test, y_test, verbose=0)\n",
    "        #store\n",
    "        print('>%.3f' % mae)\n",
    "        results.append(mae)\n",
    "    return results"
   ]
  },
  {
   "cell_type": "code",
   "execution_count": 14,
   "metadata": {},
   "outputs": [
    {
     "name": "stdout",
     "output_type": "stream",
     "text": [
      ">2.173\n",
      ">2.482\n",
      ">2.571\n",
      ">2.175\n",
      "WARNING:tensorflow:5 out of the last 9 calls to <function Model.make_test_function.<locals>.test_function at 0x00000281E9992950> triggered tf.function retracing. Tracing is expensive and the excessive number of tracings could be due to (1) creating @tf.function repeatedly in a loop, (2) passing tensors with different shapes, (3) passing Python objects instead of tensors. For (1), please define your @tf.function outside of the loop. For (2), @tf.function has experimental_relax_shapes=True option that relaxes argument shapes that can avoid unnecessary retracing. For (3), please refer to https://www.tensorflow.org/guide/function#controlling_retracing and https://www.tensorflow.org/api_docs/python/tf/function for  more details.\n",
      ">2.724\n",
      "WARNING:tensorflow:6 out of the last 11 calls to <function Model.make_test_function.<locals>.test_function at 0x00000281E99930A0> triggered tf.function retracing. Tracing is expensive and the excessive number of tracings could be due to (1) creating @tf.function repeatedly in a loop, (2) passing tensors with different shapes, (3) passing Python objects instead of tensors. For (1), please define your @tf.function outside of the loop. For (2), @tf.function has experimental_relax_shapes=True option that relaxes argument shapes that can avoid unnecessary retracing. For (3), please refer to https://www.tensorflow.org/guide/function#controlling_retracing and https://www.tensorflow.org/api_docs/python/tf/function for  more details.\n",
      ">2.542\n",
      ">2.318\n",
      ">2.219\n",
      ">2.340\n",
      ">2.325\n",
      ">2.404\n",
      ">1.761\n",
      ">2.277\n",
      ">2.399\n",
      ">3.041\n",
      ">2.335\n",
      ">2.593\n",
      ">1.923\n",
      ">2.305\n",
      ">2.405\n",
      ">2.243\n",
      ">2.162\n",
      ">1.947\n",
      ">2.059\n",
      ">2.412\n",
      ">2.375\n",
      ">2.271\n",
      ">2.419\n",
      ">2.205\n",
      ">3.118\n",
      "MAE: 2.351 (0.278)\n"
     ]
    }
   ],
   "source": [
    "results = evaluate_model(np.array(X),np.array(Y))\n",
    "print('MAE: %.3f (%.3f)' % (mean(results), std(results)))"
   ]
  },
  {
   "cell_type": "code",
   "execution_count": 32,
   "metadata": {},
   "outputs": [
    {
     "data": {
      "text/plain": [
       "<keras.callbacks.History at 0x281ef5c1de0>"
      ]
     },
     "execution_count": 32,
     "metadata": {},
     "output_type": "execute_result"
    }
   ],
   "source": [
    "n_inputs, n_outputs = X.shape[1], Y.shape[1]\n",
    "# get model\n",
    "model = get_model(n_inputs, n_outputs)\n",
    "model.fit(np.array(X),np.array(Y),verbose=0,epochs=100)"
   ]
  },
  {
   "cell_type": "code",
   "execution_count": 33,
   "metadata": {},
   "outputs": [
    {
     "name": "stdout",
     "output_type": "stream",
     "text": [
      "WARNING:tensorflow:Model was constructed with shape (None, 44) for input KerasTensor(type_spec=TensorSpec(shape=(None, 44), dtype=tf.float32, name='dense_60_input'), name='dense_60_input', description=\"created by layer 'dense_60_input'\"), but it was called on an input with incompatible shape (None,).\n"
     ]
    },
    {
     "ename": "ValueError",
     "evalue": "in user code:\n\n    File \"c:\\Users\\ingal\\Documents\\Data Science Work\\DnD_Monsters\\env\\lib\\site-packages\\keras\\engine\\training.py\", line 1801, in predict_function  *\n        return step_function(self, iterator)\n    File \"c:\\Users\\ingal\\Documents\\Data Science Work\\DnD_Monsters\\env\\lib\\site-packages\\keras\\engine\\training.py\", line 1790, in step_function  **\n        outputs = model.distribute_strategy.run(run_step, args=(data,))\n    File \"c:\\Users\\ingal\\Documents\\Data Science Work\\DnD_Monsters\\env\\lib\\site-packages\\keras\\engine\\training.py\", line 1783, in run_step  **\n        outputs = model.predict_step(data)\n    File \"c:\\Users\\ingal\\Documents\\Data Science Work\\DnD_Monsters\\env\\lib\\site-packages\\keras\\engine\\training.py\", line 1751, in predict_step\n        return self(x, training=False)\n    File \"c:\\Users\\ingal\\Documents\\Data Science Work\\DnD_Monsters\\env\\lib\\site-packages\\keras\\utils\\traceback_utils.py\", line 67, in error_handler\n        raise e.with_traceback(filtered_tb) from None\n    File \"c:\\Users\\ingal\\Documents\\Data Science Work\\DnD_Monsters\\env\\lib\\site-packages\\keras\\engine\\input_spec.py\", line 228, in assert_input_compatibility\n        raise ValueError(f'Input {input_index} of layer \"{layer_name}\" '\n\n    ValueError: Exception encountered when calling layer \"sequential_30\" (type Sequential).\n    \n    Input 0 of layer \"dense_60\" is incompatible with the layer: expected min_ndim=2, found ndim=1. Full shape received: (None,)\n    \n    Call arguments received:\n      • inputs=tf.Tensor(shape=(None,), dtype=int32)\n      • training=False\n      • mask=None\n",
     "output_type": "error",
     "traceback": [
      "\u001b[1;31m---------------------------------------------------------------------------\u001b[0m",
      "\u001b[1;31mValueError\u001b[0m                                Traceback (most recent call last)",
      "\u001b[1;32mc:\\Users\\ingal\\Documents\\Data Science Work\\DnD_Monsters\\notebooks\\5.0_ASI_Modeling.ipynb Cell 24'\u001b[0m in \u001b[0;36m<module>\u001b[1;34m\u001b[0m\n\u001b[0;32m      <a href='vscode-notebook-cell:/c%3A/Users/ingal/Documents/Data%20Science%20Work/DnD_Monsters/notebooks/5.0_ASI_Modeling.ipynb#ch0000025?line=0'>1</a>\u001b[0m row \u001b[39m=\u001b[39m [\u001b[39m1\u001b[39m,\u001b[39m0\u001b[39m,\u001b[39m0\u001b[39m,\u001b[39m0\u001b[39m,\u001b[39m0\u001b[39m,\u001b[39m0\u001b[39m,\u001b[39m0\u001b[39m,\u001b[39m0\u001b[39m,\u001b[39m0\u001b[39m,\u001b[39m0\u001b[39m,\u001b[39m0\u001b[39m,\u001b[39m0\u001b[39m,\u001b[39m4\u001b[39m,\u001b[39m0\u001b[39m,\u001b[39m0\u001b[39m,\u001b[39m0\u001b[39m,\u001b[39m1\u001b[39m,\u001b[39m0\u001b[39m,\u001b[39m0\u001b[39m,\u001b[39m0\u001b[39m,\u001b[39m0\u001b[39m,\u001b[39m0\u001b[39m,\u001b[39m0\u001b[39m,\u001b[39m0\u001b[39m,\u001b[39m0\u001b[39m,\u001b[39m0\u001b[39m,\u001b[39m0\u001b[39m,\u001b[39m0\u001b[39m,\u001b[39m0\u001b[39m,\u001b[39m0\u001b[39m,\u001b[39m0\u001b[39m,\u001b[39m0\u001b[39m,\u001b[39m0\u001b[39m,\u001b[39m1\u001b[39m,\u001b[39m0\u001b[39m,\u001b[39m0\u001b[39m,\u001b[39m0\u001b[39m,\u001b[39m0\u001b[39m,\u001b[39m0\u001b[39m,\u001b[39m0\u001b[39m,\u001b[39m0\u001b[39m,\u001b[39m0\u001b[39m,\u001b[39m0\u001b[39m,\u001b[39m10\u001b[39m]\n\u001b[0;32m      <a href='vscode-notebook-cell:/c%3A/Users/ingal/Documents/Data%20Science%20Work/DnD_Monsters/notebooks/5.0_ASI_Modeling.ipynb#ch0000025?line=1'>2</a>\u001b[0m newx \u001b[39m=\u001b[39m np\u001b[39m.\u001b[39marray(row)\n\u001b[1;32m----> <a href='vscode-notebook-cell:/c%3A/Users/ingal/Documents/Data%20Science%20Work/DnD_Monsters/notebooks/5.0_ASI_Modeling.ipynb#ch0000025?line=2'>3</a>\u001b[0m yhat \u001b[39m=\u001b[39m model\u001b[39m.\u001b[39;49mpredict(newx)\n\u001b[0;32m      <a href='vscode-notebook-cell:/c%3A/Users/ingal/Documents/Data%20Science%20Work/DnD_Monsters/notebooks/5.0_ASI_Modeling.ipynb#ch0000025?line=3'>4</a>\u001b[0m \u001b[39mprint\u001b[39m (\u001b[39m\"\u001b[39m\u001b[39mPredicted: \u001b[39m\u001b[39m%s\u001b[39;00m\u001b[39m\"\u001b[39m \u001b[39m%\u001b[39myhat[\u001b[39m0\u001b[39m])\n",
      "File \u001b[1;32mc:\\Users\\ingal\\Documents\\Data Science Work\\DnD_Monsters\\env\\lib\\site-packages\\keras\\utils\\traceback_utils.py:67\u001b[0m, in \u001b[0;36mfilter_traceback.<locals>.error_handler\u001b[1;34m(*args, **kwargs)\u001b[0m\n\u001b[0;32m     <a href='file:///c%3A/Users/ingal/Documents/Data%20Science%20Work/DnD_Monsters/env/lib/site-packages/keras/utils/traceback_utils.py?line=64'>65</a>\u001b[0m \u001b[39mexcept\u001b[39;00m \u001b[39mException\u001b[39;00m \u001b[39mas\u001b[39;00m e:  \u001b[39m# pylint: disable=broad-except\u001b[39;00m\n\u001b[0;32m     <a href='file:///c%3A/Users/ingal/Documents/Data%20Science%20Work/DnD_Monsters/env/lib/site-packages/keras/utils/traceback_utils.py?line=65'>66</a>\u001b[0m   filtered_tb \u001b[39m=\u001b[39m _process_traceback_frames(e\u001b[39m.\u001b[39m__traceback__)\n\u001b[1;32m---> <a href='file:///c%3A/Users/ingal/Documents/Data%20Science%20Work/DnD_Monsters/env/lib/site-packages/keras/utils/traceback_utils.py?line=66'>67</a>\u001b[0m   \u001b[39mraise\u001b[39;00m e\u001b[39m.\u001b[39mwith_traceback(filtered_tb) \u001b[39mfrom\u001b[39;00m \u001b[39mNone\u001b[39m\n\u001b[0;32m     <a href='file:///c%3A/Users/ingal/Documents/Data%20Science%20Work/DnD_Monsters/env/lib/site-packages/keras/utils/traceback_utils.py?line=67'>68</a>\u001b[0m \u001b[39mfinally\u001b[39;00m:\n\u001b[0;32m     <a href='file:///c%3A/Users/ingal/Documents/Data%20Science%20Work/DnD_Monsters/env/lib/site-packages/keras/utils/traceback_utils.py?line=68'>69</a>\u001b[0m   \u001b[39mdel\u001b[39;00m filtered_tb\n",
      "File \u001b[1;32mc:\\Users\\ingal\\Documents\\Data Science Work\\DnD_Monsters\\env\\lib\\site-packages\\tensorflow\\python\\framework\\func_graph.py:1147\u001b[0m, in \u001b[0;36mfunc_graph_from_py_func.<locals>.autograph_handler\u001b[1;34m(*args, **kwargs)\u001b[0m\n\u001b[0;32m   <a href='file:///c%3A/Users/ingal/Documents/Data%20Science%20Work/DnD_Monsters/env/lib/site-packages/tensorflow/python/framework/func_graph.py?line=1144'>1145</a>\u001b[0m \u001b[39mexcept\u001b[39;00m \u001b[39mException\u001b[39;00m \u001b[39mas\u001b[39;00m e:  \u001b[39m# pylint:disable=broad-except\u001b[39;00m\n\u001b[0;32m   <a href='file:///c%3A/Users/ingal/Documents/Data%20Science%20Work/DnD_Monsters/env/lib/site-packages/tensorflow/python/framework/func_graph.py?line=1145'>1146</a>\u001b[0m   \u001b[39mif\u001b[39;00m \u001b[39mhasattr\u001b[39m(e, \u001b[39m\"\u001b[39m\u001b[39mag_error_metadata\u001b[39m\u001b[39m\"\u001b[39m):\n\u001b[1;32m-> <a href='file:///c%3A/Users/ingal/Documents/Data%20Science%20Work/DnD_Monsters/env/lib/site-packages/tensorflow/python/framework/func_graph.py?line=1146'>1147</a>\u001b[0m     \u001b[39mraise\u001b[39;00m e\u001b[39m.\u001b[39mag_error_metadata\u001b[39m.\u001b[39mto_exception(e)\n\u001b[0;32m   <a href='file:///c%3A/Users/ingal/Documents/Data%20Science%20Work/DnD_Monsters/env/lib/site-packages/tensorflow/python/framework/func_graph.py?line=1147'>1148</a>\u001b[0m   \u001b[39melse\u001b[39;00m:\n\u001b[0;32m   <a href='file:///c%3A/Users/ingal/Documents/Data%20Science%20Work/DnD_Monsters/env/lib/site-packages/tensorflow/python/framework/func_graph.py?line=1148'>1149</a>\u001b[0m     \u001b[39mraise\u001b[39;00m\n",
      "\u001b[1;31mValueError\u001b[0m: in user code:\n\n    File \"c:\\Users\\ingal\\Documents\\Data Science Work\\DnD_Monsters\\env\\lib\\site-packages\\keras\\engine\\training.py\", line 1801, in predict_function  *\n        return step_function(self, iterator)\n    File \"c:\\Users\\ingal\\Documents\\Data Science Work\\DnD_Monsters\\env\\lib\\site-packages\\keras\\engine\\training.py\", line 1790, in step_function  **\n        outputs = model.distribute_strategy.run(run_step, args=(data,))\n    File \"c:\\Users\\ingal\\Documents\\Data Science Work\\DnD_Monsters\\env\\lib\\site-packages\\keras\\engine\\training.py\", line 1783, in run_step  **\n        outputs = model.predict_step(data)\n    File \"c:\\Users\\ingal\\Documents\\Data Science Work\\DnD_Monsters\\env\\lib\\site-packages\\keras\\engine\\training.py\", line 1751, in predict_step\n        return self(x, training=False)\n    File \"c:\\Users\\ingal\\Documents\\Data Science Work\\DnD_Monsters\\env\\lib\\site-packages\\keras\\utils\\traceback_utils.py\", line 67, in error_handler\n        raise e.with_traceback(filtered_tb) from None\n    File \"c:\\Users\\ingal\\Documents\\Data Science Work\\DnD_Monsters\\env\\lib\\site-packages\\keras\\engine\\input_spec.py\", line 228, in assert_input_compatibility\n        raise ValueError(f'Input {input_index} of layer \"{layer_name}\" '\n\n    ValueError: Exception encountered when calling layer \"sequential_30\" (type Sequential).\n    \n    Input 0 of layer \"dense_60\" is incompatible with the layer: expected min_ndim=2, found ndim=1. Full shape received: (None,)\n    \n    Call arguments received:\n      • inputs=tf.Tensor(shape=(None,), dtype=int32)\n      • training=False\n      • mask=None\n"
     ]
    }
   ],
   "source": [
    "row = [1,0,0,0,0,0,0,0,0,0,0,0,4,0,0,0,1,0,0,0,0,0,0,0,0,0,0,0,0,0,0,0,0,1,0,0,0,0,0,0,0,0,0,10]\n",
    "newx = np.array(row)\n",
    "yhat = model.predict(newx)\n",
    "print (\"Predicted: %s\" %yhat[0])"
   ]
  },
  {
   "cell_type": "code",
   "execution_count": 24,
   "metadata": {},
   "outputs": [
    {
     "data": {
      "text/plain": [
       "Index(['Coastal', 'Arctic', 'Desert', 'Forest', 'Grassland', 'Hill',\n",
       "       'Mountain', 'NA', 'Swamp', 'Underdark', 'Underwater', 'Urban',\n",
       "       'size_ordinal', 'aberration', 'beast', 'celestial', 'construct',\n",
       "       'dragon', 'elemental', 'fey', 'fiend', 'giant', 'humanoid',\n",
       "       'monstrosity', 'ooze', 'plant', 'swarm', 'undead', 'any alignment',\n",
       "       'any chaotic alignment', 'any evil alignment', 'any non-good alignment',\n",
       "       'any non-lawful alignment', 'chaotic evil', 'chaotic good',\n",
       "       'chaotic neutral', 'lawful evil', 'lawful good', 'lawful neutral',\n",
       "       'neutral', 'neutral evil', 'neutral good', 'unaligned', 'Challenge'],\n",
       "      dtype='object')"
      ]
     },
     "execution_count": 24,
     "metadata": {},
     "output_type": "execute_result"
    }
   ],
   "source": [
    "X.columns"
   ]
  },
  {
   "cell_type": "code",
   "execution_count": null,
   "metadata": {},
   "outputs": [],
   "source": []
  }
 ],
 "metadata": {
  "interpreter": {
   "hash": "2db776f1d3cba7926000b31ed89fa7adb52a08316c2db55bfe9500ec477078b3"
  },
  "kernelspec": {
   "display_name": "Python 3.10.1 ('env': venv)",
   "language": "python",
   "name": "python3"
  },
  "language_info": {
   "codemirror_mode": {
    "name": "ipython",
    "version": 3
   },
   "file_extension": ".py",
   "mimetype": "text/x-python",
   "name": "python",
   "nbconvert_exporter": "python",
   "pygments_lexer": "ipython3",
   "version": "3.10.1"
  },
  "orig_nbformat": 4
 },
 "nbformat": 4,
 "nbformat_minor": 2
}
