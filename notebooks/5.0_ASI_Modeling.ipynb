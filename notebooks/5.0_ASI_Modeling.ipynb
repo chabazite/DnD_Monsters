{
 "cells": [
  {
   "cell_type": "code",
   "execution_count": null,
   "metadata": {},
   "outputs": [],
   "source": [
    "from sklearn.linear_model import LinearRegression\n",
    "from sklearn.model_selection import train_test_split\n",
    "from sklearn.metrics import r2_score, mean_squared_error\n",
    "\n",
    "X = monster_df_numeric[['Hit Points', 'Armor Class', 'STR','CON','DEX','WIS','INT','CHA']]\n",
    "y = monster_df_numeric['Challenge']\n",
    "\n",
    "X_train, X_test, y_train, y_test =  train_test_split(X, y, test_size =0.3, random_state = 42)\n",
    "\n",
    "lm_model = LinearRegression(normalize = True)\n",
    "\n",
    "lm_model.fit(X_train, y_train)\n",
    "y_hat = lm_model.predict(X_test)\n",
    "\"The r-squared score for the model using only quantitative variables was {} on {} values.\".format(r2_score(y_test, y_hat), len(y_test))"
   ]
  }
 ],
 "metadata": {
  "language_info": {
   "name": "python"
  },
  "orig_nbformat": 4
 },
 "nbformat": 4,
 "nbformat_minor": 2
}
