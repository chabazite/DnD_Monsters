{
 "cells": [
  {
   "cell_type": "code",
   "execution_count": 1,
   "metadata": {},
   "outputs": [
    {
     "data": {
      "text/html": [
       "<div>\n",
       "<style scoped>\n",
       "    .dataframe tbody tr th:only-of-type {\n",
       "        vertical-align: middle;\n",
       "    }\n",
       "\n",
       "    .dataframe tbody tr th {\n",
       "        vertical-align: top;\n",
       "    }\n",
       "\n",
       "    .dataframe thead th {\n",
       "        text-align: right;\n",
       "    }\n",
       "</style>\n",
       "<table border=\"1\" class=\"dataframe\">\n",
       "  <thead>\n",
       "    <tr style=\"text-align: right;\">\n",
       "      <th></th>\n",
       "      <th>Traits</th>\n",
       "      <th>Reactions</th>\n",
       "      <th>Armor Class</th>\n",
       "      <th>Hit Points</th>\n",
       "      <th>Challenge</th>\n",
       "      <th>Proficiency Bonus</th>\n",
       "      <th>STR</th>\n",
       "      <th>DEX</th>\n",
       "      <th>CON</th>\n",
       "      <th>INT</th>\n",
       "      <th>...</th>\n",
       "      <th>chaotic good</th>\n",
       "      <th>chaotic neutral</th>\n",
       "      <th>lawful evil</th>\n",
       "      <th>lawful good</th>\n",
       "      <th>lawful neutral</th>\n",
       "      <th>neutral</th>\n",
       "      <th>neutral evil</th>\n",
       "      <th>neutral good</th>\n",
       "      <th>unaligned</th>\n",
       "      <th>total_stats</th>\n",
       "    </tr>\n",
       "  </thead>\n",
       "  <tbody>\n",
       "    <tr>\n",
       "      <th>0</th>\n",
       "      <td>1</td>\n",
       "      <td>0</td>\n",
       "      <td>19</td>\n",
       "      <td>207</td>\n",
       "      <td>15.0</td>\n",
       "      <td>5</td>\n",
       "      <td>23</td>\n",
       "      <td>12</td>\n",
       "      <td>21</td>\n",
       "      <td>18</td>\n",
       "      <td>...</td>\n",
       "      <td>0.0</td>\n",
       "      <td>0.0</td>\n",
       "      <td>1.0</td>\n",
       "      <td>0.0</td>\n",
       "      <td>0.0</td>\n",
       "      <td>0.0</td>\n",
       "      <td>0.0</td>\n",
       "      <td>0.0</td>\n",
       "      <td>0.0</td>\n",
       "      <td>106</td>\n",
       "    </tr>\n",
       "    <tr>\n",
       "      <th>1</th>\n",
       "      <td>1</td>\n",
       "      <td>0</td>\n",
       "      <td>19</td>\n",
       "      <td>243</td>\n",
       "      <td>16.0</td>\n",
       "      <td>5</td>\n",
       "      <td>27</td>\n",
       "      <td>10</td>\n",
       "      <td>25</td>\n",
       "      <td>16</td>\n",
       "      <td>...</td>\n",
       "      <td>0.0</td>\n",
       "      <td>0.0</td>\n",
       "      <td>0.0</td>\n",
       "      <td>1.0</td>\n",
       "      <td>0.0</td>\n",
       "      <td>0.0</td>\n",
       "      <td>0.0</td>\n",
       "      <td>0.0</td>\n",
       "      <td>0.0</td>\n",
       "      <td>112</td>\n",
       "    </tr>\n",
       "    <tr>\n",
       "      <th>2</th>\n",
       "      <td>1</td>\n",
       "      <td>0</td>\n",
       "      <td>18</td>\n",
       "      <td>200</td>\n",
       "      <td>13.0</td>\n",
       "      <td>5</td>\n",
       "      <td>22</td>\n",
       "      <td>10</td>\n",
       "      <td>22</td>\n",
       "      <td>8</td>\n",
       "      <td>...</td>\n",
       "      <td>0.0</td>\n",
       "      <td>0.0</td>\n",
       "      <td>0.0</td>\n",
       "      <td>0.0</td>\n",
       "      <td>0.0</td>\n",
       "      <td>0.0</td>\n",
       "      <td>0.0</td>\n",
       "      <td>0.0</td>\n",
       "      <td>0.0</td>\n",
       "      <td>86</td>\n",
       "    </tr>\n",
       "    <tr>\n",
       "      <th>3</th>\n",
       "      <td>1</td>\n",
       "      <td>0</td>\n",
       "      <td>15</td>\n",
       "      <td>90</td>\n",
       "      <td>5.0</td>\n",
       "      <td>3</td>\n",
       "      <td>14</td>\n",
       "      <td>20</td>\n",
       "      <td>14</td>\n",
       "      <td>6</td>\n",
       "      <td>...</td>\n",
       "      <td>0.0</td>\n",
       "      <td>0.0</td>\n",
       "      <td>0.0</td>\n",
       "      <td>0.0</td>\n",
       "      <td>0.0</td>\n",
       "      <td>1.0</td>\n",
       "      <td>0.0</td>\n",
       "      <td>0.0</td>\n",
       "      <td>0.0</td>\n",
       "      <td>70</td>\n",
       "    </tr>\n",
       "    <tr>\n",
       "      <th>4</th>\n",
       "      <td>0</td>\n",
       "      <td>0</td>\n",
       "      <td>12</td>\n",
       "      <td>19</td>\n",
       "      <td>0.5</td>\n",
       "      <td>2</td>\n",
       "      <td>16</td>\n",
       "      <td>14</td>\n",
       "      <td>14</td>\n",
       "      <td>6</td>\n",
       "      <td>...</td>\n",
       "      <td>0.0</td>\n",
       "      <td>0.0</td>\n",
       "      <td>0.0</td>\n",
       "      <td>0.0</td>\n",
       "      <td>0.0</td>\n",
       "      <td>0.0</td>\n",
       "      <td>0.0</td>\n",
       "      <td>0.0</td>\n",
       "      <td>1.0</td>\n",
       "      <td>69</td>\n",
       "    </tr>\n",
       "  </tbody>\n",
       "</table>\n",
       "<p>5 rows × 80 columns</p>\n",
       "</div>"
      ],
      "text/plain": [
       "   Traits  Reactions  Armor Class  Hit Points  Challenge  Proficiency Bonus  \\\n",
       "0       1          0           19         207       15.0                  5   \n",
       "1       1          0           19         243       16.0                  5   \n",
       "2       1          0           18         200       13.0                  5   \n",
       "3       1          0           15          90        5.0                  3   \n",
       "4       0          0           12          19        0.5                  2   \n",
       "\n",
       "   STR  DEX  CON  INT  ...  chaotic good  chaotic neutral  lawful evil  \\\n",
       "0   23   12   21   18  ...           0.0              0.0          1.0   \n",
       "1   27   10   25   16  ...           0.0              0.0          0.0   \n",
       "2   22   10   22    8  ...           0.0              0.0          0.0   \n",
       "3   14   20   14    6  ...           0.0              0.0          0.0   \n",
       "4   16   14   14    6  ...           0.0              0.0          0.0   \n",
       "\n",
       "   lawful good  lawful neutral  neutral  neutral evil  neutral good  \\\n",
       "0          0.0             0.0      0.0           0.0           0.0   \n",
       "1          1.0             0.0      0.0           0.0           0.0   \n",
       "2          0.0             0.0      0.0           0.0           0.0   \n",
       "3          0.0             0.0      1.0           0.0           0.0   \n",
       "4          0.0             0.0      0.0           0.0           0.0   \n",
       "\n",
       "   unaligned  total_stats  \n",
       "0        0.0          106  \n",
       "1        0.0          112  \n",
       "2        0.0           86  \n",
       "3        0.0           70  \n",
       "4        1.0           69  \n",
       "\n",
       "[5 rows x 80 columns]"
      ]
     },
     "execution_count": 1,
     "metadata": {},
     "output_type": "execute_result"
    }
   ],
   "source": [
    "import pandas as pd\n",
    "import numpy as np\n",
    "from numpy import mean\n",
    "from numpy import std\n",
    "import matplotlib.pyplot as plt\n",
    "import seaborn as sns\n",
    "import time\n",
    "\n",
    "#Scikit Learn\n",
    "from sklearn.linear_model import LinearRegression\n",
    "from sklearn.neighbors import KNeighborsRegressor\n",
    "from sklearn.ensemble import RandomForestRegressor\n",
    "from sklearn.multioutput import  MultiOutputRegressor\n",
    "from sklearn.ensemble import GradientBoostingRegressor\n",
    "from sklearn.model_selection import KFold\n",
    "from sklearn.model_selection import cross_val_score\n",
    "from sklearn.model_selection import train_test_split\n",
    "from sklearn.metrics import r2_score, mean_squared_error\n",
    "\n",
    "\n",
    "\n",
    "#TensorFlow\n",
    "import tensorflow as tf\n",
    "from tensorflow import keras\n",
    "from tensorflow.keras import layers\n",
    "from keras.models import Sequential\n",
    "from keras.layers import Dense\n",
    "from tensorflow.keras.layers import Normalization\n",
    "import keras_tuner as kt\n",
    "\n",
    "\n",
    "%matplotlib inline\n",
    "\n",
    "monster_df = pd.read_csv('../data/processed/Monster_modeling_df.csv')\n",
    "\n",
    "monster_df.drop(columns={\"Unnamed: 0\", \"Monster Name\", \"Size\",'Type','Alignment'},axis=1, inplace=True)\n",
    "monster_df.head()\n",
    "\n"
   ]
  },
  {
   "cell_type": "code",
   "execution_count": 2,
   "metadata": {},
   "outputs": [],
   "source": [
    "#Input Variables: Size, Type, Environment, Alignment, CR(disguised as 4x player level)\n",
    "#Output Variables: Stats, Saving Throws, Traits(barebones), Attack Bonus, Damage per Round, Reactions (y/n), Legendary Actions (y/n)"
   ]
  },
  {
   "cell_type": "markdown",
   "metadata": {},
   "source": [
    "LinearRegression (and related)\n",
    "KNeighborsRegressor\n",
    "DecisionTreeRegressor\n",
    "RandomForestRegressor (and related)"
   ]
  },
  {
   "cell_type": "code",
   "execution_count": 119,
   "metadata": {},
   "outputs": [
    {
     "data": {
      "text/plain": [
       "Index(['Traits', 'Reactions', 'Armor Class', 'Hit Points', 'Challenge',\n",
       "       'Proficiency Bonus', 'STR', 'DEX', 'CON', 'INT', 'WIS', 'CHA',\n",
       "       'Legendary Actions', 'Attack_Bonus', 'Spell_Bonus', 'Spell_Save_DC',\n",
       "       'WIS_SV', 'INT_SV', 'CHA_SV', 'STR_SV', 'DEX_SV', 'CON_SV', 'Arctic',\n",
       "       'Coastal', 'Desert', 'Forest', 'Grassland', 'Hill', 'Mountain', 'NA',\n",
       "       'Swamp', 'Underdark', 'Underwater', 'Urban', 'Average_Damage_per_Round',\n",
       "       'Damage Resistances', 'Damage Immunities', 'Condition Immunities',\n",
       "       'Damage Vulnerabilities', 'Spellcaster', 'Magic Resistance',\n",
       "       'Legendary Resistance', 'Regeneration', 'Undead Fortitude',\n",
       "       'Pack Tactics', 'Damage Transfer', 'Angelic Weapons', 'Charge',\n",
       "       'size_ordinal', 'aberration', 'beast', 'celestial', 'construct',\n",
       "       'dragon', 'elemental', 'fey', 'fiend', 'giant', 'humanoid',\n",
       "       'monstrosity', 'ooze', 'plant', 'swarm', 'undead', 'any alignment',\n",
       "       'any chaotic alignment', 'any evil alignment', 'any non-good alignment',\n",
       "       'any non-lawful alignment', 'chaotic evil', 'chaotic good',\n",
       "       'chaotic neutral', 'lawful evil', 'lawful good', 'lawful neutral',\n",
       "       'neutral', 'neutral evil', 'neutral good', 'unaligned', 'total_stats'],\n",
       "      dtype='object')"
      ]
     },
     "execution_count": 119,
     "metadata": {},
     "output_type": "execute_result"
    }
   ],
   "source": [
    "monster_df.columns"
   ]
  },
  {
   "cell_type": "markdown",
   "metadata": {},
   "source": [
    "## MultOutput Machine Learning\n",
    "Classic machine learning fails here since it generally maps multiple inputs to a single output. We could run independent regressions, predict each variable one at a time. This ignores correlations in the outputs however, so it isn't optimal.\n",
    "\n",
    "We will try two methods: Random Forests with multioutput regressor and using Tensorflow Keras API"
   ]
  },
  {
   "cell_type": "code",
   "execution_count": 97,
   "metadata": {},
   "outputs": [],
   "source": [
    "## Train Test Split\n",
    "\n",
    "X_data = monster_df[['Challenge','size_ordinal','Coastal','Arctic','Desert','Forest','Grassland', 'Hill', 'Mountain', 'NA', 'Swamp', 'Underdark','Underwater', 'Urban', 'aberration', 'beast','celestial', 'construct', 'dragon', 'elemental', 'fey', 'fiend', 'giant', 'humanoid', 'monstrosity', 'ooze', 'plant', 'swarm', 'undead', 'any alignment', 'any chaotic alignment', 'any evil alignment', 'any non-good alignment', 'any non-lawful alignment', 'chaotic evil', 'chaotic good', 'chaotic neutral', 'lawful evil', 'lawful good','lawful neutral', 'neutral', 'neutral evil', 'neutral good', 'unaligned']]\n",
    "\n",
    "y_data = monster_df[['Hit Points','Armor Class','Proficiency Bonus','STR','DEX','CON','WIS','INT','CHA', 'STR_SV','DEX_SV','CON_SV','WIS_SV','INT_SV','CHA_SV', 'Attack_Bonus','Average_Damage_per_Round','Legendary Actions', 'Damage Resistances', 'Damage Immunities', 'Condition Immunities', 'Damage Vulnerabilities', 'Legendary Resistance', 'Magic Resistance']]\n",
    "\n",
    "\n",
    "feature_list = X_data.columns\n",
    "target_list = y_data.columns\n",
    "\n",
    "x_train, x_test, y_train, y_test = train_test_split(X_data,y_data,test_size=0.3,random_state=42)\n",
    "\n",
    "\n"
   ]
  },
  {
   "cell_type": "markdown",
   "metadata": {},
   "source": [
    "## Linear Regression for Multioutput Regression"
   ]
  },
  {
   "cell_type": "code",
   "execution_count": 90,
   "metadata": {},
   "outputs": [
    {
     "name": "stdout",
     "output_type": "stream",
     "text": [
      "Training Score:  0.7137115581392551\n",
      "Testing Score:  0.6056351821451139\n",
      "Mean squared error: 50.46\n",
      "Coefficient of determination: 0.61\n",
      "0.5317739480983121\n"
     ]
    }
   ],
   "source": [
    "model = (LinearRegression())\n",
    "model.fit(x_train, y_train)\n",
    "print(\"Training Score: \", model.score(x_train, y_train))\n",
    "print(\"Testing Score: \",model.score(x_test, y_test))\n",
    "yhat_l = model.predict(x_test)\n",
    "\n",
    "print(\"Mean squared error: %.2f\" % mean_squared_error(y_test, yhat_l))\n",
    "# The coefficient of determination: 1 is perfect prediction\n",
    "print(\"Coefficient of determination: %.2f\" % r2_score(y_test, yhat_l))\n",
    "scores = cross_val_score(model,X_data,y_data,cv=5)\n",
    "print(scores.mean())"
   ]
  },
  {
   "cell_type": "markdown",
   "metadata": {},
   "source": [
    "## k-Nearest Neighbors for Multioutput Regression"
   ]
  },
  {
   "cell_type": "code",
   "execution_count": 91,
   "metadata": {},
   "outputs": [
    {
     "name": "stdout",
     "output_type": "stream",
     "text": [
      "Training Score:  0.6909416913834311\n",
      "Testing Score:  0.587280629588338\n",
      "Mean squared error: 31.44\n",
      "Coefficient of determination: 0.59\n",
      "0.49103829885942335\n"
     ]
    }
   ],
   "source": [
    "model_k = MultiOutputRegressor(KNeighborsRegressor())\n",
    "model_k.fit(x_train, y_train)\n",
    "print(\"Training Score: \", model_k.score(x_train, y_train))\n",
    "print(\"Testing Score: \",model_k.score(x_test, y_test))\n",
    "yhat_k = model_k.predict(x_test)\n",
    "\n",
    "print(\"Mean squared error: %.2f\" % mean_squared_error(y_test, yhat_k))\n",
    "# The coefficient of determination: 1 is perfect prediction\n",
    "print(\"Coefficient of determination: %.2f\" % r2_score(y_test, yhat_k))\n",
    "scores = cross_val_score(model_k,X_data,y_data,cv=5)\n",
    "print(scores.mean())\n"
   ]
  },
  {
   "cell_type": "markdown",
   "metadata": {},
   "source": [
    "## Multi Output Gradiant Boosting Regressor"
   ]
  },
  {
   "cell_type": "code",
   "execution_count": 93,
   "metadata": {},
   "outputs": [
    {
     "name": "stdout",
     "output_type": "stream",
     "text": [
      "Training Score:  0.888074061935348\n",
      "Testing Score:  0.6769280412072972\n",
      "Mean squared error: 22.44\n",
      "Coefficient of determination: 0.68\n",
      "0.6315785996797126\n"
     ]
    }
   ],
   "source": [
    "model_g = MultiOutputRegressor(GradientBoostingRegressor(n_estimators=75))\n",
    "model_g.fit(x_train, y_train)\n",
    "print(\"Training Score: \", model_g.score(x_train, y_train))\n",
    "print(\"Testing Score: \",model_g.score(x_test, y_test))\n",
    "yhat_g = model_g.predict(x_test)\n",
    "\n",
    "print(\"Mean squared error: %.2f\" % mean_squared_error(y_test, yhat_g))\n",
    "# The coefficient of determination: 1 is perfect prediction\n",
    "print(\"Coefficient of determination: %.2f\" % r2_score(y_test, yhat_g))\n",
    "scores = cross_val_score(model_g,X_data,y_data,cv=5)\n",
    "print(scores.mean())"
   ]
  },
  {
   "cell_type": "markdown",
   "metadata": {},
   "source": [
    "## Random Forest Regression"
   ]
  },
  {
   "cell_type": "code",
   "execution_count": 94,
   "metadata": {},
   "outputs": [
    {
     "name": "stdout",
     "output_type": "stream",
     "text": [
      "Training Score:  0.9259184314148653\n",
      "Testing Score:  0.6278197300510371\n",
      "Mean squared error: 23.52\n",
      "Coefficient of determination: 0.63\n"
     ]
    }
   ],
   "source": [
    "n_est = 50\n",
    "max_depth = 15\n",
    "model_R = RandomForestRegressor(n_estimators = n_est,max_depth = max_depth, random_state=0)\n",
    "model_R.fit(x_train, y_train)\n",
    "print(\"Training Score: \", model_R.score(x_train, y_train))\n",
    "print(\"Testing Score: \",model_R.score(x_test, y_test))\n",
    "yhat_r = model_R.predict(x_test)\n",
    "\n",
    "baseline_MSE = mean_squared_error(y_test, yhat_r)\n",
    "baseline_r2 = r2_score(y_test, yhat_r)\n",
    "\n",
    "print(\"Mean squared error: %.2f\" % baseline_MSE)\n",
    "# The coefficient of determination: 1 is perfect prediction\n",
    "print(\"Coefficient of determination: %.2f\" % baseline_r2)\n"
   ]
  },
  {
   "cell_type": "markdown",
   "metadata": {},
   "source": [
    "## More info on Random Forest Regressor\n"
   ]
  },
  {
   "cell_type": "code",
   "execution_count": 9,
   "metadata": {},
   "outputs": [
    {
     "name": "stdout",
     "output_type": "stream",
     "text": [
      "Variable: Challenge            Importance: 0.87\n",
      "Variable: size_ordinal         Importance: 0.07\n",
      "Variable: dragon               Importance: 0.01\n",
      "Variable: unaligned            Importance: 0.01\n",
      "Variable: Coastal              Importance: 0.0\n",
      "Variable: Arctic               Importance: 0.0\n",
      "Variable: Desert               Importance: 0.0\n",
      "Variable: Forest               Importance: 0.0\n",
      "Variable: Grassland            Importance: 0.0\n",
      "Variable: Hill                 Importance: 0.0\n",
      "Variable: Mountain             Importance: 0.0\n",
      "Variable: NA                   Importance: 0.0\n",
      "Variable: Swamp                Importance: 0.0\n",
      "Variable: Underdark            Importance: 0.0\n",
      "Variable: Underwater           Importance: 0.0\n",
      "Variable: Urban                Importance: 0.0\n",
      "Variable: aberration           Importance: 0.0\n",
      "Variable: beast                Importance: 0.0\n",
      "Variable: celestial            Importance: 0.0\n",
      "Variable: construct            Importance: 0.0\n",
      "Variable: elemental            Importance: 0.0\n",
      "Variable: fey                  Importance: 0.0\n",
      "Variable: fiend                Importance: 0.0\n",
      "Variable: giant                Importance: 0.0\n",
      "Variable: humanoid             Importance: 0.0\n",
      "Variable: monstrosity          Importance: 0.0\n",
      "Variable: ooze                 Importance: 0.0\n",
      "Variable: plant                Importance: 0.0\n",
      "Variable: swarm                Importance: 0.0\n",
      "Variable: undead               Importance: 0.0\n",
      "Variable: any alignment        Importance: 0.0\n",
      "Variable: any chaotic alignment Importance: 0.0\n",
      "Variable: any evil alignment   Importance: 0.0\n",
      "Variable: any non-good alignment Importance: 0.0\n",
      "Variable: any non-lawful alignment Importance: 0.0\n",
      "Variable: chaotic evil         Importance: 0.0\n",
      "Variable: chaotic good         Importance: 0.0\n",
      "Variable: chaotic neutral      Importance: 0.0\n",
      "Variable: lawful evil          Importance: 0.0\n",
      "Variable: lawful good          Importance: 0.0\n",
      "Variable: lawful neutral       Importance: 0.0\n",
      "Variable: neutral              Importance: 0.0\n",
      "Variable: neutral evil         Importance: 0.0\n",
      "Variable: neutral good         Importance: 0.0\n"
     ]
    },
    {
     "data": {
      "text/plain": [
       "[None,\n",
       " None,\n",
       " None,\n",
       " None,\n",
       " None,\n",
       " None,\n",
       " None,\n",
       " None,\n",
       " None,\n",
       " None,\n",
       " None,\n",
       " None,\n",
       " None,\n",
       " None,\n",
       " None,\n",
       " None,\n",
       " None,\n",
       " None,\n",
       " None,\n",
       " None,\n",
       " None,\n",
       " None,\n",
       " None,\n",
       " None,\n",
       " None,\n",
       " None,\n",
       " None,\n",
       " None,\n",
       " None,\n",
       " None,\n",
       " None,\n",
       " None,\n",
       " None,\n",
       " None,\n",
       " None,\n",
       " None,\n",
       " None,\n",
       " None,\n",
       " None,\n",
       " None,\n",
       " None,\n",
       " None,\n",
       " None,\n",
       " None]"
      ]
     },
     "execution_count": 9,
     "metadata": {},
     "output_type": "execute_result"
    }
   ],
   "source": [
    "## Feature Importance\n",
    "feature_list = X_data.columns\n",
    "# Get numerical feature importances\n",
    "importances = list(model_R.feature_importances_)\n",
    "# List of tuples with variable and importance\n",
    "feature_importances = [(feature, round(importance, 2)) for feature, importance in zip(feature_list, importances)]\n",
    "# Sort the feature importances by most important first\n",
    "feature_importances = sorted(feature_importances, key = lambda x: x[1], reverse = True)\n",
    "# Print out the feature and importances \n",
    "[print('Variable: {:20} Importance: {}'.format(*pair)) for pair in feature_importances]\n"
   ]
  },
  {
   "cell_type": "markdown",
   "metadata": {},
   "source": [
    "## Baseline TensorFlow model Keras\n",
    "Rather than train_test, we will use keras's validation split & validation data in order to split before modeling and then monitor test accuracy during training"
   ]
  },
  {
   "cell_type": "code",
   "execution_count": 98,
   "metadata": {},
   "outputs": [],
   "source": [
    "# Turn data into numpy arrays\n",
    "X = np.array(X_data)\n",
    "Y = np.array(y_data)"
   ]
  },
  {
   "cell_type": "code",
   "execution_count": 52,
   "metadata": {},
   "outputs": [
    {
     "name": "stdout",
     "output_type": "stream",
     "text": [
      "var: 1.0000\n",
      "mean: 0.0000\n"
     ]
    }
   ],
   "source": [
    "#feature normlization will happen as part of keras preprocessing layer : Normalization\n",
    "normalizer =  Normalization(axis=-1)\n",
    "normalizer.adapt(X)\n",
    "\n",
    "normalized_data = normalizer(X)\n",
    "print(\"var: %.4f\" % np.var(normalized_data))\n",
    "print(\"mean: %.4f\" % np.mean(normalized_data))"
   ]
  },
  {
   "cell_type": "code",
   "execution_count": 57,
   "metadata": {},
   "outputs": [
    {
     "name": "stdout",
     "output_type": "stream",
     "text": [
      "Model: \"sequential_40\"\n",
      "_________________________________________________________________\n",
      " Layer (type)                Output Shape              Param #   \n",
      "=================================================================\n",
      " normalization_3 (Normalizat  (None, 44)               89        \n",
      " ion)                                                            \n",
      "                                                                 \n",
      " dense_112 (Dense)           (None, 24)                1080      \n",
      "                                                                 \n",
      "=================================================================\n",
      "Total params: 1,169\n",
      "Trainable params: 1,080\n",
      "Non-trainable params: 89\n",
      "_________________________________________________________________\n"
     ]
    }
   ],
   "source": [
    "# simple test model\n",
    "x_train = np.array(x_train)\n",
    "model = Sequential([normalizer, Dense(units=24)])\n",
    "model.summary()"
   ]
  },
  {
   "cell_type": "code",
   "execution_count": 54,
   "metadata": {},
   "outputs": [
    {
     "data": {
      "text/plain": [
       "array([[-0.89272535, -0.8016184 ,  0.07926542, ..., -1.3994786 ,\n",
       "        -1.5672437 , -1.6140022 ],\n",
       "       [-1.3402978 , -0.68007696, -0.69132733, ..., -0.9769069 ,\n",
       "        -1.3573015 ,  0.76627237],\n",
       "       [ 1.7528071 ,  0.48500174,  0.85425234, ...,  0.24931225,\n",
       "         0.24890333, -0.6856836 ],\n",
       "       ...,\n",
       "       [ 1.7106516 ,  0.18588221,  0.37973505, ...,  0.90616506,\n",
       "        -0.63656247,  0.4479943 ],\n",
       "       [ 1.1599072 , -0.62692595, -0.06077904, ..., -1.4921964 ,\n",
       "         1.9731028 ,  2.2099707 ],\n",
       "       [ 0.02633351,  1.9460564 , -0.17324042, ...,  1.6334835 ,\n",
       "        -0.7093249 , -0.40426457]], dtype=float32)"
      ]
     },
     "execution_count": 54,
     "metadata": {},
     "output_type": "execute_result"
    }
   ],
   "source": [
    "model.predict(x_test)"
   ]
  },
  {
   "cell_type": "code",
   "execution_count": 14,
   "metadata": {},
   "outputs": [],
   "source": [
    "model.compile(\n",
    "    optimizer=tf.optimizers.Adam(learning_rate=0.1),\n",
    "    loss='mean_absolute_error')"
   ]
  },
  {
   "cell_type": "code",
   "execution_count": 15,
   "metadata": {},
   "outputs": [
    {
     "name": "stdout",
     "output_type": "stream",
     "text": [
      "CPU times: total: 4.61 s\n",
      "Wall time: 5.76 s\n"
     ]
    }
   ],
   "source": [
    "%%time\n",
    "history = model.fit(\n",
    "    x_train,\n",
    "    y_train,\n",
    "    epochs=100,\n",
    "    verbose =0,\n",
    "    validation_split = 0.2\n",
    ")"
   ]
  },
  {
   "cell_type": "code",
   "execution_count": 16,
   "metadata": {},
   "outputs": [
    {
     "data": {
      "image/png": "[encoded data removed]",
      "text/plain": [
       "<Figure size 432x288 with 1 Axes>"
      ]
     },
     "metadata": {
      "needs_background": "light"
     },
     "output_type": "display_data"
    }
   ],
   "source": [
    "def plot_loss(history):\n",
    "  plt.plot(history.history['loss'], label='loss')\n",
    "  plt.plot(history.history['val_loss'], label='val_loss')\n",
    "  plt.ylim([0, 10])\n",
    "  plt.xlabel('Epoch')\n",
    "  plt.ylabel('Error')\n",
    "  plt.legend()\n",
    "  plt.grid(True)\n",
    "\n",
    "plot_loss(history)"
   ]
  },
  {
   "cell_type": "code",
   "execution_count": 17,
   "metadata": {},
   "outputs": [
    {
     "data": {
      "text/plain": [
       "5.121549606323242"
      ]
     },
     "execution_count": 17,
     "metadata": {},
     "output_type": "execute_result"
    }
   ],
   "source": [
    "model.evaluate(x_test,y_test,verbose=0)"
   ]
  },
  {
   "cell_type": "code",
   "execution_count": 99,
   "metadata": {},
   "outputs": [],
   "source": [
    "def compile_model(n_inputs, n_outputs):\n",
    "    model_tf = Sequential([normalizer])\n",
    "    model_tf.add(Dense(44, input_dim = n_inputs, kernel_initializer = 'he_uniform', activation = 'relu'))\n",
    "    model_tf.add(Dense(32, activation= \"relu\"))\n",
    "    model_tf.add(Dense(n_outputs))\n",
    "    opt = keras.optimizers.Adam(learning_rate=0.001)\n",
    "    model_tf.compile(loss= \"mean_squared_error\" , optimizer=opt, metrics=['accuracy'])\n",
    "    return model_tf\n",
    "    "
   ]
  },
  {
   "cell_type": "code",
   "execution_count": 100,
   "metadata": {},
   "outputs": [],
   "source": [
    "def cross_validate(X, y, K = 5, **kwargs):\n",
    "    '''\n",
    "    function adapted from yousefnami- towardsdatascience\n",
    "    uses KFold validation to check that model works for different randomised conditions.\n",
    "    '''\n",
    "    scores = []\n",
    "    histories = []\n",
    "    for train, test in KFold(n_splits=K, shuffle=True).split(X,y):\n",
    "        model = compile_model(44,24) # compile model\n",
    "        start = time.time()\n",
    "        histories.append(model.fit(X[train], y[train],\n",
    "                                   validation_data = (X[test],y[test]), # feed in the test data for plotting\n",
    "                                   **kwargs).history)\n",
    "        print(time.time() - start)\n",
    "        scores.append(model.evaluate(X[test], y[test], verbose = 0)) # evaluate the test dataset\n",
    "    print(\"average test loss: \", np.asarray(scores)[:,0].mean())\n",
    "    print(\"average test accuracy: \", np.asarray(scores)[:,1].mean())\n",
    "    print(model.summary())\n",
    "    return scores, histories\n",
    "\n",
    "def plot_histories(histories, metrics = ['loss', 'accuracy', 'val_accuracy','val_loss']):\n",
    "    \"\"\"\n",
    "    function adapted from yousefnami- towardsdatascience\n",
    "    to plot the histories of data\n",
    "    \"\"\"\n",
    "    fig, axes = plt.subplots(nrows = (len(metrics) - 1) // 2 + 1, ncols = 2, figsize = (16,16))\n",
    "    axes = axes.reshape((len(metrics) - 1) // 2 + 1, 2)\n",
    "    for i,metric in enumerate(metrics):\n",
    "        for history in histories:\n",
    "            axes[(i+2)//2 - 1, 1 - (i+1)%2].plot(history[metric])\n",
    "            axes[(i+2)//2 - 1, 1 - (i+1)%2].legend([i for i in range(len(histories))])\n",
    "            axes[(i+2)//2 - 1, 1 - (i+1)%2].set_xticks(\n",
    "                np.arange(max(history[metric]))\n",
    "            )"
   ]
  },
  {
   "cell_type": "code",
   "execution_count": 39,
   "metadata": {},
   "outputs": [
    {
     "name": "stdout",
     "output_type": "stream",
     "text": [
      "9/9 [==============================] - 1s 21ms/step - loss: 834.7579 - accuracy: 0.0000e+00 - val_loss: 580.7112 - val_accuracy: 0.0000e+00\n",
      "0.6500515937805176\n",
      "9/9 [==============================] - 1s 26ms/step - loss: 689.8888 - accuracy: 0.6511 - val_loss: 986.1873 - val_accuracy: 0.8143\n",
      "0.6979191303253174\n",
      "9/9 [==============================] - 1s 37ms/step - loss: 805.7057 - accuracy: 0.6547 - val_loss: 556.4670 - val_accuracy: 0.7714\n",
      "0.9138679504394531\n",
      "9/9 [==============================] - 1s 23ms/step - loss: 692.9414 - accuracy: 0.0036 - val_loss: 1159.4788 - val_accuracy: 0.0435\n",
      "0.6610558032989502\n",
      "9/9 [==============================] - 1s 20ms/step - loss: 806.8749 - accuracy: 0.3333 - val_loss: 517.2684 - val_accuracy: 0.3043\n",
      "0.6590545177459717\n",
      "average test loss:  760.0225341796875\n",
      "average test accuracy:  0.38670807108283045\n",
      "Model: \"sequential_16\"\n",
      "_________________________________________________________________\n",
      " Layer (type)                Output Shape              Param #   \n",
      "=================================================================\n",
      " dense_46 (Dense)            (None, 44)                1980      \n",
      "                                                                 \n",
      " dense_47 (Dense)            (None, 32)                1440      \n",
      "                                                                 \n",
      " dense_48 (Dense)            (None, 24)                792       \n",
      "                                                                 \n",
      "=================================================================\n",
      "Total params: 4,212\n",
      "Trainable params: 4,212\n",
      "Non-trainable params: 0\n",
      "_________________________________________________________________\n",
      "None\n"
     ]
    }
   ],
   "source": [
    "#baseline model: average test loss:771, average test acc: 3.4%\n",
    "scores, histories = cross_validate(X,Y)"
   ]
  },
  {
   "cell_type": "code",
   "execution_count": 101,
   "metadata": {},
   "outputs": [
    {
     "name": "stdout",
     "output_type": "stream",
     "text": [
      "6.214985370635986\n",
      "5.998494863510132\n",
      "5.889486074447632\n",
      "6.2965171337127686\n",
      "5.809478521347046\n",
      "average test loss:  57.01015701293945\n",
      "average test accuracy:  0.8421532034873962\n",
      "Model: \"sequential_58\"\n",
      "_________________________________________________________________\n",
      " Layer (type)                Output Shape              Param #   \n",
      "=================================================================\n",
      " normalization_3 (Normalizat  (None, 44)               89        \n",
      " ion)                                                            \n",
      "                                                                 \n",
      " dense_164 (Dense)           (None, 44)                1980      \n",
      "                                                                 \n",
      " dense_165 (Dense)           (None, 32)                1440      \n",
      "                                                                 \n",
      " dense_166 (Dense)           (None, 24)                792       \n",
      "                                                                 \n",
      "=================================================================\n",
      "Total params: 4,301\n",
      "Trainable params: 4,212\n",
      "Non-trainable params: 89\n",
      "_________________________________________________________________\n",
      "None\n"
     ]
    }
   ],
   "source": [
    "#hyperparameter tuning\n",
    "\n",
    "scores_tune, histories_tune = cross_validate(X,Y,epochs=100,verbose=0, batch_size=16)"
   ]
  },
  {
   "cell_type": "code",
   "execution_count": 71,
   "metadata": {},
   "outputs": [
    {
     "data": {
      "image/png": "[encoded data removed]",
      "text/plain": [
       "<Figure size 1152x1152 with 4 Axes>"
      ]
     },
     "metadata": {
      "needs_background": "light"
     },
     "output_type": "display_data"
    }
   ],
   "source": [
    "plot_histories(histories_tune)"
   ]
  },
  {
   "cell_type": "markdown",
   "metadata": {},
   "source": [
    "## Model Tuning\n",
    "Lets look at:\n",
    "activation functio: relu and tanh\n",
    "batch size: 16,32,64\n",
    "epochs: 50, 100, 300\n",
    "learning rate: 0.01, 0.001, and 0.0001\n",
    "\n",
    "\n",
    "Trial #1: Epochs=100; Test Loss = 73.14, Test Acc = 78.7%, ~ 4-5 sec\n",
    "\n",
    "Trial #2: Eppochs=300; Test Loss =68.48, Test Acc = 81.3%, ~12-13 sec\n",
    "\n",
    "Trial #2: Epochs =50; Test Loss = 131.5, Test Acc = 77.6%, ~2-3 sec\n",
    "\n",
    "Trial #4: Epochs = 50, bach_size=16; Test Loss = 91.9,  Test Accc = 77.9, ~3-4 sec\n",
    "\n",
    "Trial # 5: \"\"\"\", batch_size =32, Test Loss =147.6; Test Acc =78.16, ~3-4 sec\n",
    "\n",
    "Trial # 5: \"\"\"\", batch_size =64, Test Loss =297.16; Test Acc =70.13, ~2-3 sec\n",
    "\n",
    "Trial # 6 \"\"\"\", activations: tahn,Test Loss = 719, Test Acc = 48.25  ,2-3 sec\n",
    "\n",
    "Trial # 7 Epochs = 100, batch_size=16, activation = relu; Test Loss=62.18, Test Acc=80.75, 5-6 sec\n",
    "\n",
    "Trial #8 \"\" \"\", Learning Rate: 0.01;Test Loss=201.77, Test Acc =83.89, 5-7 sec\n",
    "\n",
    "Trial #9 \"\"\"\", Learning Rate: 0.001; Test Loss =54.94, Test Acc = 82.45% 5-6 sec\n",
    "\n",
    "Trial #10 \"\"\"\", Learning Rate: 0.0001; Test Loss =617.34, Test Acc = 32.79% 5-6 \n",
    "\n",
    "Trial #11 : Trial #9 with no hidden layers; Test Loss =92.36, Test Acc = 83.9%, 5-6 sec\n",
    "\n",
    "**Trial #12: 1 Hidden layer, 32 units; Test Loss = 59.7 ,  Test Acc = 85.64%, 5-6 sec**\n",
    "\n",
    "Trial #13: 2 HLs, 40, 30; Test Loss =81.62 , Test Acc = 85.3 , 5-6 sec"
   ]
  },
  {
   "cell_type": "code",
   "execution_count": 102,
   "metadata": {},
   "outputs": [
    {
     "name": "stdout",
     "output_type": "stream",
     "text": [
      "Epoch 1/100\n",
      "22/22 [==============================] - 1s 1ms/step - loss: 759.5137 - accuracy: 0.0345 \n",
      "Epoch 2/100\n",
      "22/22 [==============================] - 0s 2ms/step - loss: 657.5430 - accuracy: 0.4454\n",
      "Epoch 3/100\n",
      "22/22 [==============================] - 0s 2ms/step - loss: 511.3727 - accuracy: 0.7759\n",
      "Epoch 4/100\n",
      "22/22 [==============================] - 0s 2ms/step - loss: 345.7740 - accuracy: 0.7759\n",
      "Epoch 5/100\n",
      "22/22 [==============================] - 0s 2ms/step - loss: 192.5092 - accuracy: 0.7759\n",
      "Epoch 6/100\n",
      "22/22 [==============================] - 0s 2ms/step - loss: 114.5853 - accuracy: 0.7759\n",
      "Epoch 7/100\n",
      "22/22 [==============================] - 0s 2ms/step - loss: 82.7546 - accuracy: 0.7759\n",
      "Epoch 8/100\n",
      "22/22 [==============================] - 0s 2ms/step - loss: 69.0219 - accuracy: 0.7759\n",
      "Epoch 9/100\n",
      "22/22 [==============================] - 0s 2ms/step - loss: 61.1646 - accuracy: 0.7989\n",
      "Epoch 10/100\n",
      "22/22 [==============================] - 0s 2ms/step - loss: 57.5215 - accuracy: 0.8506\n",
      "Epoch 11/100\n",
      "22/22 [==============================] - 0s 2ms/step - loss: 55.6064 - accuracy: 0.8534\n",
      "Epoch 12/100\n",
      "22/22 [==============================] - 0s 2ms/step - loss: 52.2911 - accuracy: 0.8592\n",
      "Epoch 13/100\n",
      "22/22 [==============================] - 0s 2ms/step - loss: 50.8069 - accuracy: 0.8506\n",
      "Epoch 14/100\n",
      "22/22 [==============================] - 0s 2ms/step - loss: 49.5574 - accuracy: 0.8333\n",
      "Epoch 15/100\n",
      "22/22 [==============================] - 0s 2ms/step - loss: 48.1439 - accuracy: 0.8218\n",
      "Epoch 16/100\n",
      "22/22 [==============================] - 0s 2ms/step - loss: 48.1433 - accuracy: 0.8132\n",
      "Epoch 17/100\n",
      "22/22 [==============================] - 0s 1ms/step - loss: 47.3762 - accuracy: 0.8161\n",
      "Epoch 18/100\n",
      "22/22 [==============================] - 0s 2ms/step - loss: 45.9238 - accuracy: 0.8132\n",
      "Epoch 19/100\n",
      "22/22 [==============================] - 0s 2ms/step - loss: 45.3398 - accuracy: 0.8103\n",
      "Epoch 20/100\n",
      "22/22 [==============================] - 0s 1ms/step - loss: 45.3748 - accuracy: 0.8190\n",
      "Epoch 21/100\n",
      "22/22 [==============================] - 0s 2ms/step - loss: 44.0698 - accuracy: 0.8103\n",
      "Epoch 22/100\n",
      "22/22 [==============================] - 0s 2ms/step - loss: 44.0881 - accuracy: 0.8190\n",
      "Epoch 23/100\n",
      "22/22 [==============================] - 0s 1ms/step - loss: 43.6777 - accuracy: 0.8218\n",
      "Epoch 24/100\n",
      "22/22 [==============================] - 0s 2ms/step - loss: 42.7428 - accuracy: 0.8190\n",
      "Epoch 25/100\n",
      "22/22 [==============================] - 0s 2ms/step - loss: 42.1619 - accuracy: 0.8218\n",
      "Epoch 26/100\n",
      "22/22 [==============================] - 0s 2ms/step - loss: 41.8633 - accuracy: 0.8218\n",
      "Epoch 27/100\n",
      "22/22 [==============================] - 0s 2ms/step - loss: 41.5369 - accuracy: 0.8333\n",
      "Epoch 28/100\n",
      "22/22 [==============================] - 0s 2ms/step - loss: 42.1309 - accuracy: 0.8391\n",
      "Epoch 29/100\n",
      "22/22 [==============================] - 0s 2ms/step - loss: 42.5579 - accuracy: 0.8305\n",
      "Epoch 30/100\n",
      "22/22 [==============================] - 0s 2ms/step - loss: 41.7452 - accuracy: 0.8362\n",
      "Epoch 31/100\n",
      "22/22 [==============================] - 0s 2ms/step - loss: 41.3216 - accuracy: 0.8391\n",
      "Epoch 32/100\n",
      "22/22 [==============================] - 0s 2ms/step - loss: 39.9916 - accuracy: 0.8448\n",
      "Epoch 33/100\n",
      "22/22 [==============================] - 0s 2ms/step - loss: 39.5234 - accuracy: 0.8477\n",
      "Epoch 34/100\n",
      "22/22 [==============================] - 0s 2ms/step - loss: 39.5302 - accuracy: 0.8621\n",
      "Epoch 35/100\n",
      "22/22 [==============================] - 0s 2ms/step - loss: 38.9482 - accuracy: 0.8506\n",
      "Epoch 36/100\n",
      "22/22 [==============================] - 0s 2ms/step - loss: 39.3537 - accuracy: 0.8534\n",
      "Epoch 37/100\n",
      "22/22 [==============================] - 0s 2ms/step - loss: 38.7271 - accuracy: 0.8506\n",
      "Epoch 38/100\n",
      "22/22 [==============================] - 0s 2ms/step - loss: 38.1016 - accuracy: 0.8506\n",
      "Epoch 39/100\n",
      "22/22 [==============================] - 0s 2ms/step - loss: 37.9183 - accuracy: 0.8621\n",
      "Epoch 40/100\n",
      "22/22 [==============================] - 0s 2ms/step - loss: 37.5201 - accuracy: 0.8477\n",
      "Epoch 41/100\n",
      "22/22 [==============================] - 0s 2ms/step - loss: 37.2678 - accuracy: 0.8506\n",
      "Epoch 42/100\n",
      "22/22 [==============================] - 0s 2ms/step - loss: 36.7031 - accuracy: 0.8391\n",
      "Epoch 43/100\n",
      "22/22 [==============================] - 0s 2ms/step - loss: 36.5107 - accuracy: 0.8592\n",
      "Epoch 44/100\n",
      "22/22 [==============================] - 0s 2ms/step - loss: 36.3012 - accuracy: 0.8534\n",
      "Epoch 45/100\n",
      "22/22 [==============================] - 0s 2ms/step - loss: 35.8986 - accuracy: 0.8563\n",
      "Epoch 46/100\n",
      "22/22 [==============================] - 0s 2ms/step - loss: 35.4903 - accuracy: 0.8764\n",
      "Epoch 47/100\n",
      "22/22 [==============================] - 0s 2ms/step - loss: 35.4707 - accuracy: 0.8534\n",
      "Epoch 48/100\n",
      "22/22 [==============================] - 0s 2ms/step - loss: 35.2217 - accuracy: 0.8621\n",
      "Epoch 49/100\n",
      "22/22 [==============================] - 0s 2ms/step - loss: 34.4673 - accuracy: 0.8563\n",
      "Epoch 50/100\n",
      "22/22 [==============================] - 0s 2ms/step - loss: 35.1216 - accuracy: 0.8563\n",
      "Epoch 51/100\n",
      "22/22 [==============================] - 0s 3ms/step - loss: 33.5571 - accuracy: 0.8534\n",
      "Epoch 52/100\n",
      "22/22 [==============================] - 0s 3ms/step - loss: 33.2197 - accuracy: 0.8649\n",
      "Epoch 53/100\n",
      "22/22 [==============================] - 0s 2ms/step - loss: 33.4643 - accuracy: 0.8621\n",
      "Epoch 54/100\n",
      "22/22 [==============================] - 0s 2ms/step - loss: 32.4832 - accuracy: 0.8621\n",
      "Epoch 55/100\n",
      "22/22 [==============================] - 0s 2ms/step - loss: 31.9535 - accuracy: 0.8621\n",
      "Epoch 56/100\n",
      "22/22 [==============================] - 0s 2ms/step - loss: 31.7923 - accuracy: 0.8678\n",
      "Epoch 57/100\n",
      "22/22 [==============================] - 0s 2ms/step - loss: 31.2233 - accuracy: 0.8621\n",
      "Epoch 58/100\n",
      "22/22 [==============================] - 0s 1ms/step - loss: 30.7754 - accuracy: 0.8621\n",
      "Epoch 59/100\n",
      "22/22 [==============================] - 0s 2ms/step - loss: 30.9602 - accuracy: 0.8592\n",
      "Epoch 60/100\n",
      "22/22 [==============================] - 0s 2ms/step - loss: 30.9650 - accuracy: 0.8563\n",
      "Epoch 61/100\n",
      "22/22 [==============================] - 0s 1ms/step - loss: 30.2455 - accuracy: 0.8592\n",
      "Epoch 62/100\n",
      "22/22 [==============================] - 0s 2ms/step - loss: 29.6398 - accuracy: 0.8649\n",
      "Epoch 63/100\n",
      "22/22 [==============================] - 0s 1ms/step - loss: 30.1218 - accuracy: 0.8649\n",
      "Epoch 64/100\n",
      "22/22 [==============================] - 0s 2ms/step - loss: 28.8834 - accuracy: 0.8649\n",
      "Epoch 65/100\n",
      "22/22 [==============================] - 0s 1ms/step - loss: 28.2058 - accuracy: 0.8649\n",
      "Epoch 66/100\n",
      "22/22 [==============================] - 0s 2ms/step - loss: 28.2471 - accuracy: 0.8707\n",
      "Epoch 67/100\n",
      "22/22 [==============================] - 0s 1ms/step - loss: 27.9881 - accuracy: 0.8621\n",
      "Epoch 68/100\n",
      "22/22 [==============================] - 0s 2ms/step - loss: 27.2876 - accuracy: 0.8592\n",
      "Epoch 69/100\n",
      "22/22 [==============================] - 0s 2ms/step - loss: 27.2840 - accuracy: 0.8621\n",
      "Epoch 70/100\n",
      "22/22 [==============================] - 0s 1ms/step - loss: 26.9379 - accuracy: 0.8707\n",
      "Epoch 71/100\n",
      "22/22 [==============================] - 0s 1ms/step - loss: 26.9219 - accuracy: 0.8506\n",
      "Epoch 72/100\n",
      "22/22 [==============================] - 0s 1ms/step - loss: 26.1942 - accuracy: 0.8506\n",
      "Epoch 73/100\n",
      "22/22 [==============================] - 0s 2ms/step - loss: 26.2738 - accuracy: 0.8534\n",
      "Epoch 74/100\n",
      "22/22 [==============================] - 0s 1ms/step - loss: 25.4692 - accuracy: 0.8592\n",
      "Epoch 75/100\n",
      "22/22 [==============================] - 0s 2ms/step - loss: 25.4048 - accuracy: 0.8621\n",
      "Epoch 76/100\n",
      "22/22 [==============================] - 0s 1ms/step - loss: 25.0773 - accuracy: 0.8621\n",
      "Epoch 77/100\n",
      "22/22 [==============================] - 0s 2ms/step - loss: 25.0414 - accuracy: 0.8477\n",
      "Epoch 78/100\n",
      "22/22 [==============================] - 0s 1ms/step - loss: 24.7417 - accuracy: 0.8592\n",
      "Epoch 79/100\n",
      "22/22 [==============================] - 0s 1ms/step - loss: 24.1002 - accuracy: 0.8621\n",
      "Epoch 80/100\n",
      "22/22 [==============================] - 0s 1ms/step - loss: 24.0460 - accuracy: 0.8563\n",
      "Epoch 81/100\n",
      "22/22 [==============================] - 0s 2ms/step - loss: 23.5891 - accuracy: 0.8592\n",
      "Epoch 82/100\n",
      "22/22 [==============================] - 0s 2ms/step - loss: 23.1135 - accuracy: 0.8534\n",
      "Epoch 83/100\n",
      "22/22 [==============================] - 0s 2ms/step - loss: 23.0291 - accuracy: 0.8764\n",
      "Epoch 84/100\n",
      "22/22 [==============================] - 0s 2ms/step - loss: 22.6354 - accuracy: 0.8621\n",
      "Epoch 85/100\n",
      "22/22 [==============================] - 0s 2ms/step - loss: 22.6394 - accuracy: 0.8937\n",
      "Epoch 86/100\n",
      "22/22 [==============================] - 0s 2ms/step - loss: 22.4669 - accuracy: 0.8879\n",
      "Epoch 87/100\n",
      "22/22 [==============================] - 0s 2ms/step - loss: 22.2972 - accuracy: 0.8879\n",
      "Epoch 88/100\n",
      "22/22 [==============================] - 0s 3ms/step - loss: 21.7955 - accuracy: 0.8736\n",
      "Epoch 89/100\n",
      "22/22 [==============================] - 0s 2ms/step - loss: 21.6666 - accuracy: 0.8822\n",
      "Epoch 90/100\n",
      "22/22 [==============================] - 0s 2ms/step - loss: 21.4163 - accuracy: 0.8764\n",
      "Epoch 91/100\n",
      "22/22 [==============================] - 0s 2ms/step - loss: 21.0804 - accuracy: 0.8822\n",
      "Epoch 92/100\n",
      "22/22 [==============================] - 0s 2ms/step - loss: 21.5056 - accuracy: 0.8736\n",
      "Epoch 93/100\n",
      "22/22 [==============================] - 0s 2ms/step - loss: 21.0346 - accuracy: 0.8736\n",
      "Epoch 94/100\n",
      "22/22 [==============================] - 0s 2ms/step - loss: 20.4538 - accuracy: 0.8736\n",
      "Epoch 95/100\n",
      "22/22 [==============================] - 0s 2ms/step - loss: 20.4630 - accuracy: 0.8736\n",
      "Epoch 96/100\n",
      "22/22 [==============================] - 0s 6ms/step - loss: 19.7898 - accuracy: 0.8736\n",
      "Epoch 97/100\n",
      "22/22 [==============================] - 0s 2ms/step - loss: 19.9080 - accuracy: 0.8736\n",
      "Epoch 98/100\n",
      "22/22 [==============================] - 0s 2ms/step - loss: 19.8799 - accuracy: 0.8851\n",
      "Epoch 99/100\n",
      "22/22 [==============================] - 0s 2ms/step - loss: 20.3259 - accuracy: 0.8793\n",
      "Epoch 100/100\n",
      "22/22 [==============================] - 0s 2ms/step - loss: 19.8231 - accuracy: 0.8822\n"
     ]
    }
   ],
   "source": [
    "## Fit Final Model & Nested CV\n",
    "\n",
    "model = compile_model(44,24)\n",
    "history = model.fit(X, Y, epochs =100, batch_size =16)"
   ]
  },
  {
   "cell_type": "code",
   "execution_count": 103,
   "metadata": {},
   "outputs": [
    {
     "data": {
      "image/png": "[encoded data removed]",
      "text/plain": [
       "<IPython.core.display.Image object>"
      ]
     },
     "execution_count": 103,
     "metadata": {},
     "output_type": "execute_result"
    }
   ],
   "source": [
    "keras.utils.plot_model(model,\"monster_model.png\",show_shapes=True)"
   ]
  },
  {
   "cell_type": "code",
   "execution_count": 76,
   "metadata": {},
   "outputs": [],
   "source": [
    "model.save(\"monster_generator.h5\") "
   ]
  },
  {
   "cell_type": "code",
   "execution_count": 104,
   "metadata": {},
   "outputs": [],
   "source": [
    "x_test = np.array([[25,  6,  0,  0,  0,  1,  0,  0,  0,  0,  0,  0,  0,  0,  0,  0, 0,  0,  0,  1,  0,  0,  0,  0,  0,  0,  0,  0,  0,  0,  1,  0,  0,  0,  0,  0,  0,  0,  0,  0,  0,  0,  0,  0]])\n",
    "\n",
    "\n"
   ]
  },
  {
   "cell_type": "code",
   "execution_count": 107,
   "metadata": {},
   "outputs": [],
   "source": [
    "array = model.predict(x_test)"
   ]
  },
  {
   "cell_type": "code",
   "execution_count": 115,
   "metadata": {},
   "outputs": [],
   "source": [
    "df = pd.DataFrame(data = array.astype(int), columns=['Hit Points','Armor Class','Proficiency Bonus','STR','DEX','CON','WIS','INT','CHA', 'STR_SV','DEX_SV','CON_SV','WIS_SV','INT_SV','CHA_SV', 'Attack_Bonus','Average_Damage_per_Round','Legendary Actions', 'Damage Resistances', 'Damage Immunities', 'Condition Immunities', 'Damage Vulnerabilities', 'Legendary Resistance', 'Magic Resistance'])"
   ]
  },
  {
   "cell_type": "code",
   "execution_count": 116,
   "metadata": {},
   "outputs": [
    {
     "data": {
      "text/html": [
       "<div>\n",
       "<style scoped>\n",
       "    .dataframe tbody tr th:only-of-type {\n",
       "        vertical-align: middle;\n",
       "    }\n",
       "\n",
       "    .dataframe tbody tr th {\n",
       "        vertical-align: top;\n",
       "    }\n",
       "\n",
       "    .dataframe thead th {\n",
       "        text-align: right;\n",
       "    }\n",
       "</style>\n",
       "<table border=\"1\" class=\"dataframe\">\n",
       "  <thead>\n",
       "    <tr style=\"text-align: right;\">\n",
       "      <th></th>\n",
       "      <th>Hit Points</th>\n",
       "      <th>Armor Class</th>\n",
       "      <th>Proficiency Bonus</th>\n",
       "      <th>STR</th>\n",
       "      <th>DEX</th>\n",
       "      <th>CON</th>\n",
       "      <th>WIS</th>\n",
       "      <th>INT</th>\n",
       "      <th>CHA</th>\n",
       "      <th>STR_SV</th>\n",
       "      <th>...</th>\n",
       "      <th>CHA_SV</th>\n",
       "      <th>Attack_Bonus</th>\n",
       "      <th>Average_Damage_per_Round</th>\n",
       "      <th>Legendary Actions</th>\n",
       "      <th>Damage Resistances</th>\n",
       "      <th>Damage Immunities</th>\n",
       "      <th>Condition Immunities</th>\n",
       "      <th>Damage Vulnerabilities</th>\n",
       "      <th>Legendary Resistance</th>\n",
       "      <th>Magic Resistance</th>\n",
       "    </tr>\n",
       "  </thead>\n",
       "  <tbody>\n",
       "    <tr>\n",
       "      <th>0</th>\n",
       "      <td>506</td>\n",
       "      <td>19</td>\n",
       "      <td>5</td>\n",
       "      <td>29</td>\n",
       "      <td>6</td>\n",
       "      <td>32</td>\n",
       "      <td>11</td>\n",
       "      <td>8</td>\n",
       "      <td>9</td>\n",
       "      <td>12</td>\n",
       "      <td>...</td>\n",
       "      <td>6</td>\n",
       "      <td>17</td>\n",
       "      <td>145</td>\n",
       "      <td>1</td>\n",
       "      <td>0</td>\n",
       "      <td>2</td>\n",
       "      <td>0</td>\n",
       "      <td>1</td>\n",
       "      <td>1</td>\n",
       "      <td>1</td>\n",
       "    </tr>\n",
       "  </tbody>\n",
       "</table>\n",
       "<p>1 rows × 24 columns</p>\n",
       "</div>"
      ],
      "text/plain": [
       "   Hit Points  Armor Class  Proficiency Bonus  STR  DEX  CON  WIS  INT  CHA  \\\n",
       "0         506           19                  5   29    6   32   11    8    9   \n",
       "\n",
       "   STR_SV  ...  CHA_SV  Attack_Bonus  Average_Damage_per_Round  \\\n",
       "0      12  ...       6            17                       145   \n",
       "\n",
       "   Legendary Actions  Damage Resistances  Damage Immunities  \\\n",
       "0                  1                   0                  2   \n",
       "\n",
       "   Condition Immunities  Damage Vulnerabilities  Legendary Resistance  \\\n",
       "0                     0                       1                     1   \n",
       "\n",
       "   Magic Resistance  \n",
       "0                 1  \n",
       "\n",
       "[1 rows x 24 columns]"
      ]
     },
     "execution_count": 116,
     "metadata": {},
     "output_type": "execute_result"
    }
   ],
   "source": [
    "df"
   ]
  },
  {
   "cell_type": "code",
   "execution_count": null,
   "metadata": {},
   "outputs": [],
   "source": []
  }
 ],
 "metadata": {
  "interpreter": {
   "hash": "2db776f1d3cba7926000b31ed89fa7adb52a08316c2db55bfe9500ec477078b3"
  },
  "kernelspec": {
   "display_name": "Python 3.10.1 ('env': venv)",
   "language": "python",
   "name": "python3"
  },
  "language_info": {
   "codemirror_mode": {
    "name": "ipython",
    "version": 3
   },
   "file_extension": ".py",
   "mimetype": "text/x-python",
   "name": "python",
   "nbconvert_exporter": "python",
   "pygments_lexer": "ipython3",
   "version": "3.10.1"
  },
  "orig_nbformat": 4
 },
 "nbformat": 4,
 "nbformat_minor": 2
}
