{
 "cells": [
  {
   "cell_type": "code",
   "execution_count": 107,
   "metadata": {},
   "outputs": [
    {
     "data": {
      "text/html": [
       "<div>\n",
       "<style scoped>\n",
       "    .dataframe tbody tr th:only-of-type {\n",
       "        vertical-align: middle;\n",
       "    }\n",
       "\n",
       "    .dataframe tbody tr th {\n",
       "        vertical-align: top;\n",
       "    }\n",
       "\n",
       "    .dataframe thead th {\n",
       "        text-align: right;\n",
       "    }\n",
       "</style>\n",
       "<table border=\"1\" class=\"dataframe\">\n",
       "  <thead>\n",
       "    <tr style=\"text-align: right;\">\n",
       "      <th></th>\n",
       "      <th>Traits</th>\n",
       "      <th>Reactions</th>\n",
       "      <th>Armor Class</th>\n",
       "      <th>Hit Points</th>\n",
       "      <th>Challenge</th>\n",
       "      <th>Proficiency Bonus</th>\n",
       "      <th>STR</th>\n",
       "      <th>DEX</th>\n",
       "      <th>CON</th>\n",
       "      <th>INT</th>\n",
       "      <th>...</th>\n",
       "      <th>chaotic good</th>\n",
       "      <th>chaotic neutral</th>\n",
       "      <th>lawful evil</th>\n",
       "      <th>lawful good</th>\n",
       "      <th>lawful neutral</th>\n",
       "      <th>neutral</th>\n",
       "      <th>neutral evil</th>\n",
       "      <th>neutral good</th>\n",
       "      <th>unaligned</th>\n",
       "      <th>total_stats</th>\n",
       "    </tr>\n",
       "  </thead>\n",
       "  <tbody>\n",
       "    <tr>\n",
       "      <th>0</th>\n",
       "      <td>1</td>\n",
       "      <td>0</td>\n",
       "      <td>19</td>\n",
       "      <td>207</td>\n",
       "      <td>15.0</td>\n",
       "      <td>5</td>\n",
       "      <td>23</td>\n",
       "      <td>12</td>\n",
       "      <td>21</td>\n",
       "      <td>18</td>\n",
       "      <td>...</td>\n",
       "      <td>0.0</td>\n",
       "      <td>0.0</td>\n",
       "      <td>1.0</td>\n",
       "      <td>0.0</td>\n",
       "      <td>0.0</td>\n",
       "      <td>0.0</td>\n",
       "      <td>0.0</td>\n",
       "      <td>0.0</td>\n",
       "      <td>0.0</td>\n",
       "      <td>106</td>\n",
       "    </tr>\n",
       "    <tr>\n",
       "      <th>1</th>\n",
       "      <td>1</td>\n",
       "      <td>0</td>\n",
       "      <td>19</td>\n",
       "      <td>243</td>\n",
       "      <td>16.0</td>\n",
       "      <td>5</td>\n",
       "      <td>27</td>\n",
       "      <td>10</td>\n",
       "      <td>25</td>\n",
       "      <td>16</td>\n",
       "      <td>...</td>\n",
       "      <td>0.0</td>\n",
       "      <td>0.0</td>\n",
       "      <td>0.0</td>\n",
       "      <td>1.0</td>\n",
       "      <td>0.0</td>\n",
       "      <td>0.0</td>\n",
       "      <td>0.0</td>\n",
       "      <td>0.0</td>\n",
       "      <td>0.0</td>\n",
       "      <td>112</td>\n",
       "    </tr>\n",
       "    <tr>\n",
       "      <th>2</th>\n",
       "      <td>1</td>\n",
       "      <td>0</td>\n",
       "      <td>18</td>\n",
       "      <td>200</td>\n",
       "      <td>13.0</td>\n",
       "      <td>5</td>\n",
       "      <td>22</td>\n",
       "      <td>10</td>\n",
       "      <td>22</td>\n",
       "      <td>8</td>\n",
       "      <td>...</td>\n",
       "      <td>0.0</td>\n",
       "      <td>0.0</td>\n",
       "      <td>0.0</td>\n",
       "      <td>0.0</td>\n",
       "      <td>0.0</td>\n",
       "      <td>0.0</td>\n",
       "      <td>0.0</td>\n",
       "      <td>0.0</td>\n",
       "      <td>0.0</td>\n",
       "      <td>86</td>\n",
       "    </tr>\n",
       "    <tr>\n",
       "      <th>3</th>\n",
       "      <td>1</td>\n",
       "      <td>0</td>\n",
       "      <td>15</td>\n",
       "      <td>90</td>\n",
       "      <td>5.0</td>\n",
       "      <td>3</td>\n",
       "      <td>14</td>\n",
       "      <td>20</td>\n",
       "      <td>14</td>\n",
       "      <td>6</td>\n",
       "      <td>...</td>\n",
       "      <td>0.0</td>\n",
       "      <td>0.0</td>\n",
       "      <td>0.0</td>\n",
       "      <td>0.0</td>\n",
       "      <td>0.0</td>\n",
       "      <td>1.0</td>\n",
       "      <td>0.0</td>\n",
       "      <td>0.0</td>\n",
       "      <td>0.0</td>\n",
       "      <td>70</td>\n",
       "    </tr>\n",
       "    <tr>\n",
       "      <th>4</th>\n",
       "      <td>0</td>\n",
       "      <td>0</td>\n",
       "      <td>12</td>\n",
       "      <td>19</td>\n",
       "      <td>0.5</td>\n",
       "      <td>2</td>\n",
       "      <td>16</td>\n",
       "      <td>14</td>\n",
       "      <td>14</td>\n",
       "      <td>6</td>\n",
       "      <td>...</td>\n",
       "      <td>0.0</td>\n",
       "      <td>0.0</td>\n",
       "      <td>0.0</td>\n",
       "      <td>0.0</td>\n",
       "      <td>0.0</td>\n",
       "      <td>0.0</td>\n",
       "      <td>0.0</td>\n",
       "      <td>0.0</td>\n",
       "      <td>1.0</td>\n",
       "      <td>69</td>\n",
       "    </tr>\n",
       "  </tbody>\n",
       "</table>\n",
       "<p>5 rows × 80 columns</p>\n",
       "</div>"
      ],
      "text/plain": [
       "   Traits  Reactions  Armor Class  Hit Points  Challenge  Proficiency Bonus  \\\n",
       "0       1          0           19         207       15.0                  5   \n",
       "1       1          0           19         243       16.0                  5   \n",
       "2       1          0           18         200       13.0                  5   \n",
       "3       1          0           15          90        5.0                  3   \n",
       "4       0          0           12          19        0.5                  2   \n",
       "\n",
       "   STR  DEX  CON  INT  ...  chaotic good  chaotic neutral  lawful evil  \\\n",
       "0   23   12   21   18  ...           0.0              0.0          1.0   \n",
       "1   27   10   25   16  ...           0.0              0.0          0.0   \n",
       "2   22   10   22    8  ...           0.0              0.0          0.0   \n",
       "3   14   20   14    6  ...           0.0              0.0          0.0   \n",
       "4   16   14   14    6  ...           0.0              0.0          0.0   \n",
       "\n",
       "   lawful good  lawful neutral  neutral  neutral evil  neutral good  \\\n",
       "0          0.0             0.0      0.0           0.0           0.0   \n",
       "1          1.0             0.0      0.0           0.0           0.0   \n",
       "2          0.0             0.0      0.0           0.0           0.0   \n",
       "3          0.0             0.0      1.0           0.0           0.0   \n",
       "4          0.0             0.0      0.0           0.0           0.0   \n",
       "\n",
       "   unaligned  total_stats  \n",
       "0        0.0          106  \n",
       "1        0.0          112  \n",
       "2        0.0           86  \n",
       "3        0.0           70  \n",
       "4        1.0           69  \n",
       "\n",
       "[5 rows x 80 columns]"
      ]
     },
     "execution_count": 107,
     "metadata": {},
     "output_type": "execute_result"
    }
   ],
   "source": [
    "import pandas as pd\n",
    "from numpy import mean\n",
    "from numpy import std\n",
    "from sklearn.preprocessing import StandardScaler\n",
    "from sklearn.linear_model import LinearRegression\n",
    "from sklearn.neighbors import KNeighborsRegressor\n",
    "from sklearn.tree import DecisionTreeRegressor\n",
    "from sklearn.ensemble import RandomForestRegressor\n",
    "from sklearn.multioutput import  MultiOutputRegressor\n",
    "from sklearn.model_selection import KFold\n",
    "from sklearn.model_selection import cross_val_score\n",
    "from sklearn.model_selection import train_test_split\n",
    "from sklearn.metrics import r2_score, mean_squared_error, f1_score,jaccard_score\n",
    "from sklearn.metrics import confusion_matrix\n",
    "from sklearn.model_selection import cross_val_score\n",
    "\n",
    "monster_df = pd.read_csv('../data/processed/Monster_modeling_df.csv')\n",
    "\n",
    "monster_df.drop(columns={\"Unnamed: 0\", \"Monster Name\", \"Size\",'Type','Alignment'},axis=1, inplace=True)\n",
    "monster_df.head()\n",
    "\n"
   ]
  },
  {
   "cell_type": "code",
   "execution_count": null,
   "metadata": {},
   "outputs": [],
   "source": [
    "#Input Variables: Size, Type, Environment, Alignment, CR(disguised as 4x player level)\n",
    "#Output Variables: Stats, Saving Throws, Traits(barebones), Attack Bonus, Damage per Round, Reactions (y/n), Legendary Actions (y/n)"
   ]
  },
  {
   "cell_type": "markdown",
   "metadata": {},
   "source": [
    "LinearRegression (and related)\n",
    "KNeighborsRegressor\n",
    "DecisionTreeRegressor\n",
    "RandomForestRegressor (and related)"
   ]
  },
  {
   "cell_type": "code",
   "execution_count": 5,
   "metadata": {},
   "outputs": [
    {
     "data": {
      "text/plain": [
       "Index(['Monster Name', 'Size', 'Type', 'Alignment', 'Traits', 'Reactions',\n",
       "       'Armor Class', 'Hit Points', 'Challenge', 'Proficiency Bonus', 'STR',\n",
       "       'DEX', 'CON', 'INT', 'WIS', 'CHA', 'Legendary Actions', 'Attack_Bonus',\n",
       "       'Spell_Bonus', 'Spell_Save_DC', 'WIS_SV', 'INT_SV', 'CHA_SV', 'STR_SV',\n",
       "       'DEX_SV', 'CON_SV', 'Arctic', 'Coastal', 'Desert', 'Forest',\n",
       "       'Grassland', 'Hill', 'Mountain', 'NA', 'Swamp', 'Underdark',\n",
       "       'Underwater', 'Urban', 'Average_Damage_per_Round', 'Damage Resistances',\n",
       "       'Damage Immunities', 'Condition Immunities', 'Damage Vulnerabilities',\n",
       "       'Spellcaster', 'Magic Resistance', 'Legendary Resistance',\n",
       "       'Regeneration', 'Undead Fortitude', 'Pack Tactics', 'Damage Transfer',\n",
       "       'Angelic Weapons', 'Charge', 'size_ordinal', 'aberration', 'beast',\n",
       "       'celestial', 'construct', 'dragon', 'elemental', 'fey', 'fiend',\n",
       "       'giant', 'humanoid', 'monstrosity', 'ooze', 'plant', 'swarm', 'undead',\n",
       "       'any alignment', 'any chaotic alignment', 'any evil alignment',\n",
       "       'any non-good alignment', 'any non-lawful alignment', 'chaotic evil',\n",
       "       'chaotic good', 'chaotic neutral', 'lawful evil', 'lawful good',\n",
       "       'lawful neutral', 'neutral', 'neutral evil', 'neutral good',\n",
       "       'unaligned', 'total_stats'],\n",
       "      dtype='object')"
      ]
     },
     "execution_count": 5,
     "metadata": {},
     "output_type": "execute_result"
    }
   ],
   "source": [
    "monster_df.columns"
   ]
  },
  {
   "cell_type": "code",
   "execution_count": 127,
   "metadata": {},
   "outputs": [],
   "source": [
    "## Train Test Split\n",
    "\n",
    "X = monster_df[['Challenge','Coastal','Arctic','Desert','Forest','Grassland', 'Hill', 'Mountain', 'NA', 'Swamp', 'Underdark','Underwater', 'Urban','size_ordinal', 'aberration', 'beast',\n",
    "       'celestial', 'construct', 'dragon', 'elemental', 'fey', 'fiend',\n",
    "       'giant', 'humanoid', 'monstrosity', 'ooze', 'plant', 'swarm', 'undead',\n",
    "       'any alignment', 'any chaotic alignment', 'any evil alignment',\n",
    "       'any non-good alignment', 'any non-lawful alignment', 'chaotic evil',\n",
    "       'chaotic good', 'chaotic neutral', 'lawful evil', 'lawful good',\n",
    "       'lawful neutral', 'neutral', 'neutral evil', 'neutral good',\n",
    "       'unaligned']]\n",
    "Y = monster_df[['Hit Points','Armor Class','STR','CON','WIS','INT','CHA','STR_SV','DEX_SV','CON_SV','WIS_SV','INT_SV','CHA_SV','Legendary Actions', 'Attack_Bonus','Average_Damage_per_Round', 'Damage Resistances',\n",
    "       'Damage Immunities', 'Condition Immunities', 'Damage Vulnerabilities',\n",
    "       'Spellcaster', 'Magic Resistance', 'Legendary Resistance',\n",
    "       'Regeneration', 'Undead Fortitude', 'Pack Tactics', 'Damage Transfer',\n",
    "       'Angelic Weapons', 'Charge', 'total_stats']]\n",
    "\n",
    "\n",
    "x_train, x_test, y_train, y_test = train_test_split(X,Y,test_size=0.3,random_state=42)\n",
    "\n",
    "\n",
    "\n"
   ]
  },
  {
   "cell_type": "markdown",
   "metadata": {},
   "source": [
    "## Linear Regression for Multioutput Regression"
   ]
  },
  {
   "cell_type": "code",
   "execution_count": 131,
   "metadata": {},
   "outputs": [
    {
     "name": "stdout",
     "output_type": "stream",
     "text": [
      "Training Score:  0.7070818680824811\n",
      "Testing Score:  0.6008806351547723\n"
     ]
    }
   ],
   "source": [
    "model = MultiOutputRegressor(LinearRegression())\n",
    "model.fit(x_train, y_train)\n",
    "print(\"Training Score: \", model.score(x_train, y_train))\n",
    "print(\"Testing Score: \",model.score(x_test, y_test))\n",
    "yhat_l = model.predict(x_test)"
   ]
  },
  {
   "cell_type": "markdown",
   "metadata": {},
   "source": [
    "## k-Nearest Neighbors for Multioutput Regression"
   ]
  },
  {
   "cell_type": "code",
   "execution_count": 132,
   "metadata": {},
   "outputs": [
    {
     "name": "stdout",
     "output_type": "stream",
     "text": [
      "Training Score:  0.6855566230992544\n",
      "Testing Score:  0.5834105958754812\n"
     ]
    }
   ],
   "source": [
    "model_k = MultiOutputRegressor(KNeighborsRegressor())\n",
    "model_k.fit(x_train, y_train)\n",
    "print(\"Training Score: \", model_k.score(x_train, y_train))\n",
    "print(\"Testing Score: \",model_k.score(x_test, y_test))\n",
    "yhat_l = model.predict(x_test)"
   ]
  },
  {
   "cell_type": "markdown",
   "metadata": {},
   "source": [
    "## Decision Tree Regressor for Multioutput Regression"
   ]
  },
  {
   "cell_type": "code",
   "execution_count": 133,
   "metadata": {},
   "outputs": [
    {
     "name": "stdout",
     "output_type": "stream",
     "text": [
      "Training Score:  0.9887761611262125\n",
      "Testing Score:  0.4953520957661531\n"
     ]
    }
   ],
   "source": [
    "model_D = MultiOutputRegressor(DecisionTreeRegressor(random_state=0))\n",
    "model_D.fit(x_train, y_train)\n",
    "print(\"Training Score: \", model_D.score(x_train, y_train))\n",
    "print(\"Testing Score: \",model_D.score(x_test, y_test))\n",
    "yhat_l = model.predict(x_test)"
   ]
  },
  {
   "cell_type": "markdown",
   "metadata": {},
   "source": [
    "## Random Forest Regressor for Multioutput Regression"
   ]
  },
  {
   "cell_type": "code",
   "execution_count": 130,
   "metadata": {},
   "outputs": [
    {
     "name": "stdout",
     "output_type": "stream",
     "text": [
      "Training Score:  0.8919863669991325\n",
      "Testing Score:  0.6706652268979919\n"
     ]
    }
   ],
   "source": [
    "model_R = MultiOutputRegressor(RandomForestRegressor(max_depth=7,random_state=0))\n",
    "model_R.fit(x_train, y_train)\n",
    "print(\"Training Score: \", model_R.score(x_train, y_train))\n",
    "print(\"Testing Score: \",model_R.score(x_test, y_test))"
   ]
  },
  {
   "cell_type": "code",
   "execution_count": null,
   "metadata": {},
   "outputs": [],
   "source": []
  }
 ],
 "metadata": {
  "interpreter": {
   "hash": "2db776f1d3cba7926000b31ed89fa7adb52a08316c2db55bfe9500ec477078b3"
  },
  "kernelspec": {
   "display_name": "Python 3.10.1 ('env': venv)",
   "language": "python",
   "name": "python3"
  },
  "language_info": {
   "codemirror_mode": {
    "name": "ipython",
    "version": 3
   },
   "file_extension": ".py",
   "mimetype": "text/x-python",
   "name": "python",
   "nbconvert_exporter": "python",
   "pygments_lexer": "ipython3",
   "version": "3.10.1"
  },
  "orig_nbformat": 4
 },
 "nbformat": 4,
 "nbformat_minor": 2
}
